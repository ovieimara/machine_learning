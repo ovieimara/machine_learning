{
  "nbformat": 4,
  "nbformat_minor": 0,
  "metadata": {
    "accelerator": "GPU",
    "colab": {
      "name": "l09c05_nlp_tweaking_the_model.ipynb",
      "provenance": [],
      "collapsed_sections": [],
      "toc_visible": true
    },
    "kernelspec": {
      "display_name": "Python 3",
      "name": "python3"
    }
  },
  "cells": [
    {
      "cell_type": "markdown",
      "metadata": {
        "id": "punL79CN7Ox6"
      },
      "source": [
        "##### Copyright 2020 The TensorFlow Authors."
      ]
    },
    {
      "cell_type": "code",
      "metadata": {
        "cellView": "form",
        "id": "_ckMIh7O7s6D"
      },
      "source": [
        "#@title Licensed under the Apache License, Version 2.0 (the \"License\");\n",
        "# you may not use this file except in compliance with the License.\n",
        "# You may obtain a copy of the License at\n",
        "#\n",
        "# https://www.apache.org/licenses/LICENSE-2.0\n",
        "#\n",
        "# Unless required by applicable law or agreed to in writing, software\n",
        "# distributed under the License is distributed on an \"AS IS\" BASIS,\n",
        "# WITHOUT WARRANTIES OR CONDITIONS OF ANY KIND, either express or implied.\n",
        "# See the License for the specific language governing permissions and\n",
        "# limitations under the License."
      ],
      "execution_count": null,
      "outputs": []
    },
    {
      "cell_type": "markdown",
      "metadata": {
        "id": "QrxSyyyhygUR"
      },
      "source": [
        "# Tweaking the Model"
      ]
    },
    {
      "cell_type": "markdown",
      "metadata": {
        "id": "S5Uhzt6vVIB2"
      },
      "source": [
        "<table class=\"tfo-notebook-buttons\" align=\"left\">\n",
        "  <td>\n",
        "    <a target=\"_blank\" href=\"https://colab.research.google.com/github/tensorflow/examples/blob/master/courses/udacity_intro_to_tensorflow_for_deep_learning/l09c05_nlp_tweaking_the_model.ipynb\"><img src=\"https://www.tensorflow.org/images/colab_logo_32px.png\" />Run in Google Colab</a>\n",
        "  </td>\n",
        "  <td>\n",
        "    <a target=\"_blank\" href=\"https://github.com/tensorflow/examples/blob/master/courses/udacity_intro_to_tensorflow_for_deep_learning/l09c05_nlp_tweaking_the_model.ipynb\"><img src=\"https://www.tensorflow.org/images/GitHub-Mark-32px.png\" />View source on GitHub</a>\n",
        "  </td>\n",
        "</table>"
      ]
    },
    {
      "cell_type": "markdown",
      "metadata": {
        "id": "xiWacy71Cu54"
      },
      "source": [
        "In this colab, you'll investigate how various tweaks to data processing and the model itself can impact results. At the end, you'll once again be able to visualize how the network sees the related sentiment of each word in the dataset."
      ]
    },
    {
      "cell_type": "markdown",
      "metadata": {
        "id": "hY-fjvwfy2P9"
      },
      "source": [
        "## Import TensorFlow and related functions"
      ]
    },
    {
      "cell_type": "code",
      "metadata": {
        "id": "drsUfVVXyxJl"
      },
      "source": [
        "import tensorflow as tf\n",
        "\n",
        "from tensorflow.keras.preprocessing.text import Tokenizer\n",
        "from tensorflow.keras.preprocessing.sequence import pad_sequences"
      ],
      "execution_count": 1,
      "outputs": []
    },
    {
      "cell_type": "markdown",
      "metadata": {
        "id": "ZIf1N46jy6Ed"
      },
      "source": [
        "## Get the dataset\n",
        "\n",
        "We'll once again use the dataset containing Amazon and Yelp reviews. This dataset was originally extracted from [here](https://www.kaggle.com/marklvl/sentiment-labelled-sentences-data-set)."
      ]
    },
    {
      "cell_type": "code",
      "metadata": {
        "id": "m83g42sJzGO0",
        "colab": {
          "base_uri": "https://localhost:8080/"
        },
        "outputId": "39f671fd-c113-4101-e875-d3d839cf937b"
      },
      "source": [
        "!wget --no-check-certificate \\\n",
        "    https://drive.google.com/uc?id=13ySLC_ue6Umt9RJYSeM2t-V0kCv-4C-P \\\n",
        "    -O /tmp/sentiment.csv"
      ],
      "execution_count": 2,
      "outputs": [
        {
          "output_type": "stream",
          "text": [
            "--2021-06-15 21:15:55--  https://drive.google.com/uc?id=13ySLC_ue6Umt9RJYSeM2t-V0kCv-4C-P\n",
            "Resolving drive.google.com (drive.google.com)... 216.58.192.78, 2607:f8b0:4026:802::200e\n",
            "Connecting to drive.google.com (drive.google.com)|216.58.192.78|:443... connected.\n",
            "HTTP request sent, awaiting response... 302 Moved Temporarily\n",
            "Location: https://doc-08-ak-docs.googleusercontent.com/docs/securesc/ha0ro937gcuc7l7deffksulhg5h7mbp1/dhjpaljauokqvn59od9qd943npdltv6i/1623791700000/11118900490791463723/*/13ySLC_ue6Umt9RJYSeM2t-V0kCv-4C-P [following]\n",
            "Warning: wildcards not supported in HTTP.\n",
            "--2021-06-15 21:15:55--  https://doc-08-ak-docs.googleusercontent.com/docs/securesc/ha0ro937gcuc7l7deffksulhg5h7mbp1/dhjpaljauokqvn59od9qd943npdltv6i/1623791700000/11118900490791463723/*/13ySLC_ue6Umt9RJYSeM2t-V0kCv-4C-P\n",
            "Resolving doc-08-ak-docs.googleusercontent.com (doc-08-ak-docs.googleusercontent.com)... 172.217.3.33, 2607:f8b0:4026:801::2001\n",
            "Connecting to doc-08-ak-docs.googleusercontent.com (doc-08-ak-docs.googleusercontent.com)|172.217.3.33|:443... connected.\n",
            "HTTP request sent, awaiting response... 200 OK\n",
            "Length: 127831 (125K) [text/csv]\n",
            "Saving to: ‘/tmp/sentiment.csv’\n",
            "\n",
            "/tmp/sentiment.csv  100%[===================>] 124.83K  --.-KB/s    in 0.08s   \n",
            "\n",
            "2021-06-15 21:15:56 (1.59 MB/s) - ‘/tmp/sentiment.csv’ saved [127831/127831]\n",
            "\n"
          ],
          "name": "stdout"
        }
      ]
    },
    {
      "cell_type": "code",
      "metadata": {
        "id": "y4e6GG2CzJUq"
      },
      "source": [
        "import numpy as np\n",
        "import pandas as pd\n",
        "\n",
        "dataset = pd.read_csv('/tmp/sentiment.csv')\n",
        "\n",
        "sentences = dataset['text'].tolist()\n",
        "labels = dataset['sentiment'].tolist()\n",
        "\n",
        "# Separate out the sentences and labels into training and test sets\n",
        "training_size = int(len(sentences) * 0.8)\n",
        "\n",
        "training_sentences = sentences[0:training_size]\n",
        "testing_sentences = sentences[training_size:]\n",
        "training_labels = labels[0:training_size]\n",
        "testing_labels = labels[training_size:]\n",
        "\n",
        "# Make labels into numpy arrays for use with the network later\n",
        "training_labels_final = np.array(training_labels)\n",
        "testing_labels_final = np.array(testing_labels)"
      ],
      "execution_count": 3,
      "outputs": []
    },
    {
      "cell_type": "markdown",
      "metadata": {
        "id": "drDkTFMuzW6N"
      },
      "source": [
        "## Tokenize the dataset (with tweaks!)\n",
        "\n",
        "Now, we'll tokenize the dataset, but we can make some changes to this from before. Previously, we used: \n",
        "```\n",
        "vocab_size = 1000\n",
        "embedding_dim = 16\n",
        "max_length = 100\n",
        "trunc_type='post'\n",
        "padding_type='post'\n",
        "```\n",
        "\n",
        "How might changing the `vocab_size`, `embedding_dim` or `max_length` affect how the model performs?"
      ]
    },
    {
      "cell_type": "code",
      "metadata": {
        "id": "hjPUJFhQzuee"
      },
      "source": [
        "vocab_size = 500\n",
        "embedding_dim = 16\n",
        "max_length = 50\n",
        "trunc_type='post'\n",
        "padding_type='post'\n",
        "oov_tok = \"<OOV>\"\n",
        "\n",
        "tokenizer = Tokenizer(num_words = vocab_size, oov_token=oov_tok)\n",
        "tokenizer.fit_on_texts(training_sentences)\n",
        "word_index = tokenizer.word_index\n",
        "training_sequences = tokenizer.texts_to_sequences(training_sentences)\n",
        "training_padded = pad_sequences(training_sequences, maxlen=max_length, padding=padding_type, truncating=trunc_type)\n",
        "\n",
        "testing_sequences = tokenizer.texts_to_sequences(testing_sentences)\n",
        "testing_padded = pad_sequences(testing_sequences, maxlen=max_length, padding=padding_type, truncating=trunc_type)"
      ],
      "execution_count": 4,
      "outputs": []
    },
    {
      "cell_type": "markdown",
      "metadata": {
        "id": "FwFjO1kg0UUK"
      },
      "source": [
        "## Train a Sentiment Model (with tweaks!)\n",
        "\n",
        "We'll use a slightly different model here, using `GlobalAveragePooling1D` instead of `Flatten()`."
      ]
    },
    {
      "cell_type": "code",
      "metadata": {
        "id": "ectP92fl0dFO",
        "colab": {
          "base_uri": "https://localhost:8080/"
        },
        "outputId": "968d0cd4-90a3-431c-d115-692460758962"
      },
      "source": [
        "model = tf.keras.Sequential([\n",
        "    tf.keras.layers.Embedding(vocab_size, embedding_dim, input_length=max_length),\n",
        "    tf.keras.layers.GlobalAveragePooling1D(),\n",
        "    tf.keras.layers.Dense(6, activation='relu'),\n",
        "    tf.keras.layers.Dense(1, activation='sigmoid')\n",
        "])\n",
        "model.compile(loss='binary_crossentropy',optimizer='adam',metrics=['accuracy'])\n",
        "model.summary()"
      ],
      "execution_count": 5,
      "outputs": [
        {
          "output_type": "stream",
          "text": [
            "Model: \"sequential\"\n",
            "_________________________________________________________________\n",
            "Layer (type)                 Output Shape              Param #   \n",
            "=================================================================\n",
            "embedding (Embedding)        (None, 50, 16)            8000      \n",
            "_________________________________________________________________\n",
            "global_average_pooling1d (Gl (None, 16)                0         \n",
            "_________________________________________________________________\n",
            "dense (Dense)                (None, 6)                 102       \n",
            "_________________________________________________________________\n",
            "dense_1 (Dense)              (None, 1)                 7         \n",
            "=================================================================\n",
            "Total params: 8,109\n",
            "Trainable params: 8,109\n",
            "Non-trainable params: 0\n",
            "_________________________________________________________________\n"
          ],
          "name": "stdout"
        }
      ]
    },
    {
      "cell_type": "code",
      "metadata": {
        "id": "7TQIaGjs073w",
        "colab": {
          "base_uri": "https://localhost:8080/"
        },
        "outputId": "e9d04672-022a-43b8-f92c-02c782b3d933"
      },
      "source": [
        "num_epochs = 30\n",
        "history = model.fit(training_padded, training_labels_final, epochs=num_epochs, validation_data=(testing_padded, testing_labels_final))"
      ],
      "execution_count": 6,
      "outputs": [
        {
          "output_type": "stream",
          "text": [
            "Epoch 1/30\n",
            "50/50 [==============================] - 4s 6ms/step - loss: 0.6917 - accuracy: 0.5223 - val_loss: 0.6991 - val_accuracy: 0.4110\n",
            "Epoch 2/30\n",
            "50/50 [==============================] - 0s 4ms/step - loss: 0.6891 - accuracy: 0.5279 - val_loss: 0.6981 - val_accuracy: 0.4286\n",
            "Epoch 3/30\n",
            "50/50 [==============================] - 0s 4ms/step - loss: 0.6849 - accuracy: 0.5355 - val_loss: 0.6953 - val_accuracy: 0.4436\n",
            "Epoch 4/30\n",
            "50/50 [==============================] - 0s 3ms/step - loss: 0.6785 - accuracy: 0.5606 - val_loss: 0.6882 - val_accuracy: 0.4962\n",
            "Epoch 5/30\n",
            "50/50 [==============================] - 0s 4ms/step - loss: 0.6692 - accuracy: 0.5926 - val_loss: 0.6823 - val_accuracy: 0.5163\n",
            "Epoch 6/30\n",
            "50/50 [==============================] - 0s 4ms/step - loss: 0.6549 - accuracy: 0.6390 - val_loss: 0.6758 - val_accuracy: 0.5338\n",
            "Epoch 7/30\n",
            "50/50 [==============================] - 0s 4ms/step - loss: 0.6388 - accuracy: 0.6698 - val_loss: 0.6566 - val_accuracy: 0.5940\n",
            "Epoch 8/30\n",
            "50/50 [==============================] - 0s 4ms/step - loss: 0.6124 - accuracy: 0.7345 - val_loss: 0.6586 - val_accuracy: 0.5388\n",
            "Epoch 9/30\n",
            "50/50 [==============================] - 0s 4ms/step - loss: 0.5841 - accuracy: 0.7546 - val_loss: 0.6162 - val_accuracy: 0.7018\n",
            "Epoch 10/30\n",
            "50/50 [==============================] - 0s 4ms/step - loss: 0.5535 - accuracy: 0.7797 - val_loss: 0.6212 - val_accuracy: 0.6090\n",
            "Epoch 11/30\n",
            "50/50 [==============================] - 0s 4ms/step - loss: 0.5230 - accuracy: 0.8173 - val_loss: 0.5775 - val_accuracy: 0.7293\n",
            "Epoch 12/30\n",
            "50/50 [==============================] - 0s 4ms/step - loss: 0.4905 - accuracy: 0.8293 - val_loss: 0.5666 - val_accuracy: 0.7118\n",
            "Epoch 13/30\n",
            "50/50 [==============================] - 0s 3ms/step - loss: 0.4608 - accuracy: 0.8387 - val_loss: 0.5585 - val_accuracy: 0.6992\n",
            "Epoch 14/30\n",
            "50/50 [==============================] - 0s 4ms/step - loss: 0.4369 - accuracy: 0.8468 - val_loss: 0.5278 - val_accuracy: 0.7494\n",
            "Epoch 15/30\n",
            "50/50 [==============================] - 0s 4ms/step - loss: 0.4112 - accuracy: 0.8506 - val_loss: 0.5207 - val_accuracy: 0.7368\n",
            "Epoch 16/30\n",
            "50/50 [==============================] - 0s 4ms/step - loss: 0.3890 - accuracy: 0.8613 - val_loss: 0.5180 - val_accuracy: 0.7318\n",
            "Epoch 17/30\n",
            "50/50 [==============================] - 0s 4ms/step - loss: 0.3700 - accuracy: 0.8663 - val_loss: 0.5038 - val_accuracy: 0.7519\n",
            "Epoch 18/30\n",
            "50/50 [==============================] - 0s 4ms/step - loss: 0.3523 - accuracy: 0.8726 - val_loss: 0.5191 - val_accuracy: 0.7093\n",
            "Epoch 19/30\n",
            "50/50 [==============================] - 0s 4ms/step - loss: 0.3391 - accuracy: 0.8763 - val_loss: 0.4921 - val_accuracy: 0.7544\n",
            "Epoch 20/30\n",
            "50/50 [==============================] - 0s 4ms/step - loss: 0.3243 - accuracy: 0.8795 - val_loss: 0.4884 - val_accuracy: 0.7619\n",
            "Epoch 21/30\n",
            "50/50 [==============================] - 0s 4ms/step - loss: 0.3106 - accuracy: 0.8814 - val_loss: 0.4984 - val_accuracy: 0.7494\n",
            "Epoch 22/30\n",
            "50/50 [==============================] - 0s 3ms/step - loss: 0.3005 - accuracy: 0.8889 - val_loss: 0.4738 - val_accuracy: 0.7794\n",
            "Epoch 23/30\n",
            "50/50 [==============================] - 0s 4ms/step - loss: 0.2916 - accuracy: 0.8883 - val_loss: 0.5124 - val_accuracy: 0.7293\n",
            "Epoch 24/30\n",
            "50/50 [==============================] - 0s 4ms/step - loss: 0.2820 - accuracy: 0.8958 - val_loss: 0.5025 - val_accuracy: 0.7343\n",
            "Epoch 25/30\n",
            "50/50 [==============================] - 0s 4ms/step - loss: 0.2742 - accuracy: 0.8983 - val_loss: 0.4940 - val_accuracy: 0.7494\n",
            "Epoch 26/30\n",
            "50/50 [==============================] - 0s 4ms/step - loss: 0.2653 - accuracy: 0.8989 - val_loss: 0.5216 - val_accuracy: 0.7243\n",
            "Epoch 27/30\n",
            "50/50 [==============================] - 0s 4ms/step - loss: 0.2583 - accuracy: 0.9002 - val_loss: 0.4910 - val_accuracy: 0.7544\n",
            "Epoch 28/30\n",
            "50/50 [==============================] - 0s 4ms/step - loss: 0.2532 - accuracy: 0.9008 - val_loss: 0.4860 - val_accuracy: 0.7694\n",
            "Epoch 29/30\n",
            "50/50 [==============================] - 0s 4ms/step - loss: 0.2497 - accuracy: 0.9040 - val_loss: 0.4897 - val_accuracy: 0.7644\n",
            "Epoch 30/30\n",
            "50/50 [==============================] - 0s 4ms/step - loss: 0.2407 - accuracy: 0.9077 - val_loss: 0.4805 - val_accuracy: 0.7794\n"
          ],
          "name": "stdout"
        }
      ]
    },
    {
      "cell_type": "markdown",
      "metadata": {
        "id": "alAlYort7gWV"
      },
      "source": [
        "## Visualize the training graph\n",
        "\n",
        "You can use the code below to visualize the training and validation accuracy while you try out different tweaks to the hyperparameters and model."
      ]
    },
    {
      "cell_type": "code",
      "metadata": {
        "id": "o9l5vBeU71vH",
        "colab": {
          "base_uri": "https://localhost:8080/",
          "height": 541
        },
        "outputId": "6d171136-bc07-4beb-9922-fc61e42f1c95"
      },
      "source": [
        "import matplotlib.pyplot as plt\n",
        "\n",
        "\n",
        "def plot_graphs(history, string):\n",
        "  plt.plot(history.history[string])\n",
        "  plt.plot(history.history['val_'+string])\n",
        "  plt.xlabel(\"Epochs\")\n",
        "  plt.ylabel(string)\n",
        "  plt.legend([string, 'val_'+string])\n",
        "  plt.show()\n",
        "  \n",
        "plot_graphs(history, \"accuracy\")\n",
        "plot_graphs(history, \"loss\")"
      ],
      "execution_count": 7,
      "outputs": [
        {
          "output_type": "display_data",
          "data": {
            "image/png": "[encoded data removed]",
            "text/plain": [
              "<Figure size 432x288 with 1 Axes>"
            ]
          },
          "metadata": {
            "tags": [],
            "needs_background": "light"
          }
        },
        {
          "output_type": "display_data",
          "data": {
            "image/png": "[encoded data removed]",
            "text/plain": [
              "<Figure size 432x288 with 1 Axes>"
            ]
          },
          "metadata": {
            "tags": [],
            "needs_background": "light"
          }
        }
      ]
    },
    {
      "cell_type": "markdown",
      "metadata": {
        "id": "SZzXE-pT8K57"
      },
      "source": [
        "## Get files for visualizing the network\n",
        "\n",
        "The code below will download two files for visualizing how your network \"sees\" the sentiment related to each word. Head to http://projector.tensorflow.org/ and load these files, then click the checkbox to \"sphereize\" the data.\n",
        "\n",
        "Note: You may run into errors with the projection if your `vocab_size` earlier was larger than the actual number of words in the vocabulary, in which case you'll need to decrease this variable and re-train in order to visualize."
      ]
    },
    {
      "cell_type": "code",
      "metadata": {
        "id": "2Ex4o7Lc8Njl",
        "colab": {
          "base_uri": "https://localhost:8080/"
        },
        "outputId": "857e7168-054f-4fb9-a9e8-5e7024b81db2"
      },
      "source": [
        "# First get the weights of the embedding layer\n",
        "e = model.layers[0]\n",
        "weights = e.get_weights()[0]\n",
        "print(weights.shape) # shape: (vocab_size, embedding_dim)"
      ],
      "execution_count": 8,
      "outputs": [
        {
          "output_type": "stream",
          "text": [
            "(500, 16)\n"
          ],
          "name": "stdout"
        }
      ]
    },
    {
      "cell_type": "code",
      "metadata": {
        "id": "bUL1zk5p8WIV"
      },
      "source": [
        "import io\n",
        "\n",
        "# Create the reverse word index\n",
        "reverse_word_index = dict([(value, key) for (key, value) in word_index.items()])\n",
        "\n",
        "# Write out the embedding vectors and metadata\n",
        "out_v = io.open('vecs.tsv', 'w', encoding='utf-8')\n",
        "out_m = io.open('meta.tsv', 'w', encoding='utf-8')\n",
        "for word_num in range(1, vocab_size):\n",
        "  word = reverse_word_index[word_num]\n",
        "  embeddings = weights[word_num]\n",
        "  out_m.write(word + \"\\n\")\n",
        "  out_v.write('\\t'.join([str(x) for x in embeddings]) + \"\\n\")\n",
        "out_v.close()\n",
        "out_m.close()"
      ],
      "execution_count": 9,
      "outputs": []
    },
    {
      "cell_type": "code",
      "metadata": {
        "id": "lqyV8QYnD46U",
        "colab": {
          "base_uri": "https://localhost:8080/",
          "height": 17
        },
        "outputId": "2d2b558f-c154-4c22-c118-c380e4b0deb3"
      },
      "source": [
        "# Download the files\n",
        "try:\n",
        "  from google.colab import files\n",
        "except ImportError:\n",
        "  pass\n",
        "else:\n",
        "  files.download('vecs.tsv')\n",
        "  files.download('meta.tsv')"
      ],
      "execution_count": 10,
      "outputs": [
        {
          "output_type": "display_data",
          "data": {
            "application/javascript": [
              "\n",
              "    async function download(id, filename, size) {\n",
              "      if (!google.colab.kernel.accessAllowed) {\n",
              "        return;\n",
              "      }\n",
              "      const div = document.createElement('div');\n",
              "      const label = document.createElement('label');\n",
              "      label.textContent = `Downloading \"${filename}\": `;\n",
              "      div.appendChild(label);\n",
              "      const progress = document.createElement('progress');\n",
              "      progress.max = size;\n",
              "      div.appendChild(progress);\n",
              "      document.body.appendChild(div);\n",
              "\n",
              "      const buffers = [];\n",
              "      let downloaded = 0;\n",
              "\n",
              "      const channel = await google.colab.kernel.comms.open(id);\n",
              "      // Send a message to notify the kernel that we're ready.\n",
              "      channel.send({})\n",
              "\n",
              "      for await (const message of channel.messages) {\n",
              "        // Send a message to notify the kernel that we're ready.\n",
              "        channel.send({})\n",
              "        if (message.buffers) {\n",
              "          for (const buffer of message.buffers) {\n",
              "            buffers.push(buffer);\n",
              "            downloaded += buffer.byteLength;\n",
              "            progress.value = downloaded;\n",
              "          }\n",
              "        }\n",
              "      }\n",
              "      const blob = new Blob(buffers, {type: 'application/binary'});\n",
              "      const a = document.createElement('a');\n",
              "      a.href = window.URL.createObjectURL(blob);\n",
              "      a.download = filename;\n",
              "      div.appendChild(a);\n",
              "      a.click();\n",
              "      div.remove();\n",
              "    }\n",
              "  "
            ],
            "text/plain": [
              "<IPython.core.display.Javascript object>"
            ]
          },
          "metadata": {
            "tags": []
          }
        },
        {
          "output_type": "display_data",
          "data": {
            "application/javascript": [
              "download(\"download_06f5a0f7-dc25-4335-9c37-fec02cd9d639\", \"vecs.tsv\", 91438)"
            ],
            "text/plain": [
              "<IPython.core.display.Javascript object>"
            ]
          },
          "metadata": {
            "tags": []
          }
        },
        {
          "output_type": "display_data",
          "data": {
            "application/javascript": [
              "\n",
              "    async function download(id, filename, size) {\n",
              "      if (!google.colab.kernel.accessAllowed) {\n",
              "        return;\n",
              "      }\n",
              "      const div = document.createElement('div');\n",
              "      const label = document.createElement('label');\n",
              "      label.textContent = `Downloading \"${filename}\": `;\n",
              "      div.appendChild(label);\n",
              "      const progress = document.createElement('progress');\n",
              "      progress.max = size;\n",
              "      div.appendChild(progress);\n",
              "      document.body.appendChild(div);\n",
              "\n",
              "      const buffers = [];\n",
              "      let downloaded = 0;\n",
              "\n",
              "      const channel = await google.colab.kernel.comms.open(id);\n",
              "      // Send a message to notify the kernel that we're ready.\n",
              "      channel.send({})\n",
              "\n",
              "      for await (const message of channel.messages) {\n",
              "        // Send a message to notify the kernel that we're ready.\n",
              "        channel.send({})\n",
              "        if (message.buffers) {\n",
              "          for (const buffer of message.buffers) {\n",
              "            buffers.push(buffer);\n",
              "            downloaded += buffer.byteLength;\n",
              "            progress.value = downloaded;\n",
              "          }\n",
              "        }\n",
              "      }\n",
              "      const blob = new Blob(buffers, {type: 'application/binary'});\n",
              "      const a = document.createElement('a');\n",
              "      a.href = window.URL.createObjectURL(blob);\n",
              "      a.download = filename;\n",
              "      div.appendChild(a);\n",
              "      a.click();\n",
              "      div.remove();\n",
              "    }\n",
              "  "
            ],
            "text/plain": [
              "<IPython.core.display.Javascript object>"
            ]
          },
          "metadata": {
            "tags": []
          }
        },
        {
          "output_type": "display_data",
          "data": {
            "application/javascript": [
              "download(\"download_0bc6d8cf-0621-4226-844a-582c498d62c7\", \"meta.tsv\", 3025)"
            ],
            "text/plain": [
              "<IPython.core.display.Javascript object>"
            ]
          },
          "metadata": {
            "tags": []
          }
        }
      ]
    },
    {
      "cell_type": "markdown",
      "metadata": {
        "id": "XUXAlNNk59gG"
      },
      "source": [
        "## Predicting Sentiment in New Reviews\n",
        "\n",
        "Below, we've again included some example new reviews you can test your results on."
      ]
    },
    {
      "cell_type": "code",
      "metadata": {
        "id": "JbFTTcaK6Dan",
        "colab": {
          "base_uri": "https://localhost:8080/"
        },
        "outputId": "32ed74a8-5d13-4a25-a947-22a4b38187a2"
      },
      "source": [
        "# Use the model to predict a review   \n",
        "fake_reviews = ['I love this phone', 'I hate spaghetti', \n",
        "                'Everything was cold',\n",
        "                'Everything was hot exactly as I wanted', \n",
        "                'Everything was green', \n",
        "                'the host seated us immediately',\n",
        "                'they gave us free chocolate cake', \n",
        "                'not sure about the wilted flowers on the table',\n",
        "                'only works when I stand on tippy toes', \n",
        "                'does not work when I stand on my head']\n",
        "\n",
        "print(fake_reviews) \n",
        "\n",
        "# Create the sequences\n",
        "padding_type='post'\n",
        "sample_sequences = tokenizer.texts_to_sequences(fake_reviews)\n",
        "fakes_padded = pad_sequences(sample_sequences, padding=padding_type, maxlen=max_length)           \n",
        "\n",
        "print('\\nHOT OFF THE PRESS! HERE ARE SOME NEWLY MINTED, ABSOLUTELY GENUINE REVIEWS!\\n')              \n",
        "\n",
        "classes = model.predict(fakes_padded)\n",
        "\n",
        "# The closer the class is to 1, the more positive the review is deemed to be\n",
        "for x in range(len(fake_reviews)):\n",
        "  print(fake_reviews[x])\n",
        "  print(classes[x])\n",
        "  print('\\n')\n",
        "\n",
        "# Try adding reviews of your own\n",
        "# Add some negative words (such as \"not\") to the good reviews and see what happens\n",
        "# For example:\n",
        "# they gave us free chocolate cake and did not charge us"
      ],
      "execution_count": 11,
      "outputs": [
        {
          "output_type": "stream",
          "text": [
            "['I love this phone', 'I hate spaghetti', 'Everything was cold', 'Everything was hot exactly as I wanted', 'Everything was green', 'the host seated us immediately', 'they gave us free chocolate cake', 'not sure about the wilted flowers on the table', 'only works when I stand on tippy toes', 'does not work when I stand on my head']\n",
            "\n",
            "HOT OFF THE PRESS! HERE ARE SOME NEWLY MINTED, ABSOLUTELY GENUINE REVIEWS!\n",
            "\n",
            "I love this phone\n",
            "[0.92129326]\n",
            "\n",
            "\n",
            "I hate spaghetti\n",
            "[0.10549998]\n",
            "\n",
            "\n",
            "Everything was cold\n",
            "[0.5133137]\n",
            "\n",
            "\n",
            "Everything was hot exactly as I wanted\n",
            "[0.33698398]\n",
            "\n",
            "\n",
            "Everything was green\n",
            "[0.5133137]\n",
            "\n",
            "\n",
            "the host seated us immediately\n",
            "[0.5215704]\n",
            "\n",
            "\n",
            "they gave us free chocolate cake\n",
            "[0.8651692]\n",
            "\n",
            "\n",
            "not sure about the wilted flowers on the table\n",
            "[0.05618324]\n",
            "\n",
            "\n",
            "only works when I stand on tippy toes\n",
            "[0.89131296]\n",
            "\n",
            "\n",
            "does not work when I stand on my head\n",
            "[0.04501828]\n",
            "\n",
            "\n"
          ],
          "name": "stdout"
        }
      ]
    }
  ]
}