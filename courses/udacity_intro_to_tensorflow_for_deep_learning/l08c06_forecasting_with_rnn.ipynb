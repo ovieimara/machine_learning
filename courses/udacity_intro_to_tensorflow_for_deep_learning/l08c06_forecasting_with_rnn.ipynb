{
  "nbformat": 4,
  "nbformat_minor": 0,
  "metadata": {
    "colab": {
      "name": "l08c06_forecasting_with_rnn.ipynb",
      "provenance": [],
      "collapsed_sections": [
        "vidayERjaO5q"
      ],
      "toc_visible": true
    },
    "kernelspec": {
      "display_name": "Python 3",
      "name": "python3"
    }
  },
  "cells": [
    {
      "cell_type": "markdown",
      "metadata": {
        "id": "Za8-Nr5k11fh"
      },
      "source": [
        "##### Copyright 2018 The TensorFlow Authors."
      ]
    },
    {
      "cell_type": "code",
      "metadata": {
        "cellView": "form",
        "id": "Eq10uEbw0E4l"
      },
      "source": [
        "#@title Licensed under the Apache License, Version 2.0 (the \"License\");\n",
        "# you may not use this file except in compliance with the License.\n",
        "# You may obtain a copy of the License at\n",
        "#\n",
        "# https://www.apache.org/licenses/LICENSE-2.0\n",
        "#\n",
        "# Unless required by applicable law or agreed to in writing, software\n",
        "# distributed under the License is distributed on an \"AS IS\" BASIS,\n",
        "# WITHOUT WARRANTIES OR CONDITIONS OF ANY KIND, either express or implied.\n",
        "# See the License for the specific language governing permissions and\n",
        "# limitations under the License."
      ],
      "execution_count": null,
      "outputs": []
    },
    {
      "cell_type": "markdown",
      "metadata": {
        "id": "nuRx7K-sirJr"
      },
      "source": [
        "# Forecasting with an RNN"
      ]
    },
    {
      "cell_type": "markdown",
      "metadata": {
        "id": "97jsq1rHh2Ds"
      },
      "source": [
        "<table class=\"tfo-notebook-buttons\" align=\"left\">\n",
        "  <td>\n",
        "    <a target=\"_blank\" href=\"https://colab.research.google.com/github/tensorflow/examples/blob/master/courses/udacity_intro_to_tensorflow_for_deep_learning/l08c06_forecasting_with_rnn.ipynb\"><img src=\"https://www.tensorflow.org/images/colab_logo_32px.png\" />Run in Google Colab</a>\n",
        "  </td>\n",
        "  <td>\n",
        "    <a target=\"_blank\" href=\"https://github.com/tensorflow/examples/blob/master/courses/udacity_intro_to_tensorflow_for_deep_learning/l08c06_forecasting_with_rnn.ipynb\"><img src=\"https://www.tensorflow.org/images/GitHub-Mark-32px.png\" />View source on GitHub</a>\n",
        "  </td>\n",
        "</table>"
      ]
    },
    {
      "cell_type": "markdown",
      "metadata": {
        "id": "vidayERjaO5q"
      },
      "source": [
        "## Setup"
      ]
    },
    {
      "cell_type": "code",
      "metadata": {
        "id": "gqWabzlJ63nL"
      },
      "source": [
        "import numpy as np\n",
        "import matplotlib.pyplot as plt\n",
        "import tensorflow as tf\n",
        "\n",
        "keras = tf.keras"
      ],
      "execution_count": 1,
      "outputs": []
    },
    {
      "cell_type": "code",
      "metadata": {
        "id": "cg1hfKCPldZG"
      },
      "source": [
        "def plot_series(time, series, format=\"-\", start=0, end=None, label=None):\n",
        "    plt.plot(time[start:end], series[start:end], format, label=label)\n",
        "    plt.xlabel(\"Time\")\n",
        "    plt.ylabel(\"Value\")\n",
        "    if label:\n",
        "        plt.legend(fontsize=14)\n",
        "    plt.grid(True)\n",
        "    \n",
        "def trend(time, slope=0):\n",
        "    return slope * time\n",
        "  \n",
        "  \n",
        "def seasonal_pattern(season_time):\n",
        "    \"\"\"Just an arbitrary pattern, you can change it if you wish\"\"\"\n",
        "    return np.where(season_time < 0.4,\n",
        "                    np.cos(season_time * 2 * np.pi),\n",
        "                    1 / np.exp(3 * season_time))\n",
        "\n",
        "  \n",
        "def seasonality(time, period, amplitude=1, phase=0):\n",
        "    \"\"\"Repeats the same pattern at each period\"\"\"\n",
        "    season_time = ((time + phase) % period) / period\n",
        "    return amplitude * seasonal_pattern(season_time)\n",
        "  \n",
        "  \n",
        "def white_noise(time, noise_level=1, seed=None):\n",
        "    rnd = np.random.RandomState(seed)\n",
        "    return rnd.randn(len(time)) * noise_level\n",
        "  \n",
        "  \n",
        "def window_dataset(series, window_size, batch_size=32,\n",
        "                   shuffle_buffer=1000):\n",
        "    dataset = tf.data.Dataset.from_tensor_slices(series)\n",
        "    print(next(iter(dataset)))\n",
        "\n",
        "    dataset = dataset.window(window_size + 1, shift=1, drop_remainder=True)\n",
        "    dataset = dataset.flat_map(lambda window: window.batch(window_size + 1))\n",
        "    dataset = dataset.shuffle(shuffle_buffer)\n",
        "    dataset = dataset.map(lambda window: (window[:-1], window[-1]))\n",
        "    dataset = dataset.batch(batch_size).prefetch(1)\n",
        "    return dataset\n",
        "  \n",
        "def model_forecast(model, series, window_size):\n",
        "    ds = tf.data.Dataset.from_tensor_slices(series)\n",
        "    ds = ds.window(window_size, shift=1, drop_remainder=True)\n",
        "    ds = ds.flat_map(lambda w: w.batch(window_size))\n",
        "    ds = ds.batch(32).prefetch(1)\n",
        "    forecast = model.predict(ds)\n",
        "    return forecast"
      ],
      "execution_count": 6,
      "outputs": []
    },
    {
      "cell_type": "code",
      "metadata": {
        "id": "iL2DDjV3lel6",
        "outputId": "e738d500-b0fa-4f1d-bb4a-ab7ec86fed74",
        "colab": {
          "base_uri": "https://localhost:8080/",
          "height": 388
        }
      },
      "source": [
        "time = np.arange(4 * 365 + 1)\n",
        "\n",
        "slope = 0.05\n",
        "baseline = 10\n",
        "amplitude = 40\n",
        "series = baseline + trend(time, slope) + seasonality(time, period=365, amplitude=amplitude)\n",
        "\n",
        "noise_level = 5\n",
        "noise = white_noise(time, noise_level, seed=42)\n",
        "\n",
        "series += noise\n",
        "\n",
        "plt.figure(figsize=(10, 6))\n",
        "plot_series(time, series)\n",
        "plt.show()"
      ],
      "execution_count": 7,
      "outputs": [
        {
          "output_type": "display_data",
          "data": {
            "image/png": "[encoded data removed]",
            "text/plain": [
              "<Figure size 720x432 with 1 Axes>"
            ]
          },
          "metadata": {
            "tags": [],
            "needs_background": "light"
          }
        }
      ]
    },
    {
      "cell_type": "code",
      "metadata": {
        "id": "Zmp1JXKxk9Vb"
      },
      "source": [
        "split_time = 1000\n",
        "time_train = time[:split_time]\n",
        "x_train = series[:split_time]\n",
        "time_valid = time[split_time:]\n",
        "x_valid = series[split_time:]"
      ],
      "execution_count": 8,
      "outputs": []
    },
    {
      "cell_type": "markdown",
      "metadata": {
        "id": "vDs_w3kZ8OIw"
      },
      "source": [
        "## Simple RNN Forecasting"
      ]
    },
    {
      "cell_type": "code",
      "metadata": {
        "id": "YU4xRp9G8OIx",
        "outputId": "e861511e-1340-4be1-cccb-54b39e8f1d72",
        "colab": {
          "base_uri": "https://localhost:8080/"
        }
      },
      "source": [
        "keras.backend.clear_session()\n",
        "tf.random.set_seed(42)\n",
        "np.random.seed(42)\n",
        "\n",
        "window_size = 30\n",
        "train_set = window_dataset(x_train, window_size, batch_size=128)\n",
        "\n",
        "model = keras.models.Sequential([\n",
        "  keras.layers.Lambda(lambda x: tf.expand_dims(x, axis=-1),\n",
        "                      input_shape=[None]),\n",
        "  keras.layers.SimpleRNN(100, return_sequences=True),\n",
        "  keras.layers.SimpleRNN(100),\n",
        "  keras.layers.Dense(1),\n",
        "  keras.layers.Lambda(lambda x: x * 200.0)\n",
        "])\n",
        "lr_schedule = keras.callbacks.LearningRateScheduler(\n",
        "    lambda epoch: 1e-7 * 10**(epoch / 20))\n",
        "optimizer = keras.optimizers.SGD(lr=1e-7, momentum=0.9)\n",
        "model.compile(loss=keras.losses.Huber(),\n",
        "              optimizer=optimizer,\n",
        "              metrics=[\"mae\"])\n",
        "history = model.fit(train_set, epochs=100, callbacks=[lr_schedule])"
      ],
      "execution_count": 9,
      "outputs": [
        {
          "output_type": "stream",
          "text": [
            "tf.Tensor(52.483570765056164, shape=(), dtype=float64)\n"
          ],
          "name": "stdout"
        },
        {
          "output_type": "stream",
          "text": [
            "/usr/local/lib/python3.7/dist-packages/tensorflow/python/keras/optimizer_v2/optimizer_v2.py:375: UserWarning: The `lr` argument is deprecated, use `learning_rate` instead.\n",
            "  \"The `lr` argument is deprecated, use `learning_rate` instead.\")\n"
          ],
          "name": "stderr"
        },
        {
          "output_type": "stream",
          "text": [
            "Epoch 1/100\n",
            "8/8 [==============================] - 2s 34ms/step - loss: 50.2169 - mae: 50.7167\n",
            "Epoch 2/100\n",
            "8/8 [==============================] - 0s 29ms/step - loss: 23.0009 - mae: 23.4932\n",
            "Epoch 3/100\n",
            "8/8 [==============================] - 0s 28ms/step - loss: 19.2073 - mae: 19.7003\n",
            "Epoch 4/100\n",
            "8/8 [==============================] - 0s 28ms/step - loss: 16.9702 - mae: 17.4605\n",
            "Epoch 5/100\n",
            "8/8 [==============================] - 0s 28ms/step - loss: 15.4093 - mae: 15.8988\n",
            "Epoch 6/100\n",
            "8/8 [==============================] - 0s 28ms/step - loss: 14.7507 - mae: 15.2367\n",
            "Epoch 7/100\n",
            "8/8 [==============================] - 0s 26ms/step - loss: 14.3058 - mae: 14.7931\n",
            "Epoch 8/100\n",
            "8/8 [==============================] - 0s 27ms/step - loss: 14.0615 - mae: 14.5512\n",
            "Epoch 9/100\n",
            "8/8 [==============================] - 0s 27ms/step - loss: 13.7812 - mae: 14.2687\n",
            "Epoch 10/100\n",
            "8/8 [==============================] - 0s 27ms/step - loss: 13.5640 - mae: 14.0522\n",
            "Epoch 11/100\n",
            "8/8 [==============================] - 0s 28ms/step - loss: 13.4094 - mae: 13.8972\n",
            "Epoch 12/100\n",
            "8/8 [==============================] - 0s 27ms/step - loss: 13.0179 - mae: 13.5048\n",
            "Epoch 13/100\n",
            "8/8 [==============================] - 0s 29ms/step - loss: 12.8762 - mae: 13.3629\n",
            "Epoch 14/100\n",
            "8/8 [==============================] - 0s 27ms/step - loss: 12.3934 - mae: 12.8809\n",
            "Epoch 15/100\n",
            "8/8 [==============================] - 0s 28ms/step - loss: 12.0738 - mae: 12.5614\n",
            "Epoch 16/100\n",
            "8/8 [==============================] - 0s 26ms/step - loss: 11.8488 - mae: 12.3347\n",
            "Epoch 17/100\n",
            "8/8 [==============================] - 0s 28ms/step - loss: 11.4459 - mae: 11.9320\n",
            "Epoch 18/100\n",
            "8/8 [==============================] - 0s 27ms/step - loss: 11.1943 - mae: 11.6819\n",
            "Epoch 19/100\n",
            "8/8 [==============================] - 0s 27ms/step - loss: 10.9563 - mae: 11.4441\n",
            "Epoch 20/100\n",
            "8/8 [==============================] - 0s 28ms/step - loss: 10.6491 - mae: 11.1317\n",
            "Epoch 21/100\n",
            "8/8 [==============================] - 0s 27ms/step - loss: 10.3188 - mae: 10.8052\n",
            "Epoch 22/100\n",
            "8/8 [==============================] - 0s 28ms/step - loss: 10.3916 - mae: 10.8774\n",
            "Epoch 23/100\n",
            "8/8 [==============================] - 0s 26ms/step - loss: 9.8751 - mae: 10.3596\n",
            "Epoch 24/100\n",
            "8/8 [==============================] - 0s 27ms/step - loss: 10.1089 - mae: 10.5951\n",
            "Epoch 25/100\n",
            "8/8 [==============================] - 0s 27ms/step - loss: 9.8868 - mae: 10.3705\n",
            "Epoch 26/100\n",
            "8/8 [==============================] - 0s 26ms/step - loss: 11.5286 - mae: 12.0164\n",
            "Epoch 27/100\n",
            "8/8 [==============================] - 0s 27ms/step - loss: 10.3057 - mae: 10.7935\n",
            "Epoch 28/100\n",
            "8/8 [==============================] - 0s 26ms/step - loss: 9.2493 - mae: 9.7368\n",
            "Epoch 29/100\n",
            "8/8 [==============================] - 0s 28ms/step - loss: 10.2938 - mae: 10.7814\n",
            "Epoch 30/100\n",
            "8/8 [==============================] - 0s 28ms/step - loss: 15.1319 - mae: 15.6271\n",
            "Epoch 31/100\n",
            "8/8 [==============================] - 0s 27ms/step - loss: 20.2603 - mae: 20.7572\n",
            "Epoch 32/100\n",
            "8/8 [==============================] - 0s 29ms/step - loss: 19.4862 - mae: 19.9829\n",
            "Epoch 33/100\n",
            "8/8 [==============================] - 0s 29ms/step - loss: 19.1021 - mae: 19.6003\n",
            "Epoch 34/100\n",
            "8/8 [==============================] - 0s 27ms/step - loss: 19.7540 - mae: 20.2495\n",
            "Epoch 35/100\n",
            "8/8 [==============================] - 0s 28ms/step - loss: 19.2724 - mae: 19.7681\n",
            "Epoch 36/100\n",
            "8/8 [==============================] - 0s 27ms/step - loss: 19.5010 - mae: 19.9974\n",
            "Epoch 37/100\n",
            "8/8 [==============================] - 0s 27ms/step - loss: 12.7795 - mae: 13.2710\n",
            "Epoch 38/100\n",
            "8/8 [==============================] - 0s 27ms/step - loss: 12.1224 - mae: 12.6125\n",
            "Epoch 39/100\n",
            "8/8 [==============================] - 0s 27ms/step - loss: 20.3477 - mae: 20.8442\n",
            "Epoch 40/100\n",
            "8/8 [==============================] - 0s 26ms/step - loss: 24.0742 - mae: 24.5717\n",
            "Epoch 41/100\n",
            "8/8 [==============================] - 0s 27ms/step - loss: 24.3696 - mae: 24.8682\n",
            "Epoch 42/100\n",
            "8/8 [==============================] - 0s 27ms/step - loss: 25.1941 - mae: 25.6933\n",
            "Epoch 43/100\n",
            "8/8 [==============================] - 0s 30ms/step - loss: 26.5759 - mae: 27.0743\n",
            "Epoch 44/100\n",
            "8/8 [==============================] - 0s 28ms/step - loss: 27.6347 - mae: 28.1334\n",
            "Epoch 45/100\n",
            "8/8 [==============================] - 0s 27ms/step - loss: 31.2259 - mae: 31.7252\n",
            "Epoch 46/100\n",
            "8/8 [==============================] - 0s 29ms/step - loss: 32.0241 - mae: 32.5238\n",
            "Epoch 47/100\n",
            "8/8 [==============================] - 0s 27ms/step - loss: 34.8818 - mae: 35.3815\n",
            "Epoch 48/100\n",
            "8/8 [==============================] - 0s 28ms/step - loss: 35.9705 - mae: 36.4689\n",
            "Epoch 49/100\n",
            "8/8 [==============================] - 0s 29ms/step - loss: 39.5101 - mae: 40.0099\n",
            "Epoch 50/100\n",
            "8/8 [==============================] - 0s 29ms/step - loss: 43.5261 - mae: 44.0257\n",
            "Epoch 51/100\n",
            "8/8 [==============================] - 0s 27ms/step - loss: 46.2931 - mae: 46.7931\n",
            "Epoch 52/100\n",
            "8/8 [==============================] - 0s 26ms/step - loss: 49.2634 - mae: 49.7629\n",
            "Epoch 53/100\n",
            "8/8 [==============================] - 0s 26ms/step - loss: 53.2735 - mae: 53.7722\n",
            "Epoch 54/100\n",
            "8/8 [==============================] - 0s 26ms/step - loss: 57.2985 - mae: 57.7985\n",
            "Epoch 55/100\n",
            "8/8 [==============================] - 0s 27ms/step - loss: 59.2384 - mae: 59.7384\n",
            "Epoch 56/100\n",
            "8/8 [==============================] - 0s 27ms/step - loss: 63.5933 - mae: 64.0928\n",
            "Epoch 57/100\n",
            "8/8 [==============================] - 0s 29ms/step - loss: 63.8379 - mae: 64.3379\n",
            "Epoch 58/100\n",
            "8/8 [==============================] - 0s 26ms/step - loss: 68.9530 - mae: 69.4528\n",
            "Epoch 59/100\n",
            "8/8 [==============================] - 0s 29ms/step - loss: 77.2927 - mae: 77.7927\n",
            "Epoch 60/100\n",
            "8/8 [==============================] - 0s 28ms/step - loss: 75.0783 - mae: 75.5779\n",
            "Epoch 61/100\n",
            "8/8 [==============================] - 0s 29ms/step - loss: 76.1246 - mae: 76.6240\n",
            "Epoch 62/100\n",
            "8/8 [==============================] - 0s 27ms/step - loss: 95.9186 - mae: 96.4186\n",
            "Epoch 63/100\n",
            "8/8 [==============================] - 0s 31ms/step - loss: 120.9376 - mae: 121.4370\n",
            "Epoch 64/100\n",
            "8/8 [==============================] - 0s 27ms/step - loss: 118.4270 - mae: 118.9266\n",
            "Epoch 65/100\n",
            "8/8 [==============================] - 0s 29ms/step - loss: 89.4110 - mae: 89.9110\n",
            "Epoch 66/100\n",
            "8/8 [==============================] - 0s 27ms/step - loss: 84.8363 - mae: 85.3363\n",
            "Epoch 67/100\n",
            "8/8 [==============================] - 0s 28ms/step - loss: 120.1321 - mae: 120.6315\n",
            "Epoch 68/100\n",
            "8/8 [==============================] - 0s 29ms/step - loss: 238.7058 - mae: 239.2055\n",
            "Epoch 69/100\n",
            "8/8 [==============================] - 0s 27ms/step - loss: 433.3381 - mae: 433.8381\n",
            "Epoch 70/100\n",
            "8/8 [==============================] - 0s 27ms/step - loss: 401.9835 - mae: 402.4824\n",
            "Epoch 71/100\n",
            "8/8 [==============================] - 0s 28ms/step - loss: 690.8989 - mae: 691.3989\n",
            "Epoch 72/100\n",
            "8/8 [==============================] - 0s 27ms/step - loss: 577.5233 - mae: 578.0227\n",
            "Epoch 73/100\n",
            "8/8 [==============================] - 0s 28ms/step - loss: 1427.1746 - mae: 1427.6746\n",
            "Epoch 74/100\n",
            "8/8 [==============================] - 0s 28ms/step - loss: 723.5670 - mae: 724.0670\n",
            "Epoch 75/100\n",
            "8/8 [==============================] - 0s 26ms/step - loss: 2134.8840 - mae: 2135.3840\n",
            "Epoch 76/100\n",
            "8/8 [==============================] - 0s 30ms/step - loss: 3415.0244 - mae: 3415.5244\n",
            "Epoch 77/100\n",
            "8/8 [==============================] - 0s 26ms/step - loss: 4083.0454 - mae: 4083.5454\n",
            "Epoch 78/100\n",
            "8/8 [==============================] - 0s 27ms/step - loss: 2148.4836 - mae: 2148.9836\n",
            "Epoch 79/100\n",
            "8/8 [==============================] - 0s 27ms/step - loss: 4059.2561 - mae: 4059.7561\n",
            "Epoch 80/100\n",
            "8/8 [==============================] - 0s 28ms/step - loss: 5286.8110 - mae: 5287.3110\n",
            "Epoch 81/100\n",
            "8/8 [==============================] - 0s 28ms/step - loss: 6529.8818 - mae: 6530.3818\n",
            "Epoch 82/100\n",
            "8/8 [==============================] - 0s 28ms/step - loss: 3300.4399 - mae: 3300.9399\n",
            "Epoch 83/100\n",
            "8/8 [==============================] - 0s 29ms/step - loss: 1998.7672 - mae: 1999.2671\n",
            "Epoch 84/100\n",
            "8/8 [==============================] - 0s 28ms/step - loss: 3135.5598 - mae: 3136.0598\n",
            "Epoch 85/100\n",
            "8/8 [==============================] - 0s 27ms/step - loss: 3575.8584 - mae: 3576.3584\n",
            "Epoch 86/100\n",
            "8/8 [==============================] - 0s 28ms/step - loss: 6725.3516 - mae: 6725.8516\n",
            "Epoch 87/100\n",
            "8/8 [==============================] - 0s 27ms/step - loss: 7816.7295 - mae: 7817.2295\n",
            "Epoch 88/100\n",
            "8/8 [==============================] - 0s 28ms/step - loss: 3773.9917 - mae: 3774.4917\n",
            "Epoch 89/100\n",
            "8/8 [==============================] - 0s 27ms/step - loss: 5880.7964 - mae: 5881.2964\n",
            "Epoch 90/100\n",
            "8/8 [==============================] - 0s 29ms/step - loss: 6320.6543 - mae: 6321.1543\n",
            "Epoch 91/100\n",
            "8/8 [==============================] - 0s 28ms/step - loss: 5665.8428 - mae: 5666.3428\n",
            "Epoch 92/100\n",
            "8/8 [==============================] - 0s 28ms/step - loss: 7133.0635 - mae: 7133.5635\n",
            "Epoch 93/100\n",
            "8/8 [==============================] - 0s 30ms/step - loss: 16623.9941 - mae: 16624.4941\n",
            "Epoch 94/100\n",
            "8/8 [==============================] - 0s 27ms/step - loss: 27933.5176 - mae: 27934.0156\n",
            "Epoch 95/100\n",
            "8/8 [==============================] - 0s 29ms/step - loss: 31759.7148 - mae: 31760.2148\n",
            "Epoch 96/100\n",
            "8/8 [==============================] - 0s 28ms/step - loss: 34590.2383 - mae: 34590.7383\n",
            "Epoch 97/100\n",
            "8/8 [==============================] - 0s 28ms/step - loss: 18644.2500 - mae: 18644.7500\n",
            "Epoch 98/100\n",
            "8/8 [==============================] - 0s 27ms/step - loss: 8342.6416 - mae: 8343.1416\n",
            "Epoch 99/100\n",
            "8/8 [==============================] - 0s 28ms/step - loss: 8629.8887 - mae: 8630.3887\n",
            "Epoch 100/100\n",
            "8/8 [==============================] - 0s 28ms/step - loss: 8584.8652 - mae: 8585.3652\n"
          ],
          "name": "stdout"
        }
      ]
    },
    {
      "cell_type": "code",
      "metadata": {
        "id": "YJTlFAXF8OIy",
        "outputId": "1cb9b177-e952-4d8e-f8c8-965ace0cbb9d",
        "colab": {
          "base_uri": "https://localhost:8080/",
          "height": 290
        }
      },
      "source": [
        "plt.semilogx(history.history[\"lr\"], history.history[\"loss\"])\n",
        "plt.axis([1e-7, 1e-4, 0, 30])"
      ],
      "execution_count": 10,
      "outputs": [
        {
          "output_type": "execute_result",
          "data": {
            "text/plain": [
              "(1e-07, 0.0001, 0.0, 30.0)"
            ]
          },
          "metadata": {
            "tags": []
          },
          "execution_count": 10
        },
        {
          "output_type": "display_data",
          "data": {
            "image/png": "[encoded data removed]",
            "text/plain": [
              "<Figure size 432x288 with 1 Axes>"
            ]
          },
          "metadata": {
            "tags": [],
            "needs_background": "light"
          }
        }
      ]
    },
    {
      "cell_type": "code",
      "metadata": {
        "id": "T3yNjxWE8OIz",
        "outputId": "2df1abb1-55ca-4278-b12c-727a8700c90e",
        "colab": {
          "base_uri": "https://localhost:8080/"
        }
      },
      "source": [
        "keras.backend.clear_session()\n",
        "tf.random.set_seed(42)\n",
        "np.random.seed(42)\n",
        "\n",
        "window_size = 30\n",
        "train_set = window_dataset(x_train, window_size, batch_size=128)\n",
        "valid_set = window_dataset(x_valid, window_size, batch_size=128)\n",
        "\n",
        "model = keras.models.Sequential([\n",
        "  keras.layers.Lambda(lambda x: tf.expand_dims(x, axis=-1),\n",
        "                      input_shape=[None]),\n",
        "  keras.layers.SimpleRNN(100, return_sequences=True),\n",
        "  keras.layers.SimpleRNN(100),\n",
        "  keras.layers.Dense(1),\n",
        "  keras.layers.Lambda(lambda x: x * 200.0)\n",
        "])\n",
        "optimizer = keras.optimizers.SGD(lr=1.5e-6, momentum=0.9)\n",
        "model.compile(loss=keras.losses.Huber(),\n",
        "              optimizer=optimizer,\n",
        "              metrics=[\"mae\"])\n",
        "early_stopping = keras.callbacks.EarlyStopping(patience=50)\n",
        "model_checkpoint = keras.callbacks.ModelCheckpoint(\n",
        "    \"my_checkpoint\", save_best_only=True)\n",
        "model.fit(train_set, epochs=500,\n",
        "          validation_data=valid_set,\n",
        "          callbacks=[early_stopping, model_checkpoint])"
      ],
      "execution_count": 11,
      "outputs": [
        {
          "output_type": "stream",
          "text": [
            "tf.Tensor(52.483570765056164, shape=(), dtype=float64)\n",
            "tf.Tensor(71.3447137141728, shape=(), dtype=float64)\n",
            "Epoch 1/500\n"
          ],
          "name": "stdout"
        },
        {
          "output_type": "stream",
          "text": [
            "/usr/local/lib/python3.7/dist-packages/tensorflow/python/keras/optimizer_v2/optimizer_v2.py:375: UserWarning: The `lr` argument is deprecated, use `learning_rate` instead.\n",
            "  \"The `lr` argument is deprecated, use `learning_rate` instead.\")\n"
          ],
          "name": "stderr"
        },
        {
          "output_type": "stream",
          "text": [
            "8/8 [==============================] - 2s 88ms/step - loss: 54.8857 - mae: 55.3843 - val_loss: 53.7732 - val_mae: 54.2732\n",
            "INFO:tensorflow:Assets written to: my_checkpoint/assets\n",
            "Epoch 2/500\n",
            "8/8 [==============================] - 0s 43ms/step - loss: 35.4596 - mae: 35.9565 - val_loss: 17.5200 - val_mae: 18.0162\n",
            "INFO:tensorflow:Assets written to: my_checkpoint/assets\n",
            "Epoch 3/500\n",
            "8/8 [==============================] - 0s 44ms/step - loss: 22.5446 - mae: 23.0386 - val_loss: 18.8169 - val_mae: 19.3138\n",
            "Epoch 4/500\n",
            "8/8 [==============================] - 0s 44ms/step - loss: 16.2156 - mae: 16.7054 - val_loss: 20.0784 - val_mae: 20.5771\n",
            "Epoch 5/500\n",
            "8/8 [==============================] - 0s 44ms/step - loss: 13.7456 - mae: 14.2346 - val_loss: 6.8457 - val_mae: 7.3288\n",
            "INFO:tensorflow:Assets written to: my_checkpoint/assets\n",
            "Epoch 6/500\n",
            "8/8 [==============================] - 0s 43ms/step - loss: 11.3547 - mae: 11.8350 - val_loss: 7.2706 - val_mae: 7.7554\n",
            "Epoch 7/500\n",
            "8/8 [==============================] - 0s 43ms/step - loss: 10.7631 - mae: 11.2439 - val_loss: 11.2745 - val_mae: 11.7677\n",
            "Epoch 8/500\n",
            "8/8 [==============================] - 0s 44ms/step - loss: 10.3828 - mae: 10.8695 - val_loss: 6.3160 - val_mae: 6.8008\n",
            "INFO:tensorflow:Assets written to: my_checkpoint/assets\n",
            "Epoch 9/500\n",
            "8/8 [==============================] - 0s 46ms/step - loss: 9.3879 - mae: 9.8653 - val_loss: 5.4276 - val_mae: 5.9022\n",
            "INFO:tensorflow:Assets written to: my_checkpoint/assets\n",
            "Epoch 10/500\n",
            "8/8 [==============================] - 0s 45ms/step - loss: 9.2525 - mae: 9.7366 - val_loss: 5.4024 - val_mae: 5.8834\n",
            "INFO:tensorflow:Assets written to: my_checkpoint/assets\n",
            "Epoch 11/500\n",
            "8/8 [==============================] - 0s 46ms/step - loss: 9.0370 - mae: 9.5203 - val_loss: 6.5509 - val_mae: 7.0338\n",
            "Epoch 12/500\n",
            "8/8 [==============================] - 0s 42ms/step - loss: 8.7485 - mae: 9.2317 - val_loss: 6.1084 - val_mae: 6.5867\n",
            "Epoch 13/500\n",
            "8/8 [==============================] - 0s 47ms/step - loss: 8.3674 - mae: 8.8467 - val_loss: 6.2307 - val_mae: 6.7115\n",
            "Epoch 14/500\n",
            "8/8 [==============================] - 0s 44ms/step - loss: 8.3383 - mae: 8.8219 - val_loss: 5.7182 - val_mae: 6.2003\n",
            "Epoch 15/500\n",
            "8/8 [==============================] - 0s 44ms/step - loss: 8.4830 - mae: 8.9645 - val_loss: 6.1668 - val_mae: 6.6477\n",
            "Epoch 16/500\n",
            "8/8 [==============================] - 0s 45ms/step - loss: 7.8410 - mae: 8.3221 - val_loss: 7.1296 - val_mae: 7.6136\n",
            "Epoch 17/500\n",
            "8/8 [==============================] - 0s 43ms/step - loss: 7.9632 - mae: 8.4469 - val_loss: 7.2039 - val_mae: 7.6892\n",
            "Epoch 18/500\n",
            "8/8 [==============================] - 0s 44ms/step - loss: 7.4941 - mae: 7.9735 - val_loss: 6.2206 - val_mae: 6.7035\n",
            "Epoch 19/500\n",
            "8/8 [==============================] - 0s 44ms/step - loss: 7.4794 - mae: 7.9629 - val_loss: 5.8514 - val_mae: 6.3347\n",
            "Epoch 20/500\n",
            "8/8 [==============================] - 0s 47ms/step - loss: 7.2516 - mae: 7.7336 - val_loss: 5.8175 - val_mae: 6.2993\n",
            "Epoch 21/500\n",
            "8/8 [==============================] - 0s 44ms/step - loss: 7.2803 - mae: 7.7614 - val_loss: 5.6090 - val_mae: 6.0905\n",
            "Epoch 22/500\n",
            "8/8 [==============================] - 0s 44ms/step - loss: 7.1217 - mae: 7.5992 - val_loss: 5.2088 - val_mae: 5.6917\n",
            "INFO:tensorflow:Assets written to: my_checkpoint/assets\n",
            "Epoch 23/500\n",
            "8/8 [==============================] - 0s 45ms/step - loss: 7.3137 - mae: 7.7910 - val_loss: 5.3233 - val_mae: 5.8034\n",
            "Epoch 24/500\n",
            "8/8 [==============================] - 0s 42ms/step - loss: 7.2680 - mae: 7.7480 - val_loss: 5.9505 - val_mae: 6.4389\n",
            "Epoch 25/500\n",
            "8/8 [==============================] - 0s 43ms/step - loss: 7.6200 - mae: 8.1031 - val_loss: 6.6003 - val_mae: 7.0806\n",
            "Epoch 26/500\n",
            "8/8 [==============================] - 0s 41ms/step - loss: 6.8836 - mae: 7.3655 - val_loss: 6.4161 - val_mae: 6.8925\n",
            "Epoch 27/500\n",
            "8/8 [==============================] - 0s 47ms/step - loss: 6.5925 - mae: 7.0718 - val_loss: 5.8378 - val_mae: 6.3249\n",
            "Epoch 28/500\n",
            "8/8 [==============================] - 0s 45ms/step - loss: 7.0311 - mae: 7.5139 - val_loss: 5.6762 - val_mae: 6.1614\n",
            "Epoch 29/500\n",
            "8/8 [==============================] - 0s 45ms/step - loss: 6.6603 - mae: 7.1395 - val_loss: 5.6039 - val_mae: 6.0876\n",
            "Epoch 30/500\n",
            "8/8 [==============================] - 0s 44ms/step - loss: 7.0820 - mae: 7.5632 - val_loss: 8.3005 - val_mae: 8.7921\n",
            "Epoch 31/500\n",
            "8/8 [==============================] - 0s 44ms/step - loss: 6.4865 - mae: 6.9621 - val_loss: 6.3719 - val_mae: 6.8494\n",
            "Epoch 32/500\n",
            "8/8 [==============================] - 0s 44ms/step - loss: 6.1873 - mae: 6.6609 - val_loss: 5.2598 - val_mae: 5.7392\n",
            "Epoch 33/500\n",
            "8/8 [==============================] - 0s 43ms/step - loss: 6.5050 - mae: 6.9888 - val_loss: 5.2490 - val_mae: 5.7277\n",
            "Epoch 34/500\n",
            "8/8 [==============================] - 0s 43ms/step - loss: 6.4857 - mae: 6.9655 - val_loss: 5.4384 - val_mae: 5.9173\n",
            "Epoch 35/500\n",
            "8/8 [==============================] - 0s 43ms/step - loss: 6.0975 - mae: 6.5742 - val_loss: 5.3990 - val_mae: 5.8759\n",
            "Epoch 36/500\n",
            "8/8 [==============================] - 0s 43ms/step - loss: 6.0247 - mae: 6.5033 - val_loss: 5.3507 - val_mae: 5.8272\n",
            "Epoch 37/500\n",
            "8/8 [==============================] - 0s 42ms/step - loss: 5.9693 - mae: 6.4466 - val_loss: 5.0254 - val_mae: 5.5085\n",
            "INFO:tensorflow:Assets written to: my_checkpoint/assets\n",
            "Epoch 38/500\n",
            "8/8 [==============================] - 0s 42ms/step - loss: 6.2702 - mae: 6.7459 - val_loss: 4.9862 - val_mae: 5.4679\n",
            "INFO:tensorflow:Assets written to: my_checkpoint/assets\n",
            "Epoch 39/500\n",
            "8/8 [==============================] - 0s 44ms/step - loss: 6.3089 - mae: 6.7863 - val_loss: 5.0001 - val_mae: 5.4845\n",
            "Epoch 40/500\n",
            "8/8 [==============================] - 0s 41ms/step - loss: 6.6672 - mae: 7.1475 - val_loss: 5.5821 - val_mae: 6.0633\n",
            "Epoch 41/500\n",
            "8/8 [==============================] - 0s 44ms/step - loss: 6.3526 - mae: 6.8319 - val_loss: 6.4415 - val_mae: 6.9243\n",
            "Epoch 42/500\n",
            "8/8 [==============================] - 0s 44ms/step - loss: 5.9506 - mae: 6.4282 - val_loss: 5.0355 - val_mae: 5.5097\n",
            "Epoch 43/500\n",
            "8/8 [==============================] - 0s 44ms/step - loss: 6.1178 - mae: 6.5932 - val_loss: 5.0035 - val_mae: 5.4783\n",
            "Epoch 44/500\n",
            "8/8 [==============================] - 0s 44ms/step - loss: 6.0756 - mae: 6.5563 - val_loss: 4.9765 - val_mae: 5.4604\n",
            "INFO:tensorflow:Assets written to: my_checkpoint/assets\n",
            "Epoch 45/500\n",
            "8/8 [==============================] - 0s 44ms/step - loss: 6.1126 - mae: 6.5907 - val_loss: 4.9838 - val_mae: 5.4653\n",
            "Epoch 46/500\n",
            "8/8 [==============================] - 0s 45ms/step - loss: 5.9622 - mae: 6.4383 - val_loss: 5.1971 - val_mae: 5.6715\n",
            "Epoch 47/500\n",
            "8/8 [==============================] - 0s 44ms/step - loss: 7.1638 - mae: 7.6500 - val_loss: 6.7112 - val_mae: 7.1967\n",
            "Epoch 48/500\n",
            "8/8 [==============================] - 0s 45ms/step - loss: 7.4840 - mae: 7.9712 - val_loss: 10.5734 - val_mae: 11.0681\n",
            "Epoch 49/500\n",
            "8/8 [==============================] - 0s 44ms/step - loss: 6.8846 - mae: 7.3675 - val_loss: 6.1744 - val_mae: 6.6538\n",
            "Epoch 50/500\n",
            "8/8 [==============================] - 0s 43ms/step - loss: 6.6974 - mae: 7.1794 - val_loss: 5.0916 - val_mae: 5.5721\n",
            "Epoch 51/500\n",
            "8/8 [==============================] - 0s 43ms/step - loss: 7.0774 - mae: 7.5632 - val_loss: 5.2917 - val_mae: 5.7699\n",
            "Epoch 52/500\n",
            "8/8 [==============================] - 0s 42ms/step - loss: 6.4534 - mae: 6.9357 - val_loss: 5.8080 - val_mae: 6.2869\n",
            "Epoch 53/500\n",
            "8/8 [==============================] - 0s 44ms/step - loss: 6.2477 - mae: 6.7317 - val_loss: 9.4461 - val_mae: 9.9420\n",
            "Epoch 54/500\n",
            "8/8 [==============================] - 0s 44ms/step - loss: 6.6255 - mae: 7.1119 - val_loss: 5.1426 - val_mae: 5.6193\n",
            "Epoch 55/500\n",
            "8/8 [==============================] - 0s 44ms/step - loss: 6.7726 - mae: 7.2526 - val_loss: 5.7717 - val_mae: 6.2566\n",
            "Epoch 56/500\n",
            "8/8 [==============================] - 0s 43ms/step - loss: 6.9325 - mae: 7.4204 - val_loss: 5.7391 - val_mae: 6.2191\n",
            "Epoch 57/500\n",
            "8/8 [==============================] - 0s 43ms/step - loss: 5.8178 - mae: 6.2985 - val_loss: 5.1172 - val_mae: 5.5917\n",
            "Epoch 58/500\n",
            "8/8 [==============================] - 0s 45ms/step - loss: 6.0431 - mae: 6.5188 - val_loss: 7.4297 - val_mae: 7.9146\n",
            "Epoch 59/500\n",
            "8/8 [==============================] - 0s 46ms/step - loss: 5.7944 - mae: 6.2722 - val_loss: 6.6447 - val_mae: 7.1290\n",
            "Epoch 60/500\n",
            "8/8 [==============================] - 0s 43ms/step - loss: 5.6306 - mae: 6.1074 - val_loss: 5.5807 - val_mae: 6.0649\n",
            "Epoch 61/500\n",
            "8/8 [==============================] - 0s 42ms/step - loss: 5.4900 - mae: 5.9733 - val_loss: 5.1649 - val_mae: 5.6430\n",
            "Epoch 62/500\n",
            "8/8 [==============================] - 0s 43ms/step - loss: 5.7960 - mae: 6.2788 - val_loss: 6.7674 - val_mae: 7.2548\n",
            "Epoch 63/500\n",
            "8/8 [==============================] - 0s 46ms/step - loss: 5.8491 - mae: 6.3292 - val_loss: 5.5542 - val_mae: 6.0376\n",
            "Epoch 64/500\n",
            "8/8 [==============================] - 0s 45ms/step - loss: 6.0057 - mae: 6.4879 - val_loss: 5.3563 - val_mae: 5.8395\n",
            "Epoch 65/500\n",
            "8/8 [==============================] - 0s 44ms/step - loss: 6.2939 - mae: 6.7773 - val_loss: 5.0565 - val_mae: 5.5311\n",
            "Epoch 66/500\n",
            "8/8 [==============================] - 0s 43ms/step - loss: 5.7496 - mae: 6.2315 - val_loss: 6.1683 - val_mae: 6.6487\n",
            "Epoch 67/500\n",
            "8/8 [==============================] - 0s 46ms/step - loss: 5.4430 - mae: 5.9245 - val_loss: 4.9655 - val_mae: 5.4472\n",
            "INFO:tensorflow:Assets written to: my_checkpoint/assets\n",
            "Epoch 68/500\n",
            "8/8 [==============================] - 0s 43ms/step - loss: 5.5585 - mae: 6.0357 - val_loss: 5.0738 - val_mae: 5.5519\n",
            "Epoch 69/500\n",
            "8/8 [==============================] - 0s 44ms/step - loss: 5.8952 - mae: 6.3778 - val_loss: 5.3735 - val_mae: 5.8562\n",
            "Epoch 70/500\n",
            "8/8 [==============================] - 0s 44ms/step - loss: 6.3722 - mae: 6.8537 - val_loss: 8.4079 - val_mae: 8.8987\n",
            "Epoch 71/500\n",
            "8/8 [==============================] - 0s 45ms/step - loss: 5.9510 - mae: 6.4321 - val_loss: 5.0425 - val_mae: 5.5215\n",
            "Epoch 72/500\n",
            "8/8 [==============================] - 0s 44ms/step - loss: 5.4763 - mae: 5.9503 - val_loss: 5.0605 - val_mae: 5.5426\n",
            "Epoch 73/500\n",
            "8/8 [==============================] - 0s 43ms/step - loss: 5.8305 - mae: 6.3057 - val_loss: 5.1049 - val_mae: 5.5825\n",
            "Epoch 74/500\n",
            "8/8 [==============================] - 0s 45ms/step - loss: 5.6704 - mae: 6.1504 - val_loss: 7.8165 - val_mae: 8.3056\n",
            "Epoch 75/500\n",
            "8/8 [==============================] - 0s 44ms/step - loss: 5.9062 - mae: 6.3867 - val_loss: 6.9280 - val_mae: 7.4136\n",
            "Epoch 76/500\n",
            "8/8 [==============================] - 0s 46ms/step - loss: 5.5544 - mae: 6.0323 - val_loss: 5.3406 - val_mae: 5.8188\n",
            "Epoch 77/500\n",
            "8/8 [==============================] - 0s 43ms/step - loss: 5.4786 - mae: 5.9570 - val_loss: 7.4992 - val_mae: 7.9862\n",
            "Epoch 78/500\n",
            "8/8 [==============================] - 0s 46ms/step - loss: 5.9443 - mae: 6.4283 - val_loss: 5.0673 - val_mae: 5.5435\n",
            "Epoch 79/500\n",
            "8/8 [==============================] - 0s 44ms/step - loss: 6.6319 - mae: 7.1174 - val_loss: 5.0748 - val_mae: 5.5574\n",
            "Epoch 80/500\n",
            "8/8 [==============================] - 0s 47ms/step - loss: 5.7919 - mae: 6.2716 - val_loss: 7.9725 - val_mae: 8.4613\n",
            "Epoch 81/500\n",
            "8/8 [==============================] - 0s 44ms/step - loss: 5.4489 - mae: 5.9273 - val_loss: 6.9996 - val_mae: 7.4858\n",
            "Epoch 82/500\n",
            "8/8 [==============================] - 0s 44ms/step - loss: 5.3073 - mae: 5.7876 - val_loss: 6.3977 - val_mae: 6.8797\n",
            "Epoch 83/500\n",
            "8/8 [==============================] - 0s 44ms/step - loss: 5.2079 - mae: 5.6897 - val_loss: 5.0611 - val_mae: 5.5427\n",
            "Epoch 84/500\n",
            "8/8 [==============================] - 0s 45ms/step - loss: 5.1165 - mae: 5.5954 - val_loss: 5.0673 - val_mae: 5.5487\n",
            "Epoch 85/500\n",
            "8/8 [==============================] - 0s 44ms/step - loss: 5.1233 - mae: 5.5969 - val_loss: 5.1984 - val_mae: 5.6756\n",
            "Epoch 86/500\n",
            "8/8 [==============================] - 0s 45ms/step - loss: 5.1349 - mae: 5.6123 - val_loss: 4.9879 - val_mae: 5.4746\n",
            "Epoch 87/500\n",
            "8/8 [==============================] - 0s 44ms/step - loss: 5.0676 - mae: 5.5474 - val_loss: 4.9456 - val_mae: 5.4310\n",
            "INFO:tensorflow:Assets written to: my_checkpoint/assets\n",
            "Epoch 88/500\n",
            "8/8 [==============================] - 0s 43ms/step - loss: 5.6988 - mae: 6.1809 - val_loss: 4.9810 - val_mae: 5.4567\n",
            "Epoch 89/500\n",
            "8/8 [==============================] - 0s 44ms/step - loss: 5.6044 - mae: 6.0865 - val_loss: 5.5547 - val_mae: 6.0349\n",
            "Epoch 90/500\n",
            "8/8 [==============================] - 0s 45ms/step - loss: 5.0368 - mae: 5.5088 - val_loss: 5.2880 - val_mae: 5.7699\n",
            "Epoch 91/500\n",
            "8/8 [==============================] - 0s 42ms/step - loss: 4.9508 - mae: 5.4262 - val_loss: 6.5972 - val_mae: 7.0798\n",
            "Epoch 92/500\n",
            "8/8 [==============================] - 0s 43ms/step - loss: 5.0542 - mae: 5.5284 - val_loss: 5.5572 - val_mae: 6.0364\n",
            "Epoch 93/500\n",
            "8/8 [==============================] - 0s 43ms/step - loss: 4.9388 - mae: 5.4120 - val_loss: 5.1258 - val_mae: 5.6041\n",
            "Epoch 94/500\n",
            "8/8 [==============================] - 0s 44ms/step - loss: 5.1850 - mae: 5.6616 - val_loss: 8.8055 - val_mae: 9.2981\n",
            "Epoch 95/500\n",
            "8/8 [==============================] - 0s 44ms/step - loss: 5.6227 - mae: 6.0971 - val_loss: 6.0098 - val_mae: 6.4888\n",
            "Epoch 96/500\n",
            "8/8 [==============================] - 0s 44ms/step - loss: 4.9709 - mae: 5.4468 - val_loss: 5.8050 - val_mae: 6.2818\n",
            "Epoch 97/500\n",
            "8/8 [==============================] - 0s 45ms/step - loss: 5.0279 - mae: 5.5052 - val_loss: 4.9141 - val_mae: 5.3892\n",
            "INFO:tensorflow:Assets written to: my_checkpoint/assets\n",
            "Epoch 98/500\n",
            "8/8 [==============================] - 0s 43ms/step - loss: 4.9666 - mae: 5.4430 - val_loss: 4.9100 - val_mae: 5.3930\n",
            "INFO:tensorflow:Assets written to: my_checkpoint/assets\n",
            "Epoch 99/500\n",
            "8/8 [==============================] - 0s 42ms/step - loss: 4.9774 - mae: 5.4514 - val_loss: 4.9773 - val_mae: 5.4530\n",
            "Epoch 100/500\n",
            "8/8 [==============================] - 0s 44ms/step - loss: 5.0688 - mae: 5.5446 - val_loss: 4.9497 - val_mae: 5.4250\n",
            "Epoch 101/500\n",
            "8/8 [==============================] - 0s 44ms/step - loss: 4.9040 - mae: 5.3803 - val_loss: 5.6018 - val_mae: 6.0795\n",
            "Epoch 102/500\n",
            "8/8 [==============================] - 0s 43ms/step - loss: 5.0184 - mae: 5.4926 - val_loss: 6.4837 - val_mae: 6.9686\n",
            "Epoch 103/500\n",
            "8/8 [==============================] - 0s 44ms/step - loss: 5.1880 - mae: 5.6656 - val_loss: 5.9399 - val_mae: 6.4177\n",
            "Epoch 104/500\n",
            "8/8 [==============================] - 0s 48ms/step - loss: 4.8851 - mae: 5.3596 - val_loss: 5.7728 - val_mae: 6.2630\n",
            "Epoch 105/500\n",
            "8/8 [==============================] - 0s 47ms/step - loss: 5.3820 - mae: 5.8554 - val_loss: 4.9261 - val_mae: 5.4131\n",
            "Epoch 106/500\n",
            "8/8 [==============================] - 0s 46ms/step - loss: 4.8987 - mae: 5.3722 - val_loss: 4.9417 - val_mae: 5.4202\n",
            "Epoch 107/500\n",
            "8/8 [==============================] - 0s 46ms/step - loss: 4.7787 - mae: 5.2532 - val_loss: 6.7641 - val_mae: 7.2508\n",
            "Epoch 108/500\n",
            "8/8 [==============================] - 0s 45ms/step - loss: 4.9333 - mae: 5.4066 - val_loss: 5.0794 - val_mae: 5.5598\n",
            "Epoch 109/500\n",
            "8/8 [==============================] - 0s 45ms/step - loss: 4.8609 - mae: 5.3372 - val_loss: 5.9341 - val_mae: 6.4115\n",
            "Epoch 110/500\n",
            "8/8 [==============================] - 0s 45ms/step - loss: 4.8677 - mae: 5.3451 - val_loss: 4.9018 - val_mae: 5.3773\n",
            "INFO:tensorflow:Assets written to: my_checkpoint/assets\n",
            "Epoch 111/500\n",
            "8/8 [==============================] - 0s 44ms/step - loss: 4.9848 - mae: 5.4589 - val_loss: 5.3270 - val_mae: 5.8103\n",
            "Epoch 112/500\n",
            "8/8 [==============================] - 0s 44ms/step - loss: 5.0178 - mae: 5.4949 - val_loss: 5.1845 - val_mae: 5.6697\n",
            "Epoch 113/500\n",
            "8/8 [==============================] - 0s 43ms/step - loss: 4.7052 - mae: 5.1779 - val_loss: 5.0072 - val_mae: 5.4805\n",
            "Epoch 114/500\n",
            "8/8 [==============================] - 0s 45ms/step - loss: 4.9924 - mae: 5.4697 - val_loss: 5.4820 - val_mae: 5.9591\n",
            "Epoch 115/500\n",
            "8/8 [==============================] - 0s 43ms/step - loss: 5.2149 - mae: 5.6951 - val_loss: 8.4176 - val_mae: 8.9080\n",
            "Epoch 116/500\n",
            "8/8 [==============================] - 0s 44ms/step - loss: 5.5694 - mae: 6.0533 - val_loss: 4.9969 - val_mae: 5.4694\n",
            "Epoch 117/500\n",
            "8/8 [==============================] - 0s 44ms/step - loss: 5.2112 - mae: 5.6912 - val_loss: 5.8994 - val_mae: 6.3907\n",
            "Epoch 118/500\n",
            "8/8 [==============================] - 0s 45ms/step - loss: 5.2598 - mae: 5.7377 - val_loss: 5.9525 - val_mae: 6.4277\n",
            "Epoch 119/500\n",
            "8/8 [==============================] - 0s 46ms/step - loss: 5.3135 - mae: 5.7963 - val_loss: 6.3334 - val_mae: 6.8157\n",
            "Epoch 120/500\n",
            "8/8 [==============================] - 0s 44ms/step - loss: 5.1218 - mae: 5.6007 - val_loss: 4.9825 - val_mae: 5.4659\n",
            "Epoch 121/500\n",
            "8/8 [==============================] - 0s 45ms/step - loss: 4.9230 - mae: 5.4008 - val_loss: 5.5418 - val_mae: 6.0268\n",
            "Epoch 122/500\n",
            "8/8 [==============================] - 0s 45ms/step - loss: 5.5259 - mae: 6.0097 - val_loss: 5.3483 - val_mae: 5.8314\n",
            "Epoch 123/500\n",
            "8/8 [==============================] - 0s 46ms/step - loss: 5.0603 - mae: 5.5404 - val_loss: 5.4108 - val_mae: 5.8932\n",
            "Epoch 124/500\n",
            "8/8 [==============================] - 0s 44ms/step - loss: 4.8919 - mae: 5.3722 - val_loss: 4.9513 - val_mae: 5.4383\n",
            "Epoch 125/500\n",
            "8/8 [==============================] - 0s 44ms/step - loss: 4.8796 - mae: 5.3609 - val_loss: 5.1420 - val_mae: 5.6219\n",
            "Epoch 126/500\n",
            "8/8 [==============================] - 0s 45ms/step - loss: 4.6771 - mae: 5.1532 - val_loss: 5.1613 - val_mae: 5.6438\n",
            "Epoch 127/500\n",
            "8/8 [==============================] - 0s 46ms/step - loss: 4.7393 - mae: 5.2200 - val_loss: 4.9283 - val_mae: 5.4133\n",
            "Epoch 128/500\n",
            "8/8 [==============================] - 0s 43ms/step - loss: 4.7002 - mae: 5.1783 - val_loss: 5.3663 - val_mae: 5.8474\n",
            "Epoch 129/500\n",
            "8/8 [==============================] - 0s 46ms/step - loss: 4.8499 - mae: 5.3240 - val_loss: 6.5756 - val_mae: 7.0579\n",
            "Epoch 130/500\n",
            "8/8 [==============================] - 0s 47ms/step - loss: 4.6848 - mae: 5.1605 - val_loss: 4.9522 - val_mae: 5.4268\n",
            "Epoch 131/500\n",
            "8/8 [==============================] - 0s 43ms/step - loss: 5.2801 - mae: 5.7531 - val_loss: 5.7697 - val_mae: 6.2573\n",
            "Epoch 132/500\n",
            "8/8 [==============================] - 0s 45ms/step - loss: 5.6003 - mae: 6.0815 - val_loss: 5.9906 - val_mae: 6.4690\n",
            "Epoch 133/500\n",
            "8/8 [==============================] - 0s 45ms/step - loss: 4.7738 - mae: 5.2488 - val_loss: 6.4228 - val_mae: 6.9046\n",
            "Epoch 134/500\n",
            "8/8 [==============================] - 0s 47ms/step - loss: 4.8785 - mae: 5.3527 - val_loss: 5.4587 - val_mae: 5.9374\n",
            "Epoch 135/500\n",
            "8/8 [==============================] - 0s 46ms/step - loss: 4.6796 - mae: 5.1576 - val_loss: 5.6238 - val_mae: 6.1012\n",
            "Epoch 136/500\n",
            "8/8 [==============================] - 0s 44ms/step - loss: 4.8045 - mae: 5.2785 - val_loss: 4.9365 - val_mae: 5.4245\n",
            "Epoch 137/500\n",
            "8/8 [==============================] - 0s 44ms/step - loss: 4.8206 - mae: 5.2970 - val_loss: 5.0081 - val_mae: 5.4845\n",
            "Epoch 138/500\n",
            "8/8 [==============================] - 0s 46ms/step - loss: 4.7711 - mae: 5.2486 - val_loss: 5.0350 - val_mae: 5.5089\n",
            "Epoch 139/500\n",
            "8/8 [==============================] - 0s 46ms/step - loss: 4.5265 - mae: 4.9985 - val_loss: 4.9584 - val_mae: 5.4356\n",
            "Epoch 140/500\n",
            "8/8 [==============================] - 0s 45ms/step - loss: 5.1096 - mae: 5.5899 - val_loss: 4.9829 - val_mae: 5.4644\n",
            "Epoch 141/500\n",
            "8/8 [==============================] - 0s 45ms/step - loss: 4.7072 - mae: 5.1828 - val_loss: 5.3064 - val_mae: 5.7884\n",
            "Epoch 142/500\n",
            "8/8 [==============================] - 0s 45ms/step - loss: 4.4624 - mae: 4.9319 - val_loss: 6.4503 - val_mae: 6.9322\n",
            "Epoch 143/500\n",
            "8/8 [==============================] - 0s 46ms/step - loss: 4.6605 - mae: 5.1331 - val_loss: 6.7924 - val_mae: 7.2775\n",
            "Epoch 144/500\n",
            "8/8 [==============================] - 0s 43ms/step - loss: 5.0673 - mae: 5.5472 - val_loss: 4.9931 - val_mae: 5.4676\n",
            "Epoch 145/500\n",
            "8/8 [==============================] - 0s 46ms/step - loss: 4.5280 - mae: 5.0033 - val_loss: 5.0017 - val_mae: 5.4770\n",
            "Epoch 146/500\n",
            "8/8 [==============================] - 0s 46ms/step - loss: 4.5581 - mae: 5.0336 - val_loss: 5.0172 - val_mae: 5.4885\n",
            "Epoch 147/500\n",
            "8/8 [==============================] - 0s 45ms/step - loss: 4.4518 - mae: 4.9248 - val_loss: 6.6479 - val_mae: 7.1297\n",
            "Epoch 148/500\n",
            "8/8 [==============================] - 0s 46ms/step - loss: 4.7889 - mae: 5.2636 - val_loss: 5.6387 - val_mae: 6.1176\n",
            "Epoch 149/500\n",
            "8/8 [==============================] - 0s 45ms/step - loss: 4.5493 - mae: 5.0241 - val_loss: 4.9822 - val_mae: 5.4559\n",
            "Epoch 150/500\n",
            "8/8 [==============================] - 0s 45ms/step - loss: 4.7236 - mae: 5.2000 - val_loss: 6.0008 - val_mae: 6.4781\n",
            "Epoch 151/500\n",
            "8/8 [==============================] - 0s 46ms/step - loss: 5.1126 - mae: 5.5922 - val_loss: 7.1999 - val_mae: 7.6906\n",
            "Epoch 152/500\n",
            "8/8 [==============================] - 0s 46ms/step - loss: 5.5811 - mae: 6.0627 - val_loss: 7.2074 - val_mae: 7.6980\n",
            "Epoch 153/500\n",
            "8/8 [==============================] - 0s 47ms/step - loss: 5.1775 - mae: 5.6603 - val_loss: 5.4814 - val_mae: 5.9606\n",
            "Epoch 154/500\n",
            "8/8 [==============================] - 0s 45ms/step - loss: 4.6057 - mae: 5.0829 - val_loss: 5.0336 - val_mae: 5.5064\n",
            "Epoch 155/500\n",
            "8/8 [==============================] - 0s 46ms/step - loss: 4.7347 - mae: 5.2129 - val_loss: 5.1808 - val_mae: 5.6616\n",
            "Epoch 156/500\n",
            "8/8 [==============================] - 0s 43ms/step - loss: 4.7502 - mae: 5.2277 - val_loss: 6.2518 - val_mae: 6.7317\n",
            "Epoch 157/500\n",
            "8/8 [==============================] - 0s 44ms/step - loss: 4.7090 - mae: 5.1840 - val_loss: 5.7431 - val_mae: 6.2192\n",
            "Epoch 158/500\n",
            "8/8 [==============================] - 0s 44ms/step - loss: 4.4960 - mae: 4.9674 - val_loss: 5.5493 - val_mae: 6.0291\n",
            "Epoch 159/500\n",
            "8/8 [==============================] - 0s 43ms/step - loss: 4.5836 - mae: 5.0614 - val_loss: 5.9668 - val_mae: 6.4451\n",
            "Epoch 160/500\n",
            "8/8 [==============================] - 0s 44ms/step - loss: 4.6556 - mae: 5.1280 - val_loss: 5.8042 - val_mae: 6.2809\n"
          ],
          "name": "stdout"
        },
        {
          "output_type": "execute_result",
          "data": {
            "text/plain": [
              "<tensorflow.python.keras.callbacks.History at 0x7f16b2ce11d0>"
            ]
          },
          "metadata": {
            "tags": []
          },
          "execution_count": 11
        }
      ]
    },
    {
      "cell_type": "code",
      "metadata": {
        "id": "4KuPtKFe8OI0"
      },
      "source": [
        "model = keras.models.load_model(\"my_checkpoint\")"
      ],
      "execution_count": 12,
      "outputs": []
    },
    {
      "cell_type": "code",
      "metadata": {
        "id": "cxq09qOg8OI1"
      },
      "source": [
        "rnn_forecast = model_forecast(\n",
        "    model,\n",
        "    series[split_time - window_size:-1],\n",
        "    window_size)[:, 0]"
      ],
      "execution_count": 13,
      "outputs": []
    },
    {
      "cell_type": "code",
      "metadata": {
        "id": "PkC_JssS8OI2",
        "outputId": "d545212e-700c-418e-e9da-60e21d80f1bd",
        "colab": {
          "base_uri": "https://localhost:8080/",
          "height": 388
        }
      },
      "source": [
        "plt.figure(figsize=(10, 6))\n",
        "plot_series(time_valid, x_valid)\n",
        "plot_series(time_valid, rnn_forecast)"
      ],
      "execution_count": 16,
      "outputs": [
        {
          "output_type": "display_data",
          "data": {
            "image/png": "[encoded data removed]",
            "text/plain": [
              "<Figure size 720x432 with 1 Axes>"
            ]
          },
          "metadata": {
            "tags": [],
            "needs_background": "light"
          }
        }
      ]
    },
    {
      "cell_type": "code",
      "metadata": {
        "id": "1mwfgEK08OI3",
        "outputId": "3323e060-b5e8-494b-d323-c4117eee83b8",
        "colab": {
          "base_uri": "https://localhost:8080/"
        }
      },
      "source": [
        "keras.metrics.mean_absolute_error(x_valid, rnn_forecast).numpy()"
      ],
      "execution_count": 17,
      "outputs": [
        {
          "output_type": "execute_result",
          "data": {
            "text/plain": [
              "5.3282304"
            ]
          },
          "metadata": {
            "tags": []
          },
          "execution_count": 17
        }
      ]
    },
    {
      "cell_type": "markdown",
      "metadata": {
        "id": "KNG7s8jt8OI4"
      },
      "source": [
        "## Sequence-to-Sequence Forecasting"
      ]
    },
    {
      "cell_type": "code",
      "metadata": {
        "id": "bsKGxfiE8OI4"
      },
      "source": [
        "def seq2seq_window_dataset(series, window_size, batch_size=32,\n",
        "                           shuffle_buffer=1000):\n",
        "    series = tf.expand_dims(series, axis=-1)\n",
        "    ds = tf.data.Dataset.from_tensor_slices(series)\n",
        "    ds = ds.window(window_size + 1, shift=1, drop_remainder=True)\n",
        "    ds = ds.flat_map(lambda w: w.batch(window_size + 1))\n",
        "    ds = ds.shuffle(shuffle_buffer)\n",
        "    ds = ds.map(lambda w: (w[:-1], w[1:]))\n",
        "    return ds.batch(batch_size).prefetch(1)"
      ],
      "execution_count": 19,
      "outputs": []
    },
    {
      "cell_type": "code",
      "metadata": {
        "id": "5Nk2C7WP8OI5",
        "outputId": "913b7139-a11b-460b-d32b-2b0d56b8a8e2",
        "colab": {
          "base_uri": "https://localhost:8080/"
        }
      },
      "source": [
        "for X_batch, Y_batch in seq2seq_window_dataset(tf.range(10), 3,\n",
        "                                               batch_size=1):\n",
        "    print(\"X:\", X_batch.numpy())\n",
        "    print(\"Y:\", Y_batch.numpy())"
      ],
      "execution_count": 20,
      "outputs": [
        {
          "output_type": "stream",
          "text": [
            "X: [[[1]\n",
            "  [2]\n",
            "  [3]]]\n",
            "Y: [[[2]\n",
            "  [3]\n",
            "  [4]]]\n",
            "X: [[[2]\n",
            "  [3]\n",
            "  [4]]]\n",
            "Y: [[[3]\n",
            "  [4]\n",
            "  [5]]]\n",
            "X: [[[4]\n",
            "  [5]\n",
            "  [6]]]\n",
            "Y: [[[5]\n",
            "  [6]\n",
            "  [7]]]\n",
            "X: [[[3]\n",
            "  [4]\n",
            "  [5]]]\n",
            "Y: [[[4]\n",
            "  [5]\n",
            "  [6]]]\n",
            "X: [[[5]\n",
            "  [6]\n",
            "  [7]]]\n",
            "Y: [[[6]\n",
            "  [7]\n",
            "  [8]]]\n",
            "X: [[[6]\n",
            "  [7]\n",
            "  [8]]]\n",
            "Y: [[[7]\n",
            "  [8]\n",
            "  [9]]]\n",
            "X: [[[0]\n",
            "  [1]\n",
            "  [2]]]\n",
            "Y: [[[1]\n",
            "  [2]\n",
            "  [3]]]\n"
          ],
          "name": "stdout"
        }
      ]
    },
    {
      "cell_type": "code",
      "metadata": {
        "id": "4JSc-Btk8OI7",
        "outputId": "6a837df6-d10a-486e-f24f-cc3709aa81f6",
        "colab": {
          "base_uri": "https://localhost:8080/"
        }
      },
      "source": [
        "keras.backend.clear_session()\n",
        "tf.random.set_seed(42)\n",
        "np.random.seed(42)\n",
        "\n",
        "window_size = 30\n",
        "train_set = seq2seq_window_dataset(x_train, window_size,\n",
        "                                   batch_size=128)\n",
        "\n",
        "model = keras.models.Sequential([\n",
        "  keras.layers.SimpleRNN(100, return_sequences=True,\n",
        "                         input_shape=[None, 1]),\n",
        "  keras.layers.SimpleRNN(100, return_sequences=True),\n",
        "  keras.layers.Dense(1),\n",
        "  keras.layers.Lambda(lambda x: x * 200)\n",
        "])\n",
        "lr_schedule = keras.callbacks.LearningRateScheduler(\n",
        "    lambda epoch: 1e-7 * 10**(epoch / 30))\n",
        "optimizer = keras.optimizers.SGD(lr=1e-7, momentum=0.9)\n",
        "model.compile(loss=keras.losses.Huber(),\n",
        "              optimizer=optimizer,\n",
        "              metrics=[\"mae\"])\n",
        "history = model.fit(train_set, epochs=100, callbacks=[lr_schedule])"
      ],
      "execution_count": 21,
      "outputs": [
        {
          "output_type": "stream",
          "text": [
            "/usr/local/lib/python3.7/dist-packages/tensorflow/python/keras/optimizer_v2/optimizer_v2.py:375: UserWarning: The `lr` argument is deprecated, use `learning_rate` instead.\n",
            "  \"The `lr` argument is deprecated, use `learning_rate` instead.\")\n"
          ],
          "name": "stderr"
        },
        {
          "output_type": "stream",
          "text": [
            "Epoch 1/100\n",
            "8/8 [==============================] - 2s 31ms/step - loss: 52.3615 - mae: 52.8611\n",
            "Epoch 2/100\n",
            "8/8 [==============================] - 0s 28ms/step - loss: 25.4713 - mae: 25.9671\n",
            "Epoch 3/100\n",
            "8/8 [==============================] - 0s 31ms/step - loss: 23.5029 - mae: 23.9971\n",
            "Epoch 4/100\n",
            "8/8 [==============================] - 0s 31ms/step - loss: 21.1367 - mae: 21.6294\n",
            "Epoch 5/100\n",
            "8/8 [==============================] - 0s 29ms/step - loss: 19.4762 - mae: 19.9674\n",
            "Epoch 6/100\n",
            "8/8 [==============================] - 0s 29ms/step - loss: 18.6742 - mae: 19.1647\n",
            "Epoch 7/100\n",
            "8/8 [==============================] - 0s 28ms/step - loss: 18.1698 - mae: 18.6587\n",
            "Epoch 8/100\n",
            "8/8 [==============================] - 0s 28ms/step - loss: 17.7679 - mae: 18.2568\n",
            "Epoch 9/100\n",
            "8/8 [==============================] - 0s 29ms/step - loss: 17.4389 - mae: 17.9280\n",
            "Epoch 10/100\n",
            "8/8 [==============================] - 0s 27ms/step - loss: 17.0989 - mae: 17.5875\n",
            "Epoch 11/100\n",
            "8/8 [==============================] - 0s 30ms/step - loss: 16.7679 - mae: 17.2569\n",
            "Epoch 12/100\n",
            "8/8 [==============================] - 0s 28ms/step - loss: 16.4296 - mae: 16.9185\n",
            "Epoch 13/100\n",
            "8/8 [==============================] - 0s 28ms/step - loss: 16.0786 - mae: 16.5664\n",
            "Epoch 14/100\n",
            "8/8 [==============================] - 0s 29ms/step - loss: 15.7223 - mae: 16.2095\n",
            "Epoch 15/100\n",
            "8/8 [==============================] - 0s 28ms/step - loss: 15.3619 - mae: 15.8493\n",
            "Epoch 16/100\n",
            "8/8 [==============================] - 0s 29ms/step - loss: 14.9962 - mae: 15.4842\n",
            "Epoch 17/100\n",
            "8/8 [==============================] - 0s 30ms/step - loss: 14.6108 - mae: 15.0986\n",
            "Epoch 18/100\n",
            "8/8 [==============================] - 0s 29ms/step - loss: 14.2178 - mae: 14.7051\n",
            "Epoch 19/100\n",
            "8/8 [==============================] - 0s 29ms/step - loss: 13.8218 - mae: 14.3086\n",
            "Epoch 20/100\n",
            "8/8 [==============================] - 0s 28ms/step - loss: 13.3871 - mae: 13.8739\n",
            "Epoch 21/100\n",
            "8/8 [==============================] - 0s 29ms/step - loss: 12.9509 - mae: 13.4372\n",
            "Epoch 22/100\n",
            "8/8 [==============================] - 0s 30ms/step - loss: 12.5123 - mae: 12.9977\n",
            "Epoch 23/100\n",
            "8/8 [==============================] - 0s 30ms/step - loss: 12.0817 - mae: 12.5669\n",
            "Epoch 24/100\n",
            "8/8 [==============================] - 0s 30ms/step - loss: 11.6470 - mae: 12.1312\n",
            "Epoch 25/100\n",
            "8/8 [==============================] - 0s 30ms/step - loss: 11.2324 - mae: 11.7161\n",
            "Epoch 26/100\n",
            "8/8 [==============================] - 0s 27ms/step - loss: 10.8651 - mae: 11.3486\n",
            "Epoch 27/100\n",
            "8/8 [==============================] - 0s 29ms/step - loss: 10.5209 - mae: 11.0050\n",
            "Epoch 28/100\n",
            "8/8 [==============================] - 0s 29ms/step - loss: 10.1947 - mae: 10.6790\n",
            "Epoch 29/100\n",
            "8/8 [==============================] - 0s 29ms/step - loss: 9.8873 - mae: 10.3706\n",
            "Epoch 30/100\n",
            "8/8 [==============================] - 0s 30ms/step - loss: 9.5928 - mae: 10.0763\n",
            "Epoch 31/100\n",
            "8/8 [==============================] - 0s 28ms/step - loss: 9.3295 - mae: 9.8131\n",
            "Epoch 32/100\n",
            "8/8 [==============================] - 0s 29ms/step - loss: 9.0906 - mae: 9.5738\n",
            "Epoch 33/100\n",
            "8/8 [==============================] - 0s 29ms/step - loss: 8.8725 - mae: 9.3552\n",
            "Epoch 34/100\n",
            "8/8 [==============================] - 0s 29ms/step - loss: 8.6903 - mae: 9.1725\n",
            "Epoch 35/100\n",
            "8/8 [==============================] - 0s 29ms/step - loss: 8.5312 - mae: 9.0130\n",
            "Epoch 36/100\n",
            "8/8 [==============================] - 0s 28ms/step - loss: 8.3607 - mae: 8.8433\n",
            "Epoch 37/100\n",
            "8/8 [==============================] - 0s 27ms/step - loss: 8.2321 - mae: 8.7129\n",
            "Epoch 38/100\n",
            "8/8 [==============================] - 0s 29ms/step - loss: 8.0740 - mae: 8.5555\n",
            "Epoch 39/100\n",
            "8/8 [==============================] - 0s 30ms/step - loss: 7.9503 - mae: 8.4314\n",
            "Epoch 40/100\n",
            "8/8 [==============================] - 0s 29ms/step - loss: 8.4995 - mae: 8.9839\n",
            "Epoch 41/100\n",
            "8/8 [==============================] - 0s 29ms/step - loss: 8.9800 - mae: 9.4655\n",
            "Epoch 42/100\n",
            "8/8 [==============================] - 0s 29ms/step - loss: 8.7829 - mae: 9.2688\n",
            "Epoch 43/100\n",
            "8/8 [==============================] - 0s 30ms/step - loss: 9.2944 - mae: 9.7826\n",
            "Epoch 44/100\n",
            "8/8 [==============================] - 0s 29ms/step - loss: 9.8223 - mae: 10.3125\n",
            "Epoch 45/100\n",
            "8/8 [==============================] - 0s 28ms/step - loss: 10.0412 - mae: 10.5319\n",
            "Epoch 46/100\n",
            "8/8 [==============================] - 0s 29ms/step - loss: 9.1673 - mae: 9.6549\n",
            "Epoch 47/100\n",
            "8/8 [==============================] - 0s 27ms/step - loss: 10.7953 - mae: 11.2854\n",
            "Epoch 48/100\n",
            "8/8 [==============================] - 0s 29ms/step - loss: 18.4078 - mae: 18.9015\n",
            "Epoch 49/100\n",
            "8/8 [==============================] - 0s 29ms/step - loss: 19.1523 - mae: 19.6496\n",
            "Epoch 50/100\n",
            "8/8 [==============================] - 0s 29ms/step - loss: 17.4572 - mae: 17.9532\n",
            "Epoch 51/100\n",
            "8/8 [==============================] - 0s 28ms/step - loss: 19.0101 - mae: 19.5078\n",
            "Epoch 52/100\n",
            "8/8 [==============================] - 0s 30ms/step - loss: 19.0226 - mae: 19.5201\n",
            "Epoch 53/100\n",
            "8/8 [==============================] - 0s 29ms/step - loss: 18.5955 - mae: 19.0914\n",
            "Epoch 54/100\n",
            "8/8 [==============================] - 0s 28ms/step - loss: 19.9413 - mae: 20.4378\n",
            "Epoch 55/100\n",
            "8/8 [==============================] - 0s 29ms/step - loss: 16.6351 - mae: 17.1301\n",
            "Epoch 56/100\n",
            "8/8 [==============================] - 0s 30ms/step - loss: 19.1043 - mae: 19.6014\n",
            "Epoch 57/100\n",
            "8/8 [==============================] - 0s 28ms/step - loss: 19.6043 - mae: 20.1005\n",
            "Epoch 58/100\n",
            "8/8 [==============================] - 0s 29ms/step - loss: 20.5900 - mae: 21.0876\n",
            "Epoch 59/100\n",
            "8/8 [==============================] - 0s 29ms/step - loss: 21.5217 - mae: 22.0196\n",
            "Epoch 60/100\n",
            "8/8 [==============================] - 0s 29ms/step - loss: 21.2278 - mae: 21.7253\n",
            "Epoch 61/100\n",
            "8/8 [==============================] - 0s 29ms/step - loss: 21.3481 - mae: 21.8440\n",
            "Epoch 62/100\n",
            "8/8 [==============================] - 0s 28ms/step - loss: 13.5225 - mae: 14.0160\n",
            "Epoch 63/100\n",
            "8/8 [==============================] - 0s 30ms/step - loss: 11.6416 - mae: 12.1344\n",
            "Epoch 64/100\n",
            "8/8 [==============================] - 0s 28ms/step - loss: 13.0534 - mae: 13.5481\n",
            "Epoch 65/100\n",
            "8/8 [==============================] - 0s 28ms/step - loss: 12.4821 - mae: 12.9742\n",
            "Epoch 66/100\n",
            "8/8 [==============================] - 0s 30ms/step - loss: 17.7274 - mae: 18.2210\n",
            "Epoch 67/100\n",
            "8/8 [==============================] - 0s 29ms/step - loss: 56.8966 - mae: 57.3955\n",
            "Epoch 68/100\n",
            "8/8 [==============================] - 0s 28ms/step - loss: 62.0023 - mae: 62.5020\n",
            "Epoch 69/100\n",
            "8/8 [==============================] - 0s 31ms/step - loss: 34.7885 - mae: 35.2866\n",
            "Epoch 70/100\n",
            "8/8 [==============================] - 0s 29ms/step - loss: 32.5143 - mae: 33.0110\n",
            "Epoch 71/100\n",
            "8/8 [==============================] - 0s 30ms/step - loss: 67.2230 - mae: 67.7219\n",
            "Epoch 72/100\n",
            "8/8 [==============================] - 0s 28ms/step - loss: 72.0864 - mae: 72.5851\n",
            "Epoch 73/100\n",
            "8/8 [==============================] - 0s 29ms/step - loss: 129.1238 - mae: 129.6237\n",
            "Epoch 74/100\n",
            "8/8 [==============================] - 0s 29ms/step - loss: 47.6074 - mae: 48.1064\n",
            "Epoch 75/100\n",
            "8/8 [==============================] - 0s 29ms/step - loss: 34.8296 - mae: 35.3279\n",
            "Epoch 76/100\n",
            "8/8 [==============================] - 0s 30ms/step - loss: 33.6892 - mae: 34.1877\n",
            "Epoch 77/100\n",
            "8/8 [==============================] - 0s 29ms/step - loss: 36.8293 - mae: 37.3280\n",
            "Epoch 78/100\n",
            "8/8 [==============================] - 0s 28ms/step - loss: 44.0638 - mae: 44.5628\n",
            "Epoch 79/100\n",
            "8/8 [==============================] - 0s 30ms/step - loss: 38.9087 - mae: 39.4068\n",
            "Epoch 80/100\n",
            "8/8 [==============================] - 0s 29ms/step - loss: 38.1650 - mae: 38.6632\n",
            "Epoch 81/100\n",
            "8/8 [==============================] - 0s 28ms/step - loss: 21.3333 - mae: 21.8289\n",
            "Epoch 82/100\n",
            "8/8 [==============================] - 0s 29ms/step - loss: 23.9347 - mae: 24.4333\n",
            "Epoch 83/100\n",
            "8/8 [==============================] - 0s 29ms/step - loss: 24.1657 - mae: 24.6636\n",
            "Epoch 84/100\n",
            "8/8 [==============================] - 0s 29ms/step - loss: 23.4073 - mae: 23.9037\n",
            "Epoch 85/100\n",
            "8/8 [==============================] - 0s 29ms/step - loss: 28.4330 - mae: 28.9321\n",
            "Epoch 86/100\n",
            "8/8 [==============================] - 0s 29ms/step - loss: 26.9906 - mae: 27.4887\n",
            "Epoch 87/100\n",
            "8/8 [==============================] - 0s 28ms/step - loss: 48.9237 - mae: 49.4206\n",
            "Epoch 88/100\n",
            "8/8 [==============================] - 0s 29ms/step - loss: 64.2259 - mae: 64.7246\n",
            "Epoch 89/100\n",
            "8/8 [==============================] - 0s 28ms/step - loss: 68.5976 - mae: 69.0966\n",
            "Epoch 90/100\n",
            "8/8 [==============================] - 0s 27ms/step - loss: 79.5513 - mae: 80.0508\n",
            "Epoch 91/100\n",
            "8/8 [==============================] - 0s 28ms/step - loss: 70.5955 - mae: 71.0953\n",
            "Epoch 92/100\n",
            "8/8 [==============================] - 0s 30ms/step - loss: 65.3898 - mae: 65.8891\n",
            "Epoch 93/100\n",
            "8/8 [==============================] - 0s 27ms/step - loss: 74.5564 - mae: 75.0562\n",
            "Epoch 94/100\n",
            "8/8 [==============================] - 0s 30ms/step - loss: 91.1012 - mae: 91.6011\n",
            "Epoch 95/100\n",
            "8/8 [==============================] - 0s 30ms/step - loss: 96.6221 - mae: 97.1214\n",
            "Epoch 96/100\n",
            "8/8 [==============================] - 0s 29ms/step - loss: 123.2730 - mae: 123.7729\n",
            "Epoch 97/100\n",
            "8/8 [==============================] - 0s 29ms/step - loss: 142.9175 - mae: 143.4174\n",
            "Epoch 98/100\n",
            "8/8 [==============================] - 0s 30ms/step - loss: 167.0946 - mae: 167.5942\n",
            "Epoch 99/100\n",
            "8/8 [==============================] - 0s 30ms/step - loss: 180.5562 - mae: 181.0562\n",
            "Epoch 100/100\n",
            "8/8 [==============================] - 0s 28ms/step - loss: 270.5095 - mae: 271.0094\n"
          ],
          "name": "stdout"
        }
      ]
    },
    {
      "cell_type": "code",
      "metadata": {
        "id": "YGNsWceq8OI8",
        "outputId": "b120f7b7-f93a-4bc5-d917-b79336c07d47",
        "colab": {
          "base_uri": "https://localhost:8080/",
          "height": 290
        }
      },
      "source": [
        "plt.semilogx(history.history[\"lr\"], history.history[\"loss\"])\n",
        "plt.axis([1e-7, 1e-4, 0, 30])"
      ],
      "execution_count": 22,
      "outputs": [
        {
          "output_type": "execute_result",
          "data": {
            "text/plain": [
              "(1e-07, 0.0001, 0.0, 30.0)"
            ]
          },
          "metadata": {
            "tags": []
          },
          "execution_count": 22
        },
        {
          "output_type": "display_data",
          "data": {
            "image/png": "[encoded data removed]",
            "text/plain": [
              "<Figure size 432x288 with 1 Axes>"
            ]
          },
          "metadata": {
            "tags": [],
            "needs_background": "light"
          }
        }
      ]
    },
    {
      "cell_type": "code",
      "metadata": {
        "id": "G9lDnb0X8OI9",
        "outputId": "6184c162-d08a-44fc-8871-cf456c2399c6",
        "colab": {
          "base_uri": "https://localhost:8080/"
        }
      },
      "source": [
        "keras.backend.clear_session()\n",
        "tf.random.set_seed(42)\n",
        "np.random.seed(42)\n",
        "\n",
        "window_size = 30\n",
        "train_set = seq2seq_window_dataset(x_train, window_size,\n",
        "                                   batch_size=128)\n",
        "valid_set = seq2seq_window_dataset(x_valid, window_size,\n",
        "                                   batch_size=128)\n",
        "\n",
        "model = keras.models.Sequential([\n",
        "  keras.layers.SimpleRNN(100, return_sequences=True,\n",
        "                         input_shape=[None, 1]),\n",
        "  keras.layers.SimpleRNN(100, return_sequences=True),\n",
        "  keras.layers.Dense(1),\n",
        "  keras.layers.Lambda(lambda x: x * 200.0)\n",
        "])\n",
        "optimizer = keras.optimizers.SGD(lr=1e-6, momentum=0.9)\n",
        "model.compile(loss=keras.losses.Huber(),\n",
        "              optimizer=optimizer,\n",
        "              metrics=[\"mae\"])\n",
        "early_stopping = keras.callbacks.EarlyStopping(patience=10)\n",
        "model.fit(train_set, epochs=500,\n",
        "          validation_data=valid_set,\n",
        "          callbacks=[early_stopping])"
      ],
      "execution_count": 23,
      "outputs": [
        {
          "output_type": "stream",
          "text": [
            "/usr/local/lib/python3.7/dist-packages/tensorflow/python/keras/optimizer_v2/optimizer_v2.py:375: UserWarning: The `lr` argument is deprecated, use `learning_rate` instead.\n",
            "  \"The `lr` argument is deprecated, use `learning_rate` instead.\")\n"
          ],
          "name": "stderr"
        },
        {
          "output_type": "stream",
          "text": [
            "Epoch 1/500\n",
            "8/8 [==============================] - 2s 86ms/step - loss: 54.1428 - mae: 54.6412 - val_loss: 17.9209 - val_mae: 18.4157\n",
            "Epoch 2/500\n",
            "8/8 [==============================] - 0s 45ms/step - loss: 34.1721 - mae: 34.6694 - val_loss: 20.5481 - val_mae: 21.0440\n",
            "Epoch 3/500\n",
            "8/8 [==============================] - 0s 45ms/step - loss: 27.5074 - mae: 28.0027 - val_loss: 37.8711 - val_mae: 38.3705\n",
            "Epoch 4/500\n",
            "8/8 [==============================] - 0s 47ms/step - loss: 21.0646 - mae: 21.5578 - val_loss: 25.2684 - val_mae: 25.7674\n",
            "Epoch 5/500\n",
            "8/8 [==============================] - 0s 47ms/step - loss: 17.1768 - mae: 17.6667 - val_loss: 15.3555 - val_mae: 15.8504\n",
            "Epoch 6/500\n",
            "8/8 [==============================] - 0s 45ms/step - loss: 15.0382 - mae: 15.5247 - val_loss: 9.4217 - val_mae: 9.9070\n",
            "Epoch 7/500\n",
            "8/8 [==============================] - 0s 43ms/step - loss: 13.9508 - mae: 14.4372 - val_loss: 9.1618 - val_mae: 9.6475\n",
            "Epoch 8/500\n",
            "8/8 [==============================] - 0s 46ms/step - loss: 13.0593 - mae: 13.5433 - val_loss: 9.8610 - val_mae: 10.3506\n",
            "Epoch 9/500\n",
            "8/8 [==============================] - 0s 45ms/step - loss: 12.4298 - mae: 12.9131 - val_loss: 8.1729 - val_mae: 8.6572\n",
            "Epoch 10/500\n",
            "8/8 [==============================] - 0s 45ms/step - loss: 11.8905 - mae: 12.3737 - val_loss: 8.1780 - val_mae: 8.6608\n",
            "Epoch 11/500\n",
            "8/8 [==============================] - 0s 46ms/step - loss: 11.4247 - mae: 11.9069 - val_loss: 8.2508 - val_mae: 8.7357\n",
            "Epoch 12/500\n",
            "8/8 [==============================] - 0s 47ms/step - loss: 11.0519 - mae: 11.5337 - val_loss: 7.7045 - val_mae: 8.1899\n",
            "Epoch 13/500\n",
            "8/8 [==============================] - 0s 46ms/step - loss: 10.6913 - mae: 11.1735 - val_loss: 7.8013 - val_mae: 8.2838\n",
            "Epoch 14/500\n",
            "8/8 [==============================] - 0s 45ms/step - loss: 10.3653 - mae: 10.8473 - val_loss: 7.5620 - val_mae: 8.0454\n",
            "Epoch 15/500\n",
            "8/8 [==============================] - 0s 45ms/step - loss: 10.0908 - mae: 10.5734 - val_loss: 7.4425 - val_mae: 7.9260\n",
            "Epoch 16/500\n",
            "8/8 [==============================] - 0s 45ms/step - loss: 9.8478 - mae: 10.3300 - val_loss: 7.3019 - val_mae: 7.7855\n",
            "Epoch 17/500\n",
            "8/8 [==============================] - 0s 45ms/step - loss: 9.6206 - mae: 10.1028 - val_loss: 7.2305 - val_mae: 7.7128\n",
            "Epoch 18/500\n",
            "8/8 [==============================] - 0s 46ms/step - loss: 9.4222 - mae: 9.9045 - val_loss: 7.2973 - val_mae: 7.7811\n",
            "Epoch 19/500\n",
            "8/8 [==============================] - 0s 47ms/step - loss: 9.2415 - mae: 9.7235 - val_loss: 7.0410 - val_mae: 7.5227\n",
            "Epoch 20/500\n",
            "8/8 [==============================] - 0s 45ms/step - loss: 9.0733 - mae: 9.5550 - val_loss: 6.9231 - val_mae: 7.4054\n",
            "Epoch 21/500\n",
            "8/8 [==============================] - 0s 46ms/step - loss: 8.9267 - mae: 9.4083 - val_loss: 6.8684 - val_mae: 7.3498\n",
            "Epoch 22/500\n",
            "8/8 [==============================] - 0s 45ms/step - loss: 8.7896 - mae: 9.2713 - val_loss: 6.7681 - val_mae: 7.2486\n",
            "Epoch 23/500\n",
            "8/8 [==============================] - 0s 46ms/step - loss: 8.6424 - mae: 9.1235 - val_loss: 6.9130 - val_mae: 7.3982\n",
            "Epoch 24/500\n",
            "8/8 [==============================] - 0s 45ms/step - loss: 8.5131 - mae: 8.9936 - val_loss: 6.7497 - val_mae: 7.2318\n",
            "Epoch 25/500\n",
            "8/8 [==============================] - 0s 46ms/step - loss: 8.3955 - mae: 8.8765 - val_loss: 6.6384 - val_mae: 7.1198\n",
            "Epoch 26/500\n",
            "8/8 [==============================] - 0s 48ms/step - loss: 8.2890 - mae: 8.7705 - val_loss: 6.4466 - val_mae: 6.9236\n",
            "Epoch 27/500\n",
            "8/8 [==============================] - 0s 47ms/step - loss: 8.1784 - mae: 8.6594 - val_loss: 6.4515 - val_mae: 6.9306\n",
            "Epoch 28/500\n",
            "8/8 [==============================] - 0s 48ms/step - loss: 8.0964 - mae: 8.5775 - val_loss: 6.5570 - val_mae: 7.0406\n",
            "Epoch 29/500\n",
            "8/8 [==============================] - 0s 47ms/step - loss: 7.9966 - mae: 8.4773 - val_loss: 6.2728 - val_mae: 6.7472\n",
            "Epoch 30/500\n",
            "8/8 [==============================] - 0s 44ms/step - loss: 7.9174 - mae: 8.3981 - val_loss: 6.6966 - val_mae: 7.1815\n",
            "Epoch 31/500\n",
            "8/8 [==============================] - 0s 44ms/step - loss: 7.8317 - mae: 8.3122 - val_loss: 6.1268 - val_mae: 6.6057\n",
            "Epoch 32/500\n",
            "8/8 [==============================] - 0s 45ms/step - loss: 7.7520 - mae: 8.2328 - val_loss: 6.6856 - val_mae: 7.1703\n",
            "Epoch 33/500\n",
            "8/8 [==============================] - 0s 45ms/step - loss: 7.6775 - mae: 8.1583 - val_loss: 6.0753 - val_mae: 6.5512\n",
            "Epoch 34/500\n",
            "8/8 [==============================] - 0s 48ms/step - loss: 7.5826 - mae: 8.0634 - val_loss: 6.3348 - val_mae: 6.8185\n",
            "Epoch 35/500\n",
            "8/8 [==============================] - 0s 46ms/step - loss: 7.4951 - mae: 7.9749 - val_loss: 6.0378 - val_mae: 6.5139\n",
            "Epoch 36/500\n",
            "8/8 [==============================] - 0s 47ms/step - loss: 7.4325 - mae: 7.9133 - val_loss: 6.1865 - val_mae: 6.6674\n",
            "Epoch 37/500\n",
            "8/8 [==============================] - 0s 47ms/step - loss: 7.3559 - mae: 7.8373 - val_loss: 6.0786 - val_mae: 6.5582\n",
            "Epoch 38/500\n",
            "8/8 [==============================] - 0s 46ms/step - loss: 7.2913 - mae: 7.7732 - val_loss: 6.0684 - val_mae: 6.5479\n",
            "Epoch 39/500\n",
            "8/8 [==============================] - 0s 44ms/step - loss: 7.2333 - mae: 7.7151 - val_loss: 6.1053 - val_mae: 6.5854\n",
            "Epoch 40/500\n",
            "8/8 [==============================] - 0s 43ms/step - loss: 7.1725 - mae: 7.6538 - val_loss: 5.9208 - val_mae: 6.3990\n",
            "Epoch 41/500\n",
            "8/8 [==============================] - 0s 45ms/step - loss: 7.1129 - mae: 7.5941 - val_loss: 5.9483 - val_mae: 6.4270\n",
            "Epoch 42/500\n",
            "8/8 [==============================] - 0s 44ms/step - loss: 7.0587 - mae: 7.5404 - val_loss: 5.9384 - val_mae: 6.4174\n",
            "Epoch 43/500\n",
            "8/8 [==============================] - 0s 45ms/step - loss: 7.0068 - mae: 7.4883 - val_loss: 5.8196 - val_mae: 6.2968\n",
            "Epoch 44/500\n",
            "8/8 [==============================] - 0s 46ms/step - loss: 6.9536 - mae: 7.4349 - val_loss: 5.9777 - val_mae: 6.4585\n",
            "Epoch 45/500\n",
            "8/8 [==============================] - 0s 47ms/step - loss: 6.9029 - mae: 7.3843 - val_loss: 5.8453 - val_mae: 6.3236\n",
            "Epoch 46/500\n",
            "8/8 [==============================] - 0s 46ms/step - loss: 6.8559 - mae: 7.3373 - val_loss: 5.9745 - val_mae: 6.4567\n",
            "Epoch 47/500\n",
            "8/8 [==============================] - 0s 45ms/step - loss: 6.8096 - mae: 7.2905 - val_loss: 5.6930 - val_mae: 6.1683\n",
            "Epoch 48/500\n",
            "8/8 [==============================] - 0s 47ms/step - loss: 6.7795 - mae: 7.2602 - val_loss: 5.8916 - val_mae: 6.3713\n",
            "Epoch 49/500\n",
            "8/8 [==============================] - 0s 45ms/step - loss: 6.7324 - mae: 7.2131 - val_loss: 5.7787 - val_mae: 6.2573\n",
            "Epoch 50/500\n",
            "8/8 [==============================] - 0s 47ms/step - loss: 6.6880 - mae: 7.1684 - val_loss: 5.7283 - val_mae: 6.2063\n",
            "Epoch 51/500\n",
            "8/8 [==============================] - 0s 46ms/step - loss: 6.6452 - mae: 7.1259 - val_loss: 5.7470 - val_mae: 6.2248\n",
            "Epoch 52/500\n",
            "8/8 [==============================] - 0s 46ms/step - loss: 6.6150 - mae: 7.0959 - val_loss: 5.7311 - val_mae: 6.2093\n",
            "Epoch 53/500\n",
            "8/8 [==============================] - 0s 44ms/step - loss: 6.5714 - mae: 7.0514 - val_loss: 5.6912 - val_mae: 6.1687\n",
            "Epoch 54/500\n",
            "8/8 [==============================] - 0s 45ms/step - loss: 6.5348 - mae: 7.0153 - val_loss: 5.6069 - val_mae: 6.0830\n",
            "Epoch 55/500\n",
            "8/8 [==============================] - 0s 45ms/step - loss: 6.5013 - mae: 6.9819 - val_loss: 5.7314 - val_mae: 6.2103\n",
            "Epoch 56/500\n",
            "8/8 [==============================] - 0s 45ms/step - loss: 6.4726 - mae: 6.9530 - val_loss: 5.6089 - val_mae: 6.0850\n",
            "Epoch 57/500\n",
            "8/8 [==============================] - 0s 46ms/step - loss: 6.4448 - mae: 6.9249 - val_loss: 5.7441 - val_mae: 6.2233\n",
            "Epoch 58/500\n",
            "8/8 [==============================] - 0s 46ms/step - loss: 6.4214 - mae: 6.9012 - val_loss: 5.5397 - val_mae: 6.0159\n",
            "Epoch 59/500\n",
            "8/8 [==============================] - 0s 47ms/step - loss: 6.3940 - mae: 6.8735 - val_loss: 5.5486 - val_mae: 6.0250\n",
            "Epoch 60/500\n",
            "8/8 [==============================] - 0s 45ms/step - loss: 6.3687 - mae: 6.8481 - val_loss: 5.6414 - val_mae: 6.1190\n",
            "Epoch 61/500\n",
            "8/8 [==============================] - 0s 50ms/step - loss: 6.3471 - mae: 6.8263 - val_loss: 5.4949 - val_mae: 5.9711\n",
            "Epoch 62/500\n",
            "8/8 [==============================] - 0s 45ms/step - loss: 6.3239 - mae: 6.8034 - val_loss: 5.6962 - val_mae: 6.1758\n",
            "Epoch 63/500\n",
            "8/8 [==============================] - 0s 48ms/step - loss: 6.3027 - mae: 6.7813 - val_loss: 5.4634 - val_mae: 5.9396\n",
            "Epoch 64/500\n",
            "8/8 [==============================] - 0s 47ms/step - loss: 6.2800 - mae: 6.7595 - val_loss: 5.6596 - val_mae: 6.1384\n",
            "Epoch 65/500\n",
            "8/8 [==============================] - 0s 47ms/step - loss: 6.2597 - mae: 6.7382 - val_loss: 5.4920 - val_mae: 5.9685\n",
            "Epoch 66/500\n",
            "8/8 [==============================] - 0s 45ms/step - loss: 6.2370 - mae: 6.7161 - val_loss: 5.5227 - val_mae: 5.9986\n",
            "Epoch 67/500\n",
            "8/8 [==============================] - 0s 48ms/step - loss: 6.2181 - mae: 6.6968 - val_loss: 5.5079 - val_mae: 5.9838\n",
            "Epoch 68/500\n",
            "8/8 [==============================] - 0s 48ms/step - loss: 6.1976 - mae: 6.6767 - val_loss: 5.5154 - val_mae: 5.9910\n",
            "Epoch 69/500\n",
            "8/8 [==============================] - 0s 44ms/step - loss: 6.1796 - mae: 6.6588 - val_loss: 5.5413 - val_mae: 6.0176\n",
            "Epoch 70/500\n",
            "8/8 [==============================] - 0s 46ms/step - loss: 6.1641 - mae: 6.6427 - val_loss: 5.3948 - val_mae: 5.8713\n",
            "Epoch 71/500\n",
            "8/8 [==============================] - 0s 43ms/step - loss: 6.1562 - mae: 6.6361 - val_loss: 5.5790 - val_mae: 6.0581\n",
            "Epoch 72/500\n",
            "8/8 [==============================] - 0s 46ms/step - loss: 6.1331 - mae: 6.6120 - val_loss: 5.4278 - val_mae: 5.9045\n",
            "Epoch 73/500\n",
            "8/8 [==============================] - 0s 46ms/step - loss: 6.1158 - mae: 6.5956 - val_loss: 5.5849 - val_mae: 6.0648\n",
            "Epoch 74/500\n",
            "8/8 [==============================] - 0s 47ms/step - loss: 6.0946 - mae: 6.5735 - val_loss: 5.4474 - val_mae: 5.9229\n",
            "Epoch 75/500\n",
            "8/8 [==============================] - 0s 47ms/step - loss: 6.0770 - mae: 6.5565 - val_loss: 5.5412 - val_mae: 6.0205\n",
            "Epoch 76/500\n",
            "8/8 [==============================] - 0s 47ms/step - loss: 6.0624 - mae: 6.5409 - val_loss: 5.4268 - val_mae: 5.9025\n",
            "Epoch 77/500\n",
            "8/8 [==============================] - 0s 45ms/step - loss: 6.0439 - mae: 6.5231 - val_loss: 5.4290 - val_mae: 5.9047\n",
            "Epoch 78/500\n",
            "8/8 [==============================] - 0s 49ms/step - loss: 6.0280 - mae: 6.5074 - val_loss: 5.4693 - val_mae: 5.9471\n",
            "Epoch 79/500\n",
            "8/8 [==============================] - 0s 44ms/step - loss: 6.0133 - mae: 6.4930 - val_loss: 5.4171 - val_mae: 5.8927\n",
            "Epoch 80/500\n",
            "8/8 [==============================] - 0s 47ms/step - loss: 5.9990 - mae: 6.4783 - val_loss: 5.5149 - val_mae: 5.9946\n"
          ],
          "name": "stdout"
        },
        {
          "output_type": "execute_result",
          "data": {
            "text/plain": [
              "<tensorflow.python.keras.callbacks.History at 0x7f16b039cf50>"
            ]
          },
          "metadata": {
            "tags": []
          },
          "execution_count": 23
        }
      ]
    },
    {
      "cell_type": "code",
      "metadata": {
        "id": "4mglBRex8OI_"
      },
      "source": [
        "rnn_forecast = model_forecast(model, series[..., np.newaxis], window_size)\n",
        "rnn_forecast = rnn_forecast[split_time - window_size:-1, -1, 0]"
      ],
      "execution_count": 25,
      "outputs": []
    },
    {
      "cell_type": "code",
      "metadata": {
        "id": "Zl_FkcdI8OJA",
        "outputId": "285b9631-05af-434d-a985-50c7fd3423a0",
        "colab": {
          "base_uri": "https://localhost:8080/",
          "height": 388
        }
      },
      "source": [
        "plt.figure(figsize=(10, 6))\n",
        "plot_series(time_valid, x_valid)\n",
        "plot_series(time_valid, rnn_forecast)"
      ],
      "execution_count": 26,
      "outputs": [
        {
          "output_type": "display_data",
          "data": {
            "image/png": "[encoded data removed]",
            "text/plain": [
              "<Figure size 720x432 with 1 Axes>"
            ]
          },
          "metadata": {
            "tags": [],
            "needs_background": "light"
          }
        }
      ]
    },
    {
      "cell_type": "code",
      "metadata": {
        "id": "cznEtSVK8OJB",
        "outputId": "281ad401-e6a4-4dd4-ecfc-33ff651abc8e",
        "colab": {
          "base_uri": "https://localhost:8080/"
        }
      },
      "source": [
        "keras.metrics.mean_absolute_error(x_valid, rnn_forecast).numpy()"
      ],
      "execution_count": 27,
      "outputs": [
        {
          "output_type": "execute_result",
          "data": {
            "text/plain": [
              "5.4588637"
            ]
          },
          "metadata": {
            "tags": []
          },
          "execution_count": 27
        }
      ]
    }
  ]
}