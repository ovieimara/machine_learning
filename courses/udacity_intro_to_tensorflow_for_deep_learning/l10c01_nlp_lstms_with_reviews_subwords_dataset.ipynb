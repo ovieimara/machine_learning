{
  "nbformat": 4,
  "nbformat_minor": 0,
  "metadata": {
    "accelerator": "GPU",
    "colab": {
      "name": "l10c01_nlp_lstms_with_reviews_subwords_dataset.ipynb",
      "provenance": [],
      "toc_visible": true
    },
    "kernelspec": {
      "display_name": "Python 3",
      "name": "python3"
    }
  },
  "cells": [
    {
      "cell_type": "markdown",
      "metadata": {
        "id": "punL79CN7Ox6"
      },
      "source": [
        "##### Copyright 2020 The TensorFlow Authors."
      ]
    },
    {
      "cell_type": "code",
      "metadata": {
        "cellView": "form",
        "id": "_ckMIh7O7s6D"
      },
      "source": [
        "#@title Licensed under the Apache License, Version 2.0 (the \"License\");\n",
        "# you may not use this file except in compliance with the License.\n",
        "# You may obtain a copy of the License at\n",
        "#\n",
        "# https://www.apache.org/licenses/LICENSE-2.0\n",
        "#\n",
        "# Unless required by applicable law or agreed to in writing, software\n",
        "# distributed under the License is distributed on an \"AS IS\" BASIS,\n",
        "# WITHOUT WARRANTIES OR CONDITIONS OF ANY KIND, either express or implied.\n",
        "# See the License for the specific language governing permissions and\n",
        "# limitations under the License."
      ],
      "execution_count": null,
      "outputs": []
    },
    {
      "cell_type": "markdown",
      "metadata": {
        "id": "hAclqSm3OOml"
      },
      "source": [
        "# Using LSTMs with the subwords dataset\n"
      ]
    },
    {
      "cell_type": "markdown",
      "metadata": {
        "id": "S5Uhzt6vVIB2"
      },
      "source": [
        "<table class=\"tfo-notebook-buttons\" align=\"left\">\n",
        "  <td>\n",
        "    <a target=\"_blank\" href=\"https://colab.research.google.com/github/tensorflow/examples/blob/master/courses/udacity_intro_to_tensorflow_for_deep_learning/l10c01_nlp_lstms_with_reviews_subwords_dataset.ipynb\"><img src=\"https://www.tensorflow.org/images/colab_logo_32px.png\" />Run in Google Colab</a>\n",
        "  </td>\n",
        "  <td>\n",
        "    <a target=\"_blank\" href=\"https://github.com/tensorflow/examples/blob/master/courses/udacity_intro_to_tensorflow_for_deep_learning/l10c01_nlp_lstms_with_reviews_subwords_dataset.ipynb\"><img src=\"https://www.tensorflow.org/images/GitHub-Mark-32px.png\" />View source on GitHub</a>\n",
        "  </td>\n",
        "</table>"
      ]
    },
    {
      "cell_type": "markdown",
      "metadata": {
        "id": "KTVx8__oGR9J"
      },
      "source": [
        "In this colab, you'll compare the results of using a model with an Embedding layer and then adding bidirectional LSTM layers.\n",
        "\n",
        "You'll work with the dataset of subwords for the combined Yelp and Amazon reviews.\n",
        "\n",
        "You'll use your models to predict the sentiment of new reviews."
      ]
    },
    {
      "cell_type": "code",
      "metadata": {
        "id": "L62G7LTwNzoD"
      },
      "source": [
        "import tensorflow as tf\n",
        "\n",
        "from tensorflow.keras.preprocessing.sequence import pad_sequences"
      ],
      "execution_count": 1,
      "outputs": []
    },
    {
      "cell_type": "markdown",
      "metadata": {
        "id": "hLcl0QHvDjTV"
      },
      "source": [
        "# Get the dataset\n",
        "\n",
        "Start by getting the dataset containing Amazon and Yelp reviews, with their related sentiment (1 for positive, 0 for negative). This dataset was originally extracted from [here](https://www.kaggle.com/marklvl/sentiment-labelled-sentences-data-set).\n"
      ]
    },
    {
      "cell_type": "code",
      "metadata": {
        "id": "nCOtiRJZbxCH",
        "colab": {
          "base_uri": "https://localhost:8080/"
        },
        "outputId": "3c82d1f3-df45-439f-d2fb-3ba5421fcb78"
      },
      "source": [
        "!wget --no-check-certificate \\\n",
        "    https://drive.google.com/uc?id=13ySLC_ue6Umt9RJYSeM2t-V0kCv-4C-P -O /tmp/sentiment.csv"
      ],
      "execution_count": 2,
      "outputs": [
        {
          "output_type": "stream",
          "text": [
            "--2021-06-16 19:26:47--  https://drive.google.com/uc?id=13ySLC_ue6Umt9RJYSeM2t-V0kCv-4C-P\n",
            "Resolving drive.google.com (drive.google.com)... 74.125.195.138, 74.125.195.139, 74.125.195.113, ...\n",
            "Connecting to drive.google.com (drive.google.com)|74.125.195.138|:443... connected.\n",
            "HTTP request sent, awaiting response... 302 Moved Temporarily\n",
            "Location: https://doc-08-ak-docs.googleusercontent.com/docs/securesc/ha0ro937gcuc7l7deffksulhg5h7mbp1/e6lhv7oc6t0ovs715aqr4i4ae7luac39/1623871575000/11118900490791463723/*/13ySLC_ue6Umt9RJYSeM2t-V0kCv-4C-P [following]\n",
            "Warning: wildcards not supported in HTTP.\n",
            "--2021-06-16 19:26:48--  https://doc-08-ak-docs.googleusercontent.com/docs/securesc/ha0ro937gcuc7l7deffksulhg5h7mbp1/e6lhv7oc6t0ovs715aqr4i4ae7luac39/1623871575000/11118900490791463723/*/13ySLC_ue6Umt9RJYSeM2t-V0kCv-4C-P\n",
            "Resolving doc-08-ak-docs.googleusercontent.com (doc-08-ak-docs.googleusercontent.com)... 74.125.195.132, 2607:f8b0:400e:c09::84\n",
            "Connecting to doc-08-ak-docs.googleusercontent.com (doc-08-ak-docs.googleusercontent.com)|74.125.195.132|:443... connected.\n",
            "HTTP request sent, awaiting response... 200 OK\n",
            "Length: 127831 (125K) [text/csv]\n",
            "Saving to: ‘/tmp/sentiment.csv’\n",
            "\n",
            "/tmp/sentiment.csv  100%[===================>] 124.83K  --.-KB/s    in 0.001s  \n",
            "\n",
            "2021-06-16 19:26:48 (111 MB/s) - ‘/tmp/sentiment.csv’ saved [127831/127831]\n",
            "\n"
          ],
          "name": "stdout"
        }
      ]
    },
    {
      "cell_type": "code",
      "metadata": {
        "id": "XuqER_KMD-xS"
      },
      "source": [
        "import pandas as pd\n",
        "\n",
        "dataset = pd.read_csv('/tmp/sentiment.csv')\n",
        "\n",
        "# Extract out sentences and labels\n",
        "sentences = dataset['text'].tolist()\n",
        "labels = dataset['sentiment'].tolist()"
      ],
      "execution_count": 3,
      "outputs": []
    },
    {
      "cell_type": "code",
      "metadata": {
        "id": "Tbsx1T2CXPNO",
        "colab": {
          "base_uri": "https://localhost:8080/"
        },
        "outputId": "93efe0bf-783d-4ae6-9d58-b25c340c178a"
      },
      "source": [
        "# Print some example sentences and labels\n",
        "for x in range(2):\n",
        "  print(sentences[x])\n",
        "  print(labels[x])\n",
        "  print(\"\\n\")"
      ],
      "execution_count": 4,
      "outputs": [
        {
          "output_type": "stream",
          "text": [
            "So there is no way for me to plug it in here in the US unless I go by a converter.\n",
            "0\n",
            "\n",
            "\n",
            "Good case Excellent value.\n",
            "1\n",
            "\n",
            "\n"
          ],
          "name": "stdout"
        }
      ]
    },
    {
      "cell_type": "markdown",
      "metadata": {
        "id": "33AthPiALFZK"
      },
      "source": [
        "#Create a subwords dataset\n",
        "\n",
        "We will use the Amazon and Yelp reviews dataset with tensorflow_datasets's SubwordTextEncoder functionality. \n",
        "\n",
        "SubwordTextEncoder.build_from_corpus() will create a tokenizer for us. You could also use this functionality to get subwords from a much larger corpus of text as well, but we'll just use our existing dataset here.\n",
        "\n",
        "We'll create a subword vocab_size of only the 1,000 most common subwords, as well as cutting off each subword to be at most 5 characters.\n",
        "\n",
        "Check out the related documentation for the the subword text encoder [here](https://www.tensorflow.org/datasets/api_docs/python/tfds/features/text/SubwordTextEncoder#build_from_corpus)."
      ]
    },
    {
      "cell_type": "code",
      "metadata": {
        "id": "6NaicNCcLYyf",
        "colab": {
          "base_uri": "https://localhost:8080/"
        },
        "outputId": "15479f79-515b-48a3-f8d8-912aa87b61b3"
      },
      "source": [
        "import tensorflow_datasets as tfds\n",
        "\n",
        "vocab_size = 1000\n",
        "tokenizer = tfds.deprecated.text.SubwordTextEncoder.build_from_corpus(sentences, vocab_size, max_subword_length=5)\n",
        "\n",
        "# How big is the vocab size?\n",
        "print(\"Vocab size is \", tokenizer.vocab_size)"
      ],
      "execution_count": 5,
      "outputs": [
        {
          "output_type": "stream",
          "text": [
            "Vocab size is  999\n"
          ],
          "name": "stdout"
        }
      ]
    },
    {
      "cell_type": "code",
      "metadata": {
        "id": "xvRVoeIVLevh",
        "colab": {
          "base_uri": "https://localhost:8080/"
        },
        "outputId": "5f6e8d0b-accc-47e2-8f89-363214e73d44"
      },
      "source": [
        "# Check that the tokenizer works appropriately\n",
        "num = 5\n",
        "print(sentences[num])\n",
        "encoded = tokenizer.encode(sentences[num])\n",
        "print(encoded)"
      ],
      "execution_count": 6,
      "outputs": [
        {
          "output_type": "stream",
          "text": [
            "I have to jiggle the plug to get it to line up right to get decent volume.\n",
            "[4, 31, 6, 849, 162, 450, 12, 1, 600, 438, 775, 6, 175, 14, 6, 55, 213, 159, 474, 775, 6, 175, 614, 380, 295, 148, 72, 789]\n"
          ],
          "name": "stdout"
        }
      ]
    },
    {
      "cell_type": "code",
      "metadata": {
        "id": "G_vacTCifklV"
      },
      "source": [
        "# Separately print out each subword, decoded\n",
        "for i in encoded:\n",
        "  print(tokenizer.decode([i]))"
      ],
      "execution_count": null,
      "outputs": []
    },
    {
      "cell_type": "markdown",
      "metadata": {
        "id": "cT528cptLupl"
      },
      "source": [
        "## Replace sentence data with encoded subwords\n",
        "\n",
        "Now, we'll create the sequences to be used for training by actually encoding each of the individual sentences. This is equivalent to `text_to_sequences` with the `Tokenizer` we used in earlier exercises."
      ]
    },
    {
      "cell_type": "code",
      "metadata": {
        "id": "lkseMhxjL09F"
      },
      "source": [
        "for i, sentence in enumerate(sentences):\n",
        "  sentences[i] = tokenizer.encode(sentence)"
      ],
      "execution_count": 7,
      "outputs": []
    },
    {
      "cell_type": "code",
      "metadata": {
        "id": "y21yRuzmL43U",
        "colab": {
          "base_uri": "https://localhost:8080/"
        },
        "outputId": "1e9ca737-b709-4d54-fec0-f16a54a3b56b"
      },
      "source": [
        "# Check the sentences are appropriately replaced\n",
        "print(sentences[5])"
      ],
      "execution_count": 8,
      "outputs": [
        {
          "output_type": "stream",
          "text": [
            "[4, 31, 6, 849, 162, 450, 12, 1, 600, 438, 775, 6, 175, 14, 6, 55, 213, 159, 474, 775, 6, 175, 614, 380, 295, 148, 72, 789]\n"
          ],
          "name": "stdout"
        }
      ]
    },
    {
      "cell_type": "markdown",
      "metadata": {
        "id": "8HrcPHESMBMs"
      },
      "source": [
        "## Final pre-processing\n",
        "\n",
        "Before training, we still need to pad the sequences, as well as split into training and test sets."
      ]
    },
    {
      "cell_type": "code",
      "metadata": {
        "id": "50-hTsogLSL-"
      },
      "source": [
        "import numpy as np\n",
        "\n",
        "max_length = 50\n",
        "trunc_type='post'\n",
        "padding_type='post'\n",
        "\n",
        "# Pad all sequences\n",
        "sequences_padded = pad_sequences(sentences, maxlen=max_length, \n",
        "                                 padding=padding_type, truncating=trunc_type)\n",
        "\n",
        "# Separate out the sentences and labels into training and test sets\n",
        "training_size = int(len(sentences) * 0.8)\n",
        "\n",
        "training_sequences = sequences_padded[0:training_size]\n",
        "testing_sequences = sequences_padded[training_size:]\n",
        "training_labels = labels[0:training_size]\n",
        "testing_labels = labels[training_size:]\n",
        "\n",
        "# Make labels into numpy arrays for use with the network later\n",
        "training_labels_final = np.array(training_labels)\n",
        "testing_labels_final = np.array(testing_labels)"
      ],
      "execution_count": 10,
      "outputs": []
    },
    {
      "cell_type": "markdown",
      "metadata": {
        "id": "PahZm7YEQ8EI"
      },
      "source": [
        "# Create the model using an Embedding"
      ]
    },
    {
      "cell_type": "code",
      "metadata": {
        "id": "c_nyQeI0RCCv",
        "colab": {
          "base_uri": "https://localhost:8080/"
        },
        "outputId": "f8e0807f-5ab6-4f01-f480-1cdafa2eeb3a"
      },
      "source": [
        "embedding_dim = 16\n",
        "\n",
        "model = tf.keras.Sequential([\n",
        "    tf.keras.layers.Embedding(vocab_size, embedding_dim, input_length=max_length),\n",
        "    tf.keras.layers.GlobalAveragePooling1D(), \n",
        "    tf.keras.layers.Dense(6, activation='relu'),\n",
        "    tf.keras.layers.Dense(1, activation='sigmoid')\n",
        "])\n",
        "\n",
        "model.summary()"
      ],
      "execution_count": 11,
      "outputs": [
        {
          "output_type": "stream",
          "text": [
            "Model: \"sequential\"\n",
            "_________________________________________________________________\n",
            "Layer (type)                 Output Shape              Param #   \n",
            "=================================================================\n",
            "embedding (Embedding)        (None, 50, 16)            16000     \n",
            "_________________________________________________________________\n",
            "global_average_pooling1d (Gl (None, 16)                0         \n",
            "_________________________________________________________________\n",
            "dense (Dense)                (None, 6)                 102       \n",
            "_________________________________________________________________\n",
            "dense_1 (Dense)              (None, 1)                 7         \n",
            "=================================================================\n",
            "Total params: 16,109\n",
            "Trainable params: 16,109\n",
            "Non-trainable params: 0\n",
            "_________________________________________________________________\n"
          ],
          "name": "stdout"
        }
      ]
    },
    {
      "cell_type": "markdown",
      "metadata": {
        "id": "3WRXrx8BRO2L"
      },
      "source": [
        "# Train the model"
      ]
    },
    {
      "cell_type": "code",
      "metadata": {
        "id": "oBKyVYvxRQ_9",
        "colab": {
          "base_uri": "https://localhost:8080/"
        },
        "outputId": "5b40e67f-f325-484f-d216-48d2cbe2db01"
      },
      "source": [
        "num_epochs = 30\n",
        "model.compile(loss='binary_crossentropy',optimizer='adam',metrics=['accuracy'])\n",
        "history = model.fit(training_sequences, training_labels_final, epochs=num_epochs, validation_data=(testing_sequences, testing_labels_final))\n"
      ],
      "execution_count": 12,
      "outputs": [
        {
          "output_type": "stream",
          "text": [
            "Epoch 1/30\n",
            "50/50 [==============================] - 4s 6ms/step - loss: 0.6904 - accuracy: 0.5242 - val_loss: 0.6992 - val_accuracy: 0.4160\n",
            "Epoch 2/30\n",
            "50/50 [==============================] - 0s 4ms/step - loss: 0.6844 - accuracy: 0.5581 - val_loss: 0.7011 - val_accuracy: 0.4236\n",
            "Epoch 3/30\n",
            "50/50 [==============================] - 0s 3ms/step - loss: 0.6774 - accuracy: 0.5524 - val_loss: 0.6964 - val_accuracy: 0.4511\n",
            "Epoch 4/30\n",
            "50/50 [==============================] - 0s 4ms/step - loss: 0.6667 - accuracy: 0.5970 - val_loss: 0.6838 - val_accuracy: 0.5213\n",
            "Epoch 5/30\n",
            "50/50 [==============================] - 0s 4ms/step - loss: 0.6510 - accuracy: 0.6453 - val_loss: 0.6769 - val_accuracy: 0.5138\n",
            "Epoch 6/30\n",
            "50/50 [==============================] - 0s 4ms/step - loss: 0.6298 - accuracy: 0.6761 - val_loss: 0.6645 - val_accuracy: 0.5414\n",
            "Epoch 7/30\n",
            "50/50 [==============================] - 0s 3ms/step - loss: 0.6023 - accuracy: 0.7426 - val_loss: 0.6433 - val_accuracy: 0.6216\n",
            "Epoch 8/30\n",
            "50/50 [==============================] - 0s 4ms/step - loss: 0.5708 - accuracy: 0.7790 - val_loss: 0.6235 - val_accuracy: 0.6516\n",
            "Epoch 9/30\n",
            "50/50 [==============================] - 0s 4ms/step - loss: 0.5370 - accuracy: 0.8092 - val_loss: 0.6053 - val_accuracy: 0.6717\n",
            "Epoch 10/30\n",
            "50/50 [==============================] - 0s 4ms/step - loss: 0.5023 - accuracy: 0.8355 - val_loss: 0.5889 - val_accuracy: 0.6892\n",
            "Epoch 11/30\n",
            "50/50 [==============================] - 0s 3ms/step - loss: 0.4693 - accuracy: 0.8500 - val_loss: 0.5630 - val_accuracy: 0.7419\n",
            "Epoch 12/30\n",
            "50/50 [==============================] - 0s 3ms/step - loss: 0.4385 - accuracy: 0.8569 - val_loss: 0.5490 - val_accuracy: 0.7419\n",
            "Epoch 13/30\n",
            "50/50 [==============================] - 0s 3ms/step - loss: 0.4097 - accuracy: 0.8701 - val_loss: 0.5403 - val_accuracy: 0.7469\n",
            "Epoch 14/30\n",
            "50/50 [==============================] - 0s 3ms/step - loss: 0.3852 - accuracy: 0.8782 - val_loss: 0.5323 - val_accuracy: 0.7368\n",
            "Epoch 15/30\n",
            "50/50 [==============================] - 0s 4ms/step - loss: 0.3632 - accuracy: 0.8807 - val_loss: 0.5247 - val_accuracy: 0.7494\n",
            "Epoch 16/30\n",
            "50/50 [==============================] - 0s 3ms/step - loss: 0.3418 - accuracy: 0.8851 - val_loss: 0.5171 - val_accuracy: 0.7544\n",
            "Epoch 17/30\n",
            "50/50 [==============================] - 0s 3ms/step - loss: 0.3221 - accuracy: 0.8958 - val_loss: 0.4987 - val_accuracy: 0.7519\n",
            "Epoch 18/30\n",
            "50/50 [==============================] - 0s 3ms/step - loss: 0.3064 - accuracy: 0.9002 - val_loss: 0.5154 - val_accuracy: 0.7544\n",
            "Epoch 19/30\n",
            "50/50 [==============================] - 0s 3ms/step - loss: 0.2911 - accuracy: 0.9046 - val_loss: 0.4909 - val_accuracy: 0.7619\n",
            "Epoch 20/30\n",
            "50/50 [==============================] - 0s 4ms/step - loss: 0.2803 - accuracy: 0.9046 - val_loss: 0.4958 - val_accuracy: 0.7569\n",
            "Epoch 21/30\n",
            "50/50 [==============================] - 0s 3ms/step - loss: 0.2666 - accuracy: 0.9077 - val_loss: 0.4993 - val_accuracy: 0.7594\n",
            "Epoch 22/30\n",
            "50/50 [==============================] - 0s 4ms/step - loss: 0.2554 - accuracy: 0.9178 - val_loss: 0.5197 - val_accuracy: 0.7594\n",
            "Epoch 23/30\n",
            "50/50 [==============================] - 0s 3ms/step - loss: 0.2445 - accuracy: 0.9253 - val_loss: 0.5282 - val_accuracy: 0.7544\n",
            "Epoch 24/30\n",
            "50/50 [==============================] - 0s 4ms/step - loss: 0.2357 - accuracy: 0.9291 - val_loss: 0.5205 - val_accuracy: 0.7619\n",
            "Epoch 25/30\n",
            "50/50 [==============================] - 0s 4ms/step - loss: 0.2263 - accuracy: 0.9316 - val_loss: 0.5190 - val_accuracy: 0.7669\n",
            "Epoch 26/30\n",
            "50/50 [==============================] - 0s 4ms/step - loss: 0.2186 - accuracy: 0.9322 - val_loss: 0.5459 - val_accuracy: 0.7544\n",
            "Epoch 27/30\n",
            "50/50 [==============================] - 0s 3ms/step - loss: 0.2114 - accuracy: 0.9328 - val_loss: 0.5351 - val_accuracy: 0.7594\n",
            "Epoch 28/30\n",
            "50/50 [==============================] - 0s 3ms/step - loss: 0.2046 - accuracy: 0.9385 - val_loss: 0.5320 - val_accuracy: 0.7644\n",
            "Epoch 29/30\n",
            "50/50 [==============================] - 0s 3ms/step - loss: 0.1974 - accuracy: 0.9435 - val_loss: 0.5314 - val_accuracy: 0.7669\n",
            "Epoch 30/30\n",
            "50/50 [==============================] - 0s 3ms/step - loss: 0.1918 - accuracy: 0.9429 - val_loss: 0.5515 - val_accuracy: 0.7569\n"
          ],
          "name": "stdout"
        }
      ]
    },
    {
      "cell_type": "markdown",
      "metadata": {
        "id": "HhLPbUl2AZ0y"
      },
      "source": [
        "# Plot the accuracy and loss"
      ]
    },
    {
      "cell_type": "code",
      "metadata": {
        "id": "jzBM1PpJAYfD",
        "colab": {
          "base_uri": "https://localhost:8080/",
          "height": 541
        },
        "outputId": "7aab9329-aea2-42b1-d1a4-994a1832e320"
      },
      "source": [
        "import matplotlib.pyplot as plt\n",
        "\n",
        "\n",
        "def plot_graphs(history, string):\n",
        "  plt.plot(history.history[string])\n",
        "  plt.plot(history.history['val_'+string])\n",
        "  plt.xlabel(\"Epochs\")\n",
        "  plt.ylabel(string)\n",
        "  plt.legend([string, 'val_'+string])\n",
        "  plt.show()\n",
        "  \n",
        "plot_graphs(history, \"accuracy\")\n",
        "plot_graphs(history, \"loss\")"
      ],
      "execution_count": 13,
      "outputs": [
        {
          "output_type": "display_data",
          "data": {
            "image/png": "[encoded data removed]",
            "text/plain": [
              "<Figure size 432x288 with 1 Axes>"
            ]
          },
          "metadata": {
            "tags": [],
            "needs_background": "light"
          }
        },
        {
          "output_type": "display_data",
          "data": {
            "image/png": "[encoded data removed]",
            "text/plain": [
              "<Figure size 432x288 with 1 Axes>"
            ]
          },
          "metadata": {
            "tags": [],
            "needs_background": "light"
          }
        }
      ]
    },
    {
      "cell_type": "markdown",
      "metadata": {
        "id": "Fwr5inBiWffb"
      },
      "source": [
        "# Define a function to predict the sentiment of reviews\n",
        "\n",
        "We'll be creating models with some differences and will use each model to predict the sentiment of some new reviews.\n",
        "\n",
        "To save time, create a function that will take in a model and some new reviews, and print out the sentiment of each reviews.\n",
        "\n",
        "The higher the sentiment value is to 1, the more positive the review is."
      ]
    },
    {
      "cell_type": "code",
      "metadata": {
        "id": "aPNOYiiaha2y"
      },
      "source": [
        "# Define a function to take a series of reviews\n",
        "# and predict whether each one is a positive or negative review\n",
        "\n",
        "# max_length = 100 # previously defined\n",
        "\n",
        "def predict_review(model, new_sentences, maxlen=max_length, show_padded_sequence=True ):\n",
        "  # Keep the original sentences so that we can keep using them later\n",
        "  # Create an array to hold the encoded sequences\n",
        "  new_sequences = []\n",
        "\n",
        "  # Convert the new reviews to sequences\n",
        "  for i, frvw in enumerate(new_sentences):\n",
        "    new_sequences.append(tokenizer.encode(frvw))\n",
        "\n",
        "  trunc_type='post' \n",
        "  padding_type='post'\n",
        "\n",
        "  # Pad all sequences for the new reviews\n",
        "  new_reviews_padded = pad_sequences(new_sequences, maxlen=max_length, \n",
        "                                 padding=padding_type, truncating=trunc_type)             \n",
        "\n",
        "  classes = model.predict(new_reviews_padded)\n",
        "\n",
        "  # The closer the class is to 1, the more positive the review is\n",
        "  for x in range(len(new_sentences)):\n",
        "    \n",
        "    # We can see the padded sequence if desired\n",
        "    # Print the sequence\n",
        "    if (show_padded_sequence):\n",
        "      print(new_reviews_padded[x])\n",
        "    # Print the review as text\n",
        "    print(new_sentences[x])\n",
        "    # Print its predicted class\n",
        "    print(classes[x])\n",
        "    print(\"\\n\")"
      ],
      "execution_count": 14,
      "outputs": []
    },
    {
      "cell_type": "code",
      "metadata": {
        "id": "Qg-maex27KPW",
        "colab": {
          "base_uri": "https://localhost:8080/"
        },
        "outputId": "da957f61-82df-4c53-caa6-64ade6404206"
      },
      "source": [
        "# Use the model to predict some reviews   \n",
        "fake_reviews = [\"I love this phone\", \n",
        "                \"Everything was cold\",\n",
        "                \"Everything was hot exactly as I wanted\", \n",
        "                \"Everything was green\", \n",
        "                \"the host seated us immediately\",\n",
        "                \"they gave us free chocolate cake\", \n",
        "                \"we couldn't hear each other talk because of the shouting in the kitchen\"\n",
        "              ]\n",
        "\n",
        "predict_review(model, fake_reviews)\n"
      ],
      "execution_count": 15,
      "outputs": [
        {
          "output_type": "stream",
          "text": [
            "[  4 281  16  25   0   0   0   0   0   0   0   0   0   0   0   0   0   0\n",
            "   0   0   0   0   0   0   0   0   0   0   0   0   0   0   0   0   0   0\n",
            "   0   0   0   0   0   0   0   0   0   0   0   0   0   0]\n",
            "I love this phone\n",
            "[0.88194823]\n",
            "\n",
            "\n",
            "[812 227 864 100 775   9 525 843   0   0   0   0   0   0   0   0   0   0\n",
            "   0   0   0   0   0   0   0   0   0   0   0   0   0   0   0   0   0   0\n",
            "   0   0   0   0   0   0   0   0   0   0   0   0   0   0]\n",
            "Everything was cold\n",
            "[0.13533592]\n",
            "\n",
            "\n",
            "[812 227 864 100 775   9 109   8 333 731  24  61   4 171  59  77   0   0\n",
            "   0   0   0   0   0   0   0   0   0   0   0   0   0   0   0   0   0   0\n",
            "   0   0   0   0   0   0   0   0   0   0   0   0   0   0]\n",
            "Everything was hot exactly as I wanted\n",
            "[0.31582716]\n",
            "\n",
            "\n",
            "[812 227 864 100 775   9 157 359 853   0   0   0   0   0   0   0   0   0\n",
            "   0   0   0   0   0   0   0   0   0   0   0   0   0   0   0   0   0   0\n",
            "   0   0   0   0   0   0   0   0   0   0   0   0   0   0]\n",
            "Everything was green\n",
            "[0.10787178]\n",
            "\n",
            "\n",
            "[  1 109 228 540 237 635 241 423 340  89 298   0   0   0   0   0   0   0\n",
            "   0   0   0   0   0   0   0   0   0   0   0   0   0   0   0   0   0   0\n",
            "   0   0   0   0   0   0   0   0   0   0   0   0   0   0]\n",
            "the host seated us immediately\n",
            "[0.45785877]\n",
            "\n",
            "\n",
            "[154 242  47 635 341  12 569 547 147 319 775 125  85   0   0   0   0   0\n",
            "   0   0   0   0   0   0   0   0   0   0   0   0   0   0   0   0   0   0\n",
            "   0   0   0   0   0   0   0   0   0   0   0   0   0   0]\n",
            "they gave us free chocolate cake\n",
            "[0.7047423]\n",
            "\n",
            "\n",
            "[158 190 853 782   8 607 775 210 232 146 775 470  67 305 101  15   1 328\n",
            " 296  26  19   1 661 641 195   0   0   0   0   0   0   0   0   0   0   0\n",
            "   0   0   0   0   0   0   0   0   0   0   0   0   0   0]\n",
            "we couldn't hear each other talk because of the shouting in the kitchen\n",
            "[0.04478806]\n",
            "\n",
            "\n"
          ],
          "name": "stdout"
        }
      ]
    },
    {
      "cell_type": "markdown",
      "metadata": {
        "id": "ycJKbMq3K4iy"
      },
      "source": [
        "# Define a function to train and show the results of models with different layers\n",
        "\n",
        "In the rest of this colab, we will define models, and then see the results. \n",
        "\n",
        "Define a function that will take the model, compile it, train it, graph the accuracy and loss, and then predict some results."
      ]
    },
    {
      "cell_type": "code",
      "metadata": {
        "id": "PevUcINXK3gn"
      },
      "source": [
        "def fit_model_now (model, sentences) :\n",
        "  model.compile(loss='binary_crossentropy',optimizer='adam',metrics=['accuracy'])\n",
        "  model.summary()\n",
        "  history = model.fit(training_sequences, training_labels_final, epochs=num_epochs, \n",
        "                      validation_data=(testing_sequences, testing_labels_final))\n",
        "  return history\n",
        "\n",
        "def plot_results (history):\n",
        "  plot_graphs(history, \"accuracy\")\n",
        "  plot_graphs(history, \"loss\")\n",
        "\n",
        "def fit_model_and_show_results (model, sentences):\n",
        "  history = fit_model_now(model, sentences)\n",
        "  plot_results(history)\n",
        "  predict_review(model, sentences)"
      ],
      "execution_count": 17,
      "outputs": []
    },
    {
      "cell_type": "markdown",
      "metadata": {
        "id": "U13JBiJUG1oq"
      },
      "source": [
        "# Add a bidirectional LSTM\n",
        "\n",
        "Create a new model that uses a bidirectional LSTM.\n",
        "\n",
        "Then use the function we have already defined to compile the model, train it, graph the accuracy and loss, then predict some results."
      ]
    },
    {
      "cell_type": "code",
      "metadata": {
        "id": "scTUsFPAG4zP",
        "colab": {
          "base_uri": "https://localhost:8080/",
          "height": 1000
        },
        "outputId": "5e8d98c2-4620-4052-d898-e06c75373339"
      },
      "source": [
        "# Define the model\n",
        "model_bidi_lstm = tf.keras.Sequential([\n",
        "    tf.keras.layers.Embedding(vocab_size, embedding_dim, input_length=max_length),\n",
        "    tf.keras.layers.Bidirectional(tf.keras.layers.LSTM(embedding_dim)), \n",
        "    tf.keras.layers.Dense(6, activation='relu'), \n",
        "    tf.keras.layers.Dense(1, activation='sigmoid')\n",
        "])\n",
        "\n",
        "# Compile and train the model and then show the predictions for our extra sentences\n",
        "fit_model_and_show_results(model_bidi_lstm, fake_reviews)\n"
      ],
      "execution_count": 18,
      "outputs": [
        {
          "output_type": "stream",
          "text": [
            "Model: \"sequential_1\"\n",
            "_________________________________________________________________\n",
            "Layer (type)                 Output Shape              Param #   \n",
            "=================================================================\n",
            "embedding_1 (Embedding)      (None, 50, 16)            16000     \n",
            "_________________________________________________________________\n",
            "bidirectional (Bidirectional (None, 32)                4224      \n",
            "_________________________________________________________________\n",
            "dense_2 (Dense)              (None, 6)                 198       \n",
            "_________________________________________________________________\n",
            "dense_3 (Dense)              (None, 1)                 7         \n",
            "=================================================================\n",
            "Total params: 20,429\n",
            "Trainable params: 20,429\n",
            "Non-trainable params: 0\n",
            "_________________________________________________________________\n",
            "Epoch 1/30\n",
            "50/50 [==============================] - 7s 20ms/step - loss: 0.6933 - accuracy: 0.5154 - val_loss: 0.6928 - val_accuracy: 0.5113\n",
            "Epoch 2/30\n",
            "50/50 [==============================] - 0s 9ms/step - loss: 0.6811 - accuracy: 0.5838 - val_loss: 0.6648 - val_accuracy: 0.6366\n",
            "Epoch 3/30\n",
            "50/50 [==============================] - 0s 8ms/step - loss: 0.5636 - accuracy: 0.7508 - val_loss: 0.5386 - val_accuracy: 0.7569\n",
            "Epoch 4/30\n",
            "50/50 [==============================] - 0s 8ms/step - loss: 0.3935 - accuracy: 0.8362 - val_loss: 0.5337 - val_accuracy: 0.7444\n",
            "Epoch 5/30\n",
            "50/50 [==============================] - 0s 8ms/step - loss: 0.3061 - accuracy: 0.8864 - val_loss: 0.5670 - val_accuracy: 0.7368\n",
            "Epoch 6/30\n",
            "50/50 [==============================] - 0s 8ms/step - loss: 0.2455 - accuracy: 0.9109 - val_loss: 0.5043 - val_accuracy: 0.7794\n",
            "Epoch 7/30\n",
            "50/50 [==============================] - 0s 8ms/step - loss: 0.2159 - accuracy: 0.9253 - val_loss: 0.6301 - val_accuracy: 0.7444\n",
            "Epoch 8/30\n",
            "50/50 [==============================] - 0s 8ms/step - loss: 0.1769 - accuracy: 0.9435 - val_loss: 0.6586 - val_accuracy: 0.7494\n",
            "Epoch 9/30\n",
            "50/50 [==============================] - 0s 9ms/step - loss: 0.1432 - accuracy: 0.9605 - val_loss: 0.6946 - val_accuracy: 0.7644\n",
            "Epoch 10/30\n",
            "50/50 [==============================] - 0s 8ms/step - loss: 0.1357 - accuracy: 0.9617 - val_loss: 0.7475 - val_accuracy: 0.7694\n",
            "Epoch 11/30\n",
            "50/50 [==============================] - 0s 8ms/step - loss: 0.1196 - accuracy: 0.9686 - val_loss: 0.8191 - val_accuracy: 0.7669\n",
            "Epoch 12/30\n",
            "50/50 [==============================] - 0s 8ms/step - loss: 0.1066 - accuracy: 0.9736 - val_loss: 0.8427 - val_accuracy: 0.7594\n",
            "Epoch 13/30\n",
            "50/50 [==============================] - 0s 8ms/step - loss: 0.0888 - accuracy: 0.9805 - val_loss: 0.7845 - val_accuracy: 0.7744\n",
            "Epoch 14/30\n",
            "50/50 [==============================] - 0s 9ms/step - loss: 0.1098 - accuracy: 0.9630 - val_loss: 0.8710 - val_accuracy: 0.7619\n",
            "Epoch 15/30\n",
            "50/50 [==============================] - 0s 8ms/step - loss: 0.0840 - accuracy: 0.9780 - val_loss: 0.8066 - val_accuracy: 0.7644\n",
            "Epoch 16/30\n",
            "50/50 [==============================] - 0s 9ms/step - loss: 0.0798 - accuracy: 0.9787 - val_loss: 0.9530 - val_accuracy: 0.7669\n",
            "Epoch 17/30\n",
            "50/50 [==============================] - 0s 8ms/step - loss: 0.0869 - accuracy: 0.9774 - val_loss: 0.8377 - val_accuracy: 0.7644\n",
            "Epoch 18/30\n",
            "50/50 [==============================] - 0s 8ms/step - loss: 0.0746 - accuracy: 0.9812 - val_loss: 0.9598 - val_accuracy: 0.7594\n",
            "Epoch 19/30\n",
            "50/50 [==============================] - 0s 8ms/step - loss: 0.0618 - accuracy: 0.9856 - val_loss: 0.9654 - val_accuracy: 0.7669\n",
            "Epoch 20/30\n",
            "50/50 [==============================] - 0s 8ms/step - loss: 0.0575 - accuracy: 0.9862 - val_loss: 0.9940 - val_accuracy: 0.7694\n",
            "Epoch 21/30\n",
            "50/50 [==============================] - 0s 8ms/step - loss: 0.0422 - accuracy: 0.9912 - val_loss: 0.9873 - val_accuracy: 0.7669\n",
            "Epoch 22/30\n",
            "50/50 [==============================] - 0s 8ms/step - loss: 0.0382 - accuracy: 0.9918 - val_loss: 1.0975 - val_accuracy: 0.7719\n",
            "Epoch 23/30\n",
            "50/50 [==============================] - 0s 8ms/step - loss: 0.0307 - accuracy: 0.9944 - val_loss: 1.1312 - val_accuracy: 0.7694\n",
            "Epoch 24/30\n",
            "50/50 [==============================] - 0s 9ms/step - loss: 0.0261 - accuracy: 0.9956 - val_loss: 1.1552 - val_accuracy: 0.7619\n",
            "Epoch 25/30\n",
            "50/50 [==============================] - 0s 8ms/step - loss: 0.0245 - accuracy: 0.9956 - val_loss: 1.1753 - val_accuracy: 0.7594\n",
            "Epoch 26/30\n",
            "50/50 [==============================] - 0s 9ms/step - loss: 0.0217 - accuracy: 0.9962 - val_loss: 1.1994 - val_accuracy: 0.7594\n",
            "Epoch 27/30\n",
            "50/50 [==============================] - 0s 9ms/step - loss: 0.0225 - accuracy: 0.9962 - val_loss: 1.2465 - val_accuracy: 0.7594\n",
            "Epoch 28/30\n",
            "50/50 [==============================] - 0s 9ms/step - loss: 0.1374 - accuracy: 0.9529 - val_loss: 0.6598 - val_accuracy: 0.7318\n",
            "Epoch 29/30\n",
            "50/50 [==============================] - 0s 9ms/step - loss: 0.1873 - accuracy: 0.9360 - val_loss: 0.7969 - val_accuracy: 0.7594\n",
            "Epoch 30/30\n",
            "50/50 [==============================] - 0s 9ms/step - loss: 0.0906 - accuracy: 0.9718 - val_loss: 0.9003 - val_accuracy: 0.7544\n"
          ],
          "name": "stdout"
        },
        {
          "output_type": "display_data",
          "data": {
            "image/png": "[encoded data removed]",
            "text/plain": [
              "<Figure size 432x288 with 1 Axes>"
            ]
          },
          "metadata": {
            "tags": [],
            "needs_background": "light"
          }
        },
        {
          "output_type": "display_data",
          "data": {
            "image/png": "[encoded data removed]",
            "text/plain": [
              "<Figure size 432x288 with 1 Axes>"
            ]
          },
          "metadata": {
            "tags": [],
            "needs_background": "light"
          }
        },
        {
          "output_type": "stream",
          "text": [
            "[  4 281  16  25   0   0   0   0   0   0   0   0   0   0   0   0   0   0\n",
            "   0   0   0   0   0   0   0   0   0   0   0   0   0   0   0   0   0   0\n",
            "   0   0   0   0   0   0   0   0   0   0   0   0   0   0]\n",
            "I love this phone\n",
            "[0.9891472]\n",
            "\n",
            "\n",
            "[812 227 864 100 775   9 525 843   0   0   0   0   0   0   0   0   0   0\n",
            "   0   0   0   0   0   0   0   0   0   0   0   0   0   0   0   0   0   0\n",
            "   0   0   0   0   0   0   0   0   0   0   0   0   0   0]\n",
            "Everything was cold\n",
            "[0.02119424]\n",
            "\n",
            "\n",
            "[812 227 864 100 775   9 109   8 333 731  24  61   4 171  59  77   0   0\n",
            "   0   0   0   0   0   0   0   0   0   0   0   0   0   0   0   0   0   0\n",
            "   0   0   0   0   0   0   0   0   0   0   0   0   0   0]\n",
            "Everything was hot exactly as I wanted\n",
            "[0.03914191]\n",
            "\n",
            "\n",
            "[812 227 864 100 775   9 157 359 853   0   0   0   0   0   0   0   0   0\n",
            "   0   0   0   0   0   0   0   0   0   0   0   0   0   0   0   0   0   0\n",
            "   0   0   0   0   0   0   0   0   0   0   0   0   0   0]\n",
            "Everything was green\n",
            "[0.0453891]\n",
            "\n",
            "\n",
            "[  1 109 228 540 237 635 241 423 340  89 298   0   0   0   0   0   0   0\n",
            "   0   0   0   0   0   0   0   0   0   0   0   0   0   0   0   0   0   0\n",
            "   0   0   0   0   0   0   0   0   0   0   0   0   0   0]\n",
            "the host seated us immediately\n",
            "[0.9386897]\n",
            "\n",
            "\n",
            "[154 242  47 635 341  12 569 547 147 319 775 125  85   0   0   0   0   0\n",
            "   0   0   0   0   0   0   0   0   0   0   0   0   0   0   0   0   0   0\n",
            "   0   0   0   0   0   0   0   0   0   0   0   0   0   0]\n",
            "they gave us free chocolate cake\n",
            "[0.7349556]\n",
            "\n",
            "\n",
            "[158 190 853 782   8 607 775 210 232 146 775 470  67 305 101  15   1 328\n",
            " 296  26  19   1 661 641 195   0   0   0   0   0   0   0   0   0   0   0\n",
            "   0   0   0   0   0   0   0   0   0   0   0   0   0   0]\n",
            "we couldn't hear each other talk because of the shouting in the kitchen\n",
            "[0.01375657]\n",
            "\n",
            "\n"
          ],
          "name": "stdout"
        }
      ]
    },
    {
      "cell_type": "markdown",
      "metadata": {
        "id": "QsxKPbCnPJTj"
      },
      "source": [
        "# Use multiple bidirectional layers\n",
        "\n",
        "Now let's see if we get any improvements from adding another Bidirectional LSTM layer to the model.\n",
        "\n",
        "Notice that the first Bidirectionl LSTM layer returns a sequence."
      ]
    },
    {
      "cell_type": "code",
      "metadata": {
        "id": "3N6Zul47PMED",
        "colab": {
          "base_uri": "https://localhost:8080/",
          "height": 1000
        },
        "outputId": "a2ec4877-f1fb-416d-aa4f-c6911d6ce165"
      },
      "source": [
        "model_multiple_bidi_lstm = tf.keras.Sequential([\n",
        "    tf.keras.layers.Embedding(vocab_size, embedding_dim, input_length=max_length),\n",
        "    tf.keras.layers.Bidirectional(tf.keras.layers.LSTM(embedding_dim, \n",
        "                                                       return_sequences=True)), \n",
        "    tf.keras.layers.Bidirectional(tf.keras.layers.LSTM(embedding_dim)),\n",
        "    tf.keras.layers.Dense(6, activation='relu'),\n",
        "    tf.keras.layers.Dense(1, activation='sigmoid')\n",
        "])\n",
        "\n",
        "fit_model_and_show_results(model_multiple_bidi_lstm, fake_reviews)"
      ],
      "execution_count": 19,
      "outputs": [
        {
          "output_type": "stream",
          "text": [
            "Model: \"sequential_2\"\n",
            "_________________________________________________________________\n",
            "Layer (type)                 Output Shape              Param #   \n",
            "=================================================================\n",
            "embedding_2 (Embedding)      (None, 50, 16)            16000     \n",
            "_________________________________________________________________\n",
            "bidirectional_1 (Bidirection (None, 50, 32)            4224      \n",
            "_________________________________________________________________\n",
            "bidirectional_2 (Bidirection (None, 32)                6272      \n",
            "_________________________________________________________________\n",
            "dense_4 (Dense)              (None, 6)                 198       \n",
            "_________________________________________________________________\n",
            "dense_5 (Dense)              (None, 1)                 7         \n",
            "=================================================================\n",
            "Total params: 26,701\n",
            "Trainable params: 26,701\n",
            "Non-trainable params: 0\n",
            "_________________________________________________________________\n",
            "Epoch 1/30\n",
            "50/50 [==============================] - 6s 35ms/step - loss: 0.6917 - accuracy: 0.5223 - val_loss: 0.6934 - val_accuracy: 0.4110\n",
            "Epoch 2/30\n",
            "50/50 [==============================] - 1s 13ms/step - loss: 0.6469 - accuracy: 0.5750 - val_loss: 0.6302 - val_accuracy: 0.7519\n",
            "Epoch 3/30\n",
            "50/50 [==============================] - 1s 14ms/step - loss: 0.5405 - accuracy: 0.7859 - val_loss: 0.6044 - val_accuracy: 0.7293\n",
            "Epoch 4/30\n",
            "50/50 [==============================] - 1s 13ms/step - loss: 0.4058 - accuracy: 0.8324 - val_loss: 0.5614 - val_accuracy: 0.7544\n",
            "Epoch 5/30\n",
            "50/50 [==============================] - 1s 14ms/step - loss: 0.3113 - accuracy: 0.8807 - val_loss: 0.6582 - val_accuracy: 0.7444\n",
            "Epoch 6/30\n",
            "50/50 [==============================] - 1s 13ms/step - loss: 0.2674 - accuracy: 0.8964 - val_loss: 0.5793 - val_accuracy: 0.7544\n",
            "Epoch 7/30\n",
            "50/50 [==============================] - 1s 13ms/step - loss: 0.2247 - accuracy: 0.9240 - val_loss: 0.6155 - val_accuracy: 0.7569\n",
            "Epoch 8/30\n",
            "50/50 [==============================] - 1s 13ms/step - loss: 0.1875 - accuracy: 0.9416 - val_loss: 0.8262 - val_accuracy: 0.7444\n",
            "Epoch 9/30\n",
            "50/50 [==============================] - 1s 14ms/step - loss: 0.1667 - accuracy: 0.9466 - val_loss: 0.7635 - val_accuracy: 0.7519\n",
            "Epoch 10/30\n",
            "50/50 [==============================] - 1s 14ms/step - loss: 0.1345 - accuracy: 0.9623 - val_loss: 0.7641 - val_accuracy: 0.7694\n",
            "Epoch 11/30\n",
            "50/50 [==============================] - 1s 13ms/step - loss: 0.1200 - accuracy: 0.9686 - val_loss: 1.0466 - val_accuracy: 0.7268\n",
            "Epoch 12/30\n",
            "50/50 [==============================] - 1s 13ms/step - loss: 0.1114 - accuracy: 0.9705 - val_loss: 1.1234 - val_accuracy: 0.7143\n",
            "Epoch 13/30\n",
            "50/50 [==============================] - 1s 13ms/step - loss: 0.1209 - accuracy: 0.9655 - val_loss: 1.0072 - val_accuracy: 0.7519\n",
            "Epoch 14/30\n",
            "50/50 [==============================] - 1s 14ms/step - loss: 0.1437 - accuracy: 0.9592 - val_loss: 0.7637 - val_accuracy: 0.7469\n",
            "Epoch 15/30\n",
            "50/50 [==============================] - 1s 14ms/step - loss: 0.1139 - accuracy: 0.9680 - val_loss: 0.9023 - val_accuracy: 0.7343\n",
            "Epoch 16/30\n",
            "50/50 [==============================] - 1s 14ms/step - loss: 0.0899 - accuracy: 0.9805 - val_loss: 0.9370 - val_accuracy: 0.7419\n",
            "Epoch 17/30\n",
            "50/50 [==============================] - 1s 14ms/step - loss: 0.0817 - accuracy: 0.9824 - val_loss: 1.0761 - val_accuracy: 0.7419\n",
            "Epoch 18/30\n",
            "50/50 [==============================] - 1s 13ms/step - loss: 0.0777 - accuracy: 0.9831 - val_loss: 1.0937 - val_accuracy: 0.7444\n",
            "Epoch 19/30\n",
            "50/50 [==============================] - 1s 13ms/step - loss: 0.0874 - accuracy: 0.9768 - val_loss: 1.1137 - val_accuracy: 0.7343\n",
            "Epoch 20/30\n",
            "50/50 [==============================] - 1s 13ms/step - loss: 0.0928 - accuracy: 0.9768 - val_loss: 1.1445 - val_accuracy: 0.7469\n",
            "Epoch 21/30\n",
            "50/50 [==============================] - 1s 14ms/step - loss: 0.1123 - accuracy: 0.9711 - val_loss: 1.0089 - val_accuracy: 0.7419\n",
            "Epoch 22/30\n",
            "50/50 [==============================] - 1s 13ms/step - loss: 0.0854 - accuracy: 0.9793 - val_loss: 0.9606 - val_accuracy: 0.7544\n",
            "Epoch 23/30\n",
            "50/50 [==============================] - 1s 13ms/step - loss: 0.0747 - accuracy: 0.9843 - val_loss: 1.0245 - val_accuracy: 0.7544\n",
            "Epoch 24/30\n",
            "50/50 [==============================] - 1s 14ms/step - loss: 0.0736 - accuracy: 0.9843 - val_loss: 1.0417 - val_accuracy: 0.7544\n",
            "Epoch 25/30\n",
            "50/50 [==============================] - 1s 13ms/step - loss: 0.0730 - accuracy: 0.9843 - val_loss: 1.0603 - val_accuracy: 0.7519\n",
            "Epoch 26/30\n",
            "50/50 [==============================] - 1s 14ms/step - loss: 0.0729 - accuracy: 0.9843 - val_loss: 1.1387 - val_accuracy: 0.7519\n",
            "Epoch 27/30\n",
            "50/50 [==============================] - 1s 13ms/step - loss: 0.0724 - accuracy: 0.9843 - val_loss: 1.1167 - val_accuracy: 0.7544\n",
            "Epoch 28/30\n",
            "50/50 [==============================] - 1s 13ms/step - loss: 0.0702 - accuracy: 0.9849 - val_loss: 1.1328 - val_accuracy: 0.7494\n",
            "Epoch 29/30\n",
            "50/50 [==============================] - 1s 15ms/step - loss: 0.0700 - accuracy: 0.9849 - val_loss: 1.1669 - val_accuracy: 0.7444\n",
            "Epoch 30/30\n",
            "50/50 [==============================] - 1s 16ms/step - loss: 0.0677 - accuracy: 0.9856 - val_loss: 1.2236 - val_accuracy: 0.7444\n"
          ],
          "name": "stdout"
        },
        {
          "output_type": "display_data",
          "data": {
            "image/png": "[encoded data removed]",
            "text/plain": [
              "<Figure size 432x288 with 1 Axes>"
            ]
          },
          "metadata": {
            "tags": [],
            "needs_background": "light"
          }
        },
        {
          "output_type": "display_data",
          "data": {
            "image/png": "[encoded data removed]",
            "text/plain": [
              "<Figure size 432x288 with 1 Axes>"
            ]
          },
          "metadata": {
            "tags": [],
            "needs_background": "light"
          }
        },
        {
          "output_type": "stream",
          "text": [
            "[  4 281  16  25   0   0   0   0   0   0   0   0   0   0   0   0   0   0\n",
            "   0   0   0   0   0   0   0   0   0   0   0   0   0   0   0   0   0   0\n",
            "   0   0   0   0   0   0   0   0   0   0   0   0   0   0]\n",
            "I love this phone\n",
            "[0.99905926]\n",
            "\n",
            "\n",
            "[812 227 864 100 775   9 525 843   0   0   0   0   0   0   0   0   0   0\n",
            "   0   0   0   0   0   0   0   0   0   0   0   0   0   0   0   0   0   0\n",
            "   0   0   0   0   0   0   0   0   0   0   0   0   0   0]\n",
            "Everything was cold\n",
            "[0.02917474]\n",
            "\n",
            "\n",
            "[812 227 864 100 775   9 109   8 333 731  24  61   4 171  59  77   0   0\n",
            "   0   0   0   0   0   0   0   0   0   0   0   0   0   0   0   0   0   0\n",
            "   0   0   0   0   0   0   0   0   0   0   0   0   0   0]\n",
            "Everything was hot exactly as I wanted\n",
            "[0.03191561]\n",
            "\n",
            "\n",
            "[812 227 864 100 775   9 157 359 853   0   0   0   0   0   0   0   0   0\n",
            "   0   0   0   0   0   0   0   0   0   0   0   0   0   0   0   0   0   0\n",
            "   0   0   0   0   0   0   0   0   0   0   0   0   0   0]\n",
            "Everything was green\n",
            "[0.02873039]\n",
            "\n",
            "\n",
            "[  1 109 228 540 237 635 241 423 340  89 298   0   0   0   0   0   0   0\n",
            "   0   0   0   0   0   0   0   0   0   0   0   0   0   0   0   0   0   0\n",
            "   0   0   0   0   0   0   0   0   0   0   0   0   0   0]\n",
            "the host seated us immediately\n",
            "[0.02844651]\n",
            "\n",
            "\n",
            "[154 242  47 635 341  12 569 547 147 319 775 125  85   0   0   0   0   0\n",
            "   0   0   0   0   0   0   0   0   0   0   0   0   0   0   0   0   0   0\n",
            "   0   0   0   0   0   0   0   0   0   0   0   0   0   0]\n",
            "they gave us free chocolate cake\n",
            "[0.99873]\n",
            "\n",
            "\n",
            "[158 190 853 782   8 607 775 210 232 146 775 470  67 305 101  15   1 328\n",
            " 296  26  19   1 661 641 195   0   0   0   0   0   0   0   0   0   0   0\n",
            "   0   0   0   0   0   0   0   0   0   0   0   0   0   0]\n",
            "we couldn't hear each other talk because of the shouting in the kitchen\n",
            "[0.02844172]\n",
            "\n",
            "\n"
          ],
          "name": "stdout"
        }
      ]
    },
    {
      "cell_type": "markdown",
      "metadata": {
        "id": "ABVYYPwba8Hx"
      },
      "source": [
        "# Compare predictions for all the models\n",
        "\n",
        "It can be hard to see which model gives a better prediction for different reviews when you examine each model separately. So for comparison purposes, here we define some more reviews and print out the predictions that each of the three models gives for each review:\n",
        "\n",
        "*   Embeddings and a Global Average Pooling layer\n",
        "*   Embeddings and a Bidirectional LSTM layer\n",
        "*   Embeddings and two Bidirectional LSTM layers\n",
        "\n",
        "The results are not always what you might expect. The input dataset is fairly small, it has less than 2000 reviews. Some of the reviews are fairly short, and some of the short ones are fairly repetitive which reduces their impact on improving the  model, such as these two reviews:\n",
        "\n",
        "*   Bad Quality.\n",
        "*   Low Quality.\n",
        "\n",
        "Feel free to add more reviews of your own, or change the reviews. The results will depend on the combination of words in the reviews, and how well they match to reviews in the training set. \n",
        "\n",
        "How do the different models handle things like \"wasn't good\" which contains a positive word (good) but is a poor review?\n"
      ]
    },
    {
      "cell_type": "code",
      "metadata": {
        "id": "6XebrXt0jtOy"
      },
      "source": [
        "my_reviews =[\"lovely\", \"dreadful\", \"stay away\",\n",
        "             \"everything was hot exactly as I wanted\",\n",
        "             \"everything was not exactly as I wanted\",\n",
        "             \"they gave us free chocolate cake\",\n",
        "             \"I've never eaten anything so spicy in my life, my throat burned for hours\",\n",
        "             \"for a phone that is as expensive as this one I expect it to be much easier to use than this thing is\",\n",
        "             \"we left there very full for a low price so I'd say you just can't go wrong at this place\",\n",
        "             \"that place does not have quality meals and it isn't a good place to go for dinner\",\n",
        "             ]"
      ],
      "execution_count": 20,
      "outputs": []
    },
    {
      "cell_type": "code",
      "metadata": {
        "id": "tRWGjkJLkY2y",
        "colab": {
          "base_uri": "https://localhost:8080/"
        },
        "outputId": "d76d9023-b203-4261-bfd8-c35f416a2968"
      },
      "source": [
        "print(\"===================================\\n\",\"Embeddings only:\\n\", \"===================================\",)\n",
        "predict_review(model, my_reviews, show_padded_sequence=False)"
      ],
      "execution_count": 21,
      "outputs": [
        {
          "output_type": "stream",
          "text": [
            "===================================\n",
            " Embeddings only:\n",
            " ===================================\n",
            "lovely\n",
            "[0.8881121]\n",
            "\n",
            "\n",
            "dreadful\n",
            "[0.3341301]\n",
            "\n",
            "\n",
            "stay away\n",
            "[0.60887045]\n",
            "\n",
            "\n",
            "everything was hot exactly as I wanted\n",
            "[0.7074209]\n",
            "\n",
            "\n",
            "everything was not exactly as I wanted\n",
            "[0.43996665]\n",
            "\n",
            "\n",
            "they gave us free chocolate cake\n",
            "[0.7047423]\n",
            "\n",
            "\n",
            "I've never eaten anything so spicy in my life, my throat burned for hours\n",
            "[0.05972588]\n",
            "\n",
            "\n",
            "for a phone that is as expensive as this one I expect it to be much easier to use than this thing is\n",
            "[0.40469489]\n",
            "\n",
            "\n",
            "we left there very full for a low price so I'd say you just can't go wrong at this place\n",
            "[0.7819384]\n",
            "\n",
            "\n",
            "that place does not have quality meals and it isn't a good place to go for dinner\n",
            "[0.7740082]\n",
            "\n",
            "\n"
          ],
          "name": "stdout"
        }
      ]
    },
    {
      "cell_type": "code",
      "metadata": {
        "id": "G2FJR3IVBt30",
        "colab": {
          "base_uri": "https://localhost:8080/"
        },
        "outputId": "792b7fab-bc60-4ad3-f0c2-784073d5f687"
      },
      "source": [
        "print(\"===================================\\n\", \"With a single bidirectional LSTM:\\n\", \"===================================\")\n",
        "predict_review(model_bidi_lstm, my_reviews, show_padded_sequence=False)"
      ],
      "execution_count": 22,
      "outputs": [
        {
          "output_type": "stream",
          "text": [
            "===================================\n",
            " With a single bidirectional LSTM:\n",
            " ===================================\n",
            "lovely\n",
            "[0.9642945]\n",
            "\n",
            "\n",
            "dreadful\n",
            "[0.03322681]\n",
            "\n",
            "\n",
            "stay away\n",
            "[0.3353474]\n",
            "\n",
            "\n",
            "everything was hot exactly as I wanted\n",
            "[0.16542658]\n",
            "\n",
            "\n",
            "everything was not exactly as I wanted\n",
            "[0.04258787]\n",
            "\n",
            "\n",
            "they gave us free chocolate cake\n",
            "[0.7349556]\n",
            "\n",
            "\n",
            "I've never eaten anything so spicy in my life, my throat burned for hours\n",
            "[0.02591518]\n",
            "\n",
            "\n",
            "for a phone that is as expensive as this one I expect it to be much easier to use than this thing is\n",
            "[0.09074552]\n",
            "\n",
            "\n",
            "we left there very full for a low price so I'd say you just can't go wrong at this place\n",
            "[0.04701564]\n",
            "\n",
            "\n",
            "that place does not have quality meals and it isn't a good place to go for dinner\n",
            "[0.8155007]\n",
            "\n",
            "\n"
          ],
          "name": "stdout"
        }
      ]
    },
    {
      "cell_type": "code",
      "metadata": {
        "id": "81v1r3Y2BwvC",
        "colab": {
          "base_uri": "https://localhost:8080/"
        },
        "outputId": "14674d88-e338-4ac8-b444-625ccfbf8b37"
      },
      "source": [
        "print(\"===================================\\n\",\"With two bidirectional LSTMs:\\n\", \"===================================\")\n",
        "predict_review(model_multiple_bidi_lstm, my_reviews, show_padded_sequence=False)"
      ],
      "execution_count": 23,
      "outputs": [
        {
          "output_type": "stream",
          "text": [
            "===================================\n",
            " With two bidirectional LSTMs:\n",
            " ===================================\n",
            "lovely\n",
            "[0.99905604]\n",
            "\n",
            "\n",
            "dreadful\n",
            "[0.02872176]\n",
            "\n",
            "\n",
            "stay away\n",
            "[0.03057827]\n",
            "\n",
            "\n",
            "everything was hot exactly as I wanted\n",
            "[0.98174644]\n",
            "\n",
            "\n",
            "everything was not exactly as I wanted\n",
            "[0.03013288]\n",
            "\n",
            "\n",
            "they gave us free chocolate cake\n",
            "[0.99873]\n",
            "\n",
            "\n",
            "I've never eaten anything so spicy in my life, my throat burned for hours\n",
            "[0.0275476]\n",
            "\n",
            "\n",
            "for a phone that is as expensive as this one I expect it to be much easier to use than this thing is\n",
            "[0.02800999]\n",
            "\n",
            "\n",
            "we left there very full for a low price so I'd say you just can't go wrong at this place\n",
            "[0.02797516]\n",
            "\n",
            "\n",
            "that place does not have quality meals and it isn't a good place to go for dinner\n",
            "[0.02881883]\n",
            "\n",
            "\n"
          ],
          "name": "stdout"
        }
      ]
    }
  ]
}