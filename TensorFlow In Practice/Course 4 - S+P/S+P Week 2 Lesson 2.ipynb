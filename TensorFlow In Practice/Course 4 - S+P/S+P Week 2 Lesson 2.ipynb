{
  "nbformat": 4,
  "nbformat_minor": 0,
  "metadata": {
    "colab": {
      "name": "S+P Week 2 Lesson 2.ipynb",
      "provenance": [],
      "toc_visible": true,
      "include_colab_link": true
    },
    "kernelspec": {
      "display_name": "Python 3",
      "name": "python3"
    },
    "accelerator": "GPU"
  },
  "cells": [
    {
      "cell_type": "markdown",
      "metadata": {
        "id": "view-in-github",
        "colab_type": "text"
      },
      "source": [
        "<a href=\"https://colab.research.google.com/github/ovieimara/machine_learning/blob/main/TensorFlow%20In%20Practice/Course%204%20-%20S%2BP/S%2BP%20Week%202%20Lesson%202.ipynb\" target=\"_parent\"><img src=\"https://colab.research.google.com/assets/colab-badge.svg\" alt=\"Open In Colab\"/></a>"
      ]
    },
    {
      "cell_type": "code",
      "metadata": {
        "id": "zX4Kg8DUTKWO"
      },
      "source": [
        "#@title Licensed under the Apache License, Version 2.0 (the \"License\");\n",
        "# you may not use this file except in compliance with the License.\n",
        "# You may obtain a copy of the License at\n",
        "#\n",
        "# https://www.apache.org/licenses/LICENSE-2.0\n",
        "#\n",
        "# Unless required by applicable law or agreed to in writing, software\n",
        "# distributed under the License is distributed on an \"AS IS\" BASIS,\n",
        "# WITHOUT WARRANTIES OR CONDITIONS OF ANY KIND, either express or implied.\n",
        "# See the License for the specific language governing permissions and\n",
        "# limitations under the License."
      ],
      "execution_count": 2,
      "outputs": []
    },
    {
      "cell_type": "markdown",
      "metadata": {
        "id": "view-in-github"
      },
      "source": [
        "<a href=\"https://colab.research.google.com/github/lmoroney/dlaicourse/blob/master/TensorFlow%20In%20Practice/Course%204%20-%20S%2BP/S%2BP%20Week%202%20Lesson%202.ipynb\" target=\"_parent\"><img src=\"https://colab.research.google.com/assets/colab-badge.svg\" alt=\"Open In Colab\"/></a>"
      ]
    },
    {
      "cell_type": "code",
      "metadata": {
        "id": "-pwam8szRReT"
      },
      "source": [
        "try:\n",
        "  # %tensorflow_version only exists in Colab.\n",
        "  %tensorflow_version 2.x\n",
        "except Exception:\n",
        "  pass"
      ],
      "execution_count": 3,
      "outputs": []
    },
    {
      "cell_type": "code",
      "metadata": {
        "colab": {
          "base_uri": "https://localhost:8080/"
        },
        "id": "BOjujz601HcS",
        "outputId": "2058563f-f84e-4a0a-b31c-54f27380111a"
      },
      "source": [
        "import tensorflow as tf\n",
        "import numpy as np\n",
        "import matplotlib.pyplot as plt\n",
        "print(tf.__version__)"
      ],
      "execution_count": 4,
      "outputs": [
        {
          "output_type": "stream",
          "text": [
            "2.5.0\n"
          ],
          "name": "stdout"
        }
      ]
    },
    {
      "cell_type": "code",
      "metadata": {
        "id": "Zswl7jRtGzkk"
      },
      "source": [
        "def plot_series(time, series, format=\"-\", start=0, end=None):\n",
        "    plt.plot(time[start:end], series[start:end], format)\n",
        "    plt.xlabel(\"Time\")\n",
        "    plt.ylabel(\"Value\")\n",
        "    plt.grid(True)\n",
        "\n",
        "def trend(time, slope=0):\n",
        "    return slope * time\n",
        "\n",
        "def seasonal_pattern(season_time):\n",
        "    \"\"\"Just an arbitrary pattern, you can change it if you wish\"\"\"\n",
        "    return np.where(season_time < 0.4,\n",
        "                    np.cos(season_time * 2 * np.pi),\n",
        "                    1 / np.exp(3 * season_time))\n",
        "\n",
        "def seasonality(time, period, amplitude=1, phase=0):\n",
        "    \"\"\"Repeats the same pattern at each period\"\"\"\n",
        "    season_time = ((time + phase) % period) / period\n",
        "    return amplitude * seasonal_pattern(season_time)\n",
        "\n",
        "def noise(time, noise_level=1, seed=None):\n",
        "    rnd = np.random.RandomState(seed)\n",
        "    return rnd.randn(len(time)) * noise_level\n",
        "\n",
        "time = np.arange(4 * 365 + 1, dtype=\"float32\")\n",
        "baseline = 10\n",
        "series = trend(time, 0.1)  \n",
        "baseline = 10\n",
        "amplitude = 40\n",
        "slope = 0.05\n",
        "noise_level = 5\n",
        "\n",
        "# Create the series\n",
        "series = baseline + trend(time, slope) + seasonality(time, period=365, amplitude=amplitude)\n",
        "# Update with noise\n",
        "series += noise(time, noise_level, seed=42)\n",
        "\n",
        "split_time = 1000\n",
        "time_train = time[:split_time]\n",
        "x_train = series[:split_time]\n",
        "time_valid = time[split_time:]\n",
        "x_valid = series[split_time:]\n",
        "\n",
        "window_size = 20\n",
        "batch_size = 32\n",
        "shuffle_buffer_size = 1000"
      ],
      "execution_count": 5,
      "outputs": []
    },
    {
      "cell_type": "code",
      "metadata": {
        "id": "4sTTIOCbyShY"
      },
      "source": [
        "def windowed_dataset(series, window_size, batch_size, shuffle_buffer):\n",
        "  dataset = tf.data.Dataset.from_tensor_slices(series)\n",
        "  dataset = dataset.window(window_size + 1, shift=1, drop_remainder=True)\n",
        "  ds = iter(dataset.flat_map(lambda x: x))\n",
        "  print (next(ds))\n",
        "  dataset = dataset.flat_map(lambda window: window.batch(window_size + 1))\n",
        "  dataset = dataset.shuffle(shuffle_buffer).map(lambda window: (window[:-1], window[-1]))\n",
        "  dataset = dataset.batch(batch_size).prefetch(1)\n",
        "  return dataset"
      ],
      "execution_count": 6,
      "outputs": []
    },
    {
      "cell_type": "code",
      "metadata": {
        "colab": {
          "base_uri": "https://localhost:8080/"
        },
        "id": "KjXD4q8OvHxw",
        "outputId": "8171a6ce-1df6-45ff-c7ac-f8e58fd5d929"
      },
      "source": [
        "dataset = windowed_dataset(x_train, window_size, batch_size, shuffle_buffer_size)"
      ],
      "execution_count": 7,
      "outputs": [
        {
          "output_type": "stream",
          "text": [
            "tf.Tensor(52.48357, shape=(), dtype=float32)\n"
          ],
          "name": "stdout"
        }
      ]
    },
    {
      "cell_type": "code",
      "metadata": {
        "colab": {
          "base_uri": "https://localhost:8080/"
        },
        "id": "ou-WmE2AXu6B",
        "outputId": "d690c83f-fa1b-49d4-e7fd-f15c6ce0f3b0"
      },
      "source": [
        "dataset = windowed_dataset(x_train, window_size, batch_size, shuffle_buffer_size)\n",
        "print(dataset)\n",
        "l0 = tf.keras.layers.Dense(1, input_shape=[window_size])\n",
        "model = tf.keras.models.Sequential([l0])\n",
        "\n",
        "\n",
        "model.compile(loss=\"mse\", optimizer=tf.keras.optimizers.SGD(lr=1e-6, momentum=0.9))\n",
        "model.fit(dataset,epochs=100,verbose=0)\n",
        "\n",
        "print(\"Layer weights {}\".format(l0.get_weights()))\n"
      ],
      "execution_count": 8,
      "outputs": [
        {
          "output_type": "stream",
          "text": [
            "tf.Tensor(52.48357, shape=(), dtype=float32)\n",
            "<PrefetchDataset shapes: ((None, None), (None,)), types: (tf.float32, tf.float32)>\n"
          ],
          "name": "stdout"
        },
        {
          "output_type": "stream",
          "text": [
            "/usr/local/lib/python3.7/dist-packages/tensorflow/python/keras/optimizer_v2/optimizer_v2.py:375: UserWarning: The `lr` argument is deprecated, use `learning_rate` instead.\n",
            "  \"The `lr` argument is deprecated, use `learning_rate` instead.\")\n"
          ],
          "name": "stderr"
        },
        {
          "output_type": "stream",
          "text": [
            "Layer weights [array([[-0.05275898],\n",
            "       [-0.00313857],\n",
            "       [ 0.03801133],\n",
            "       [ 0.04832603],\n",
            "       [-0.0146458 ],\n",
            "       [-0.03970325],\n",
            "       [-0.02868145],\n",
            "       [ 0.07607033],\n",
            "       [-0.02149639],\n",
            "       [ 0.02841447],\n",
            "       [-0.03661492],\n",
            "       [ 0.0584581 ],\n",
            "       [-0.08374722],\n",
            "       [ 0.02716343],\n",
            "       [ 0.03501908],\n",
            "       [ 0.05742212],\n",
            "       [ 0.03540488],\n",
            "       [ 0.10141644],\n",
            "       [ 0.3420435 ],\n",
            "       [ 0.43295118]], dtype=float32), array([0.01675839], dtype=float32)]\n"
          ],
          "name": "stdout"
        }
      ]
    },
    {
      "cell_type": "code",
      "metadata": {
        "colab": {
          "base_uri": "https://localhost:8080/",
          "height": 388
        },
        "id": "-gtVJuLVxR-M",
        "outputId": "cadc0088-383b-4b3d-81d8-e0a843a3a395"
      },
      "source": [
        "forecast = []\n",
        "\n",
        "for time in range(len(series) - window_size):\n",
        "  forecast.append(model.predict(series[time:time + window_size][np.newaxis]))\n",
        "\n",
        "forecast = forecast[split_time-window_size:]\n",
        "results = np.array(forecast)[:, 0, 0]\n",
        "\n",
        "\n",
        "plt.figure(figsize=(10, 6))\n",
        "\n",
        "plot_series(time_valid, x_valid)\n",
        "plot_series(time_valid, results)"
      ],
      "execution_count": 17,
      "outputs": [
        {
          "output_type": "display_data",
          "data": {
            "image/png": "[encoded data removed]",
            "text/plain": [
              "<Figure size 720x432 with 1 Axes>"
            ]
          },
          "metadata": {
            "tags": [],
            "needs_background": "light"
          }
        }
      ]
    },
    {
      "cell_type": "code",
      "metadata": {
        "colab": {
          "base_uri": "https://localhost:8080/"
        },
        "id": "mNPis6kx7HvQ",
        "outputId": "4429856e-cb54-47a8-a1ad-f4b3b8760bf3"
      },
      "source": [
        "print(np.array(forecast)[:, 0, 0])"
      ],
      "execution_count": 15,
      "outputs": [
        {
          "output_type": "stream",
          "text": [
            "[ 64.32405   68.592094  69.09008   67.43275   62.95772   66.21764\n",
            "  66.62117   67.15863   67.00809   68.7256    65.759605  67.28341\n",
            "  66.85154   71.63181   67.416855  68.3554    66.78524   66.16671\n",
            "  62.96105   64.177376  63.152946  67.38006   62.540108  65.35998\n",
            "  68.87899   73.32338   68.829216  66.91852   66.01411   67.7536\n",
            "  63.949467  62.73167   60.509785  63.09362   65.02343   64.398506\n",
            "  68.079384  65.99915   59.76473   62.8395    66.632256  71.644\n",
            "  67.18992   66.13285   67.40376   66.340355  67.70976   67.57353\n",
            "  62.923527  66.4866    69.28868   68.56898   66.46192   67.513535\n",
            "  66.159004  65.42637   62.904213  65.10649   68.35259   68.39659\n",
            "  65.03906   67.33415   61.785255  63.820118  62.295322  61.78836\n",
            "  61.87228   60.835518  63.761173  67.189354  64.96042   67.40341\n",
            "  65.052444  68.01092   62.965843  66.84558   66.5898    61.605595\n",
            "  61.906536  67.10463   70.7062    67.95884   63.862064  65.693474\n",
            "  70.920074  71.22898   68.00913   70.012375  69.88318   66.90679\n",
            "  66.28083   66.204636  67.41759   67.04356   66.84809   68.958496\n",
            "  86.208626  96.987274  95.244705 100.09822  105.176926 108.41682\n",
            " 100.90061  103.069405 106.95206  107.93288  102.46443  104.60712\n",
            " 104.02913  104.865974 103.74456  107.76017  104.44127  110.057686\n",
            " 105.80042  107.43441  105.32227  110.13076  106.845055 104.43806\n",
            " 105.88038  108.26165  108.206894 106.37267  100.01688  104.97934\n",
            " 101.57183  101.23229   98.92442   99.52529  100.079636 101.12463\n",
            "  99.7558   105.31821  102.223694 100.32071   98.651985 103.59198\n",
            "  97.303444  97.08788   97.60615   97.30314   98.6074    97.16363\n",
            "  94.73457   95.578804  93.16839   91.06457   88.30854   92.87751\n",
            "  91.89429   87.511154  84.20859   84.54929   85.3356    89.30579\n",
            "  91.01275   89.51998   91.317245  93.89545   88.179375  82.51316\n",
            "  85.474976  84.72699   78.49328   81.673676  90.09672   90.457214\n",
            "  87.05485   81.85496   86.84037   84.982506  82.729065  78.83109\n",
            "  80.088715  76.60309   74.92692   71.17729   73.24379   72.03251\n",
            "  69.26581   70.31885   76.93659   77.488365  71.02864   65.84201\n",
            "  71.2499    69.17189   67.48337   67.78581   66.66819   66.63425\n",
            "  63.28057   62.125378  65.61681   61.183224  61.244267  63.099014\n",
            "  65.042854  64.92827   64.657875  63.39061   60.98913   59.77998\n",
            "  61.23357   59.370586  59.600307  54.987656  54.781612  51.964817\n",
            "  56.939312  54.216076  51.657322  50.06956   54.16176   53.057026\n",
            "  55.789753  50.881676  52.24883   47.895275  54.445423  49.36495\n",
            "  50.316883  48.39767   50.690735  46.88408   48.66233   45.169533\n",
            "  47.64685   45.249733  52.23163   47.116276  43.051083  40.719803\n",
            "  48.551167  45.384823  45.83147   47.29852   45.02581   42.66872\n",
            "  46.431355  42.376537  60.916836  70.91688   75.10974   77.254814\n",
            "  79.91406   80.68535   82.245155  79.358826  80.540016  80.657875\n",
            "  85.64517   79.549065  82.91447   86.797356  81.607704  85.35119\n",
            "  86.2793    85.77708   85.322655  83.930466  83.8464    85.78262\n",
            "  81.78909   82.417435  79.867256  81.49626   79.545044  80.21958\n",
            "  82.939064  86.9372    86.058174  83.30161   80.53725   86.005\n",
            "  84.221176  88.30948   87.563995  85.428856  83.63794   83.09333\n",
            "  82.96026   84.98128   84.477936  82.87454   78.528534  78.21904\n",
            "  80.331276  80.26173   74.27901   77.92282   87.58775   87.08472\n",
            "  85.69335   83.76455   83.81168   84.65521   82.94759   82.21487\n",
            "  85.30284   81.35165   82.9309    82.94761   82.048996  82.51333\n",
            "  80.31201   80.50911   82.89556   85.2705    85.30719   83.02244\n",
            "  84.23618   87.31795   86.66399   84.63037   79.15514   78.878044\n",
            "  79.40958   79.86457   79.90625   81.380615  82.88202   82.97161\n",
            "  83.31687   84.10722   78.84379   76.69011   78.88115   78.58606\n",
            "  81.705376  85.09568   86.84045   84.54152   85.90163   85.83601\n",
            "  83.82075   80.61694   80.3223    80.5596    82.84155   81.621574\n",
            "  82.874435  82.93618   86.03702   86.18897   82.050804  75.312935\n",
            "  80.42321   79.68846   79.28902   77.78584   75.848526  79.59065\n",
            "  84.052605  81.11325   77.11422   75.97056   81.30127   78.46097\n",
            "  80.59434   81.87698   83.29812   83.00734   79.569534  84.475624\n",
            "  85.54058   81.61204   79.56548   79.78493   81.24686   80.98271\n",
            "  83.90165   82.08396   77.32786   83.54696   83.25782   82.20602\n",
            "  83.81474   82.21356   86.525826  87.237816  83.44136   88.14537\n",
            "  85.90969   83.800064  84.62007   86.95087   90.21855   86.54407\n",
            "  81.53708   83.81798   82.92627   87.63327   84.79823   84.04449\n",
            "  83.28197   81.33324   78.877106  84.36036   82.28322   80.36018\n",
            "  80.6685    86.95562   87.61484   88.11645   82.73314   79.582375\n",
            "  84.421265  84.96389   82.682144  86.43603   85.961334  85.87967\n",
            "  89.790436  86.39051   87.19538   85.29541   84.24234   87.80375\n",
            "  89.27747   86.25556   87.95554   84.54024   83.04064   80.306984\n",
            "  78.23464   83.771416  83.86483   81.727974  82.45031   84.6551\n",
            "  86.16536   87.41823   83.55169   84.48164   83.71146   85.000725\n",
            "  86.49744   89.161705  86.599205  87.04889   88.203735  88.25917\n",
            "  83.9601    83.41814   82.88747   82.15769   85.07485   87.62625\n",
            "  87.41287   85.86752   88.346466  89.29287   92.30646   91.11225\n",
            "  82.99117   84.93704   87.208244  88.52416   89.00899 ]\n"
          ],
          "name": "stdout"
        }
      ]
    },
    {
      "cell_type": "code",
      "metadata": {
        "colab": {
          "base_uri": "https://localhost:8080/"
        },
        "id": "hR2BO0Dai_ZT",
        "outputId": "5f532d18-773c-4e48-c14a-0bb2b1011ac3"
      },
      "source": [
        "tf.keras.metrics.mean_absolute_error(x_valid, results).numpy()"
      ],
      "execution_count": 18,
      "outputs": [
        {
          "output_type": "execute_result",
          "data": {
            "text/plain": [
              "4.9880233"
            ]
          },
          "metadata": {
            "tags": []
          },
          "execution_count": 18
        }
      ]
    }
  ]
}