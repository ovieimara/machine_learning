{
  "nbformat": 4,
  "nbformat_minor": 0,
  "metadata": {
    "accelerator": "GPU",
    "colab": {
      "name": "NLP_Week4_Exercise_Shakespeare_Question.ipynb",
      "provenance": [],
      "toc_visible": true
    },
    "kernelspec": {
      "display_name": "Python 3",
      "name": "python3"
    }
  },
  "cells": [
    {
      "cell_type": "code",
      "metadata": {
        "id": "zX4Kg8DUTKWO"
      },
      "source": [
        "#@title Licensed under the Apache License, Version 2.0 (the \"License\");\n",
        "# you may not use this file except in compliance with the License.\n",
        "# You may obtain a copy of the License at\n",
        "#\n",
        "# https://www.apache.org/licenses/LICENSE-2.0\n",
        "#\n",
        "# Unless required by applicable law or agreed to in writing, software\n",
        "# distributed under the License is distributed on an \"AS IS\" BASIS,\n",
        "# WITHOUT WARRANTIES OR CONDITIONS OF ANY KIND, either express or implied.\n",
        "# See the License for the specific language governing permissions and\n",
        "# limitations under the License."
      ],
      "execution_count": null,
      "outputs": []
    },
    {
      "cell_type": "code",
      "metadata": {
        "id": "BOwsuGQQY9OL"
      },
      "source": [
        "from tensorflow.keras.preprocessing.sequence import pad_sequences\n",
        "from tensorflow.keras.layers import Embedding, LSTM, Dense, Dropout, Bidirectional\n",
        "from tensorflow.keras.preprocessing.text import Tokenizer\n",
        "from tensorflow.keras.models import Sequential\n",
        "from tensorflow.keras.optimizers import Adam\n",
        "### YOUR CODE HERE\n",
        "# Figure out how to import regularizers\n",
        "from tensorflow.keras.regularizers import l2\n",
        "from tensorflow.keras.regularizers import l1\n",
        "###\n",
        "import tensorflow.keras.utils as ku \n",
        "import numpy as np "
      ],
      "execution_count": 2,
      "outputs": []
    },
    {
      "cell_type": "code",
      "metadata": {
        "colab": {
          "base_uri": "https://localhost:8080/"
        },
        "id": "PRnDnCW-Z7qv",
        "outputId": "207b89e3-6d7a-46fc-aa5e-f7797d4667fa"
      },
      "source": [
        "tokenizer = Tokenizer()\n",
        "!wget --no-check-certificate \\\n",
        "    https://storage.googleapis.com/laurencemoroney-blog.appspot.com/sonnets.txt \\\n",
        "    -O /tmp/sonnets.txt\n",
        "data = open('/tmp/sonnets.txt').read()\n",
        "\n",
        "corpus = data.lower().split(\"\\n\")\n",
        "\n",
        "\n",
        "tokenizer.fit_on_texts(corpus)\n",
        "total_words = len(tokenizer.word_index) + 1\n",
        "\n",
        "# create input sequences using list of tokens\n",
        "input_sequences = []\n",
        "for line in corpus:\n",
        "\ttoken_list = tokenizer.texts_to_sequences([line])[0]\n",
        "\tfor i in range(1, len(token_list)):\n",
        "\t\tn_gram_sequence = token_list[:i+1]\n",
        "\t\tinput_sequences.append(n_gram_sequence)\n",
        "\n",
        "\n",
        "# pad sequences \n",
        "max_sequence_len = max([len(x) for x in input_sequences])\n",
        "input_sequences = np.array(pad_sequences(input_sequences, maxlen=max_sequence_len, padding='pre'))\n",
        "\n",
        "# create predictors and label\n",
        "predictors, label = input_sequences[:,:-1],input_sequences[:,-1]\n",
        "\n",
        "label = ku.to_categorical(label, num_classes=total_words)"
      ],
      "execution_count": 4,
      "outputs": [
        {
          "output_type": "stream",
          "text": [
            "--2021-07-20 19:58:19--  https://storage.googleapis.com/laurencemoroney-blog.appspot.com/sonnets.txt\n",
            "Resolving storage.googleapis.com (storage.googleapis.com)... 142.250.73.208, 142.250.73.240, 142.250.65.80, ...\n",
            "Connecting to storage.googleapis.com (storage.googleapis.com)|142.250.73.208|:443... connected.\n",
            "HTTP request sent, awaiting response... 200 OK\n",
            "Length: 93578 (91K) [text/plain]\n",
            "Saving to: ‘/tmp/sonnets.txt’\n",
            "\n",
            "\r/tmp/sonnets.txt      0%[                    ]       0  --.-KB/s               \r/tmp/sonnets.txt    100%[===================>]  91.38K  --.-KB/s    in 0.001s  \n",
            "\n",
            "2021-07-20 19:58:19 (109 MB/s) - ‘/tmp/sonnets.txt’ saved [93578/93578]\n",
            "\n"
          ],
          "name": "stdout"
        }
      ]
    },
    {
      "cell_type": "code",
      "metadata": {
        "colab": {
          "base_uri": "https://localhost:8080/"
        },
        "id": "w9vH8Y59ajYL",
        "outputId": "df34f58d-7518-49ee-8d32-b4019353ce58"
      },
      "source": [
        "model = Sequential()\n",
        "model.add( Embedding(total_words, 32, input_length=max_sequence_len-1))\n",
        "model.add(Bidirectional(LSTM(64, return_sequences=True)))\n",
        "model.add(Dropout(0.3))\n",
        "model.add(Bidirectional(LSTM(128)))\n",
        "model.add(Dense(512, activation='relu', kernel_regularizer=l2()))\n",
        "model.add(Dense(total_words, activation='sigmoid'))\n",
        "# Pick an optimizer\n",
        "adam = Adam(learning_rate=0.001)\n",
        "model.compile(loss='categorical_crossentropy', optimizer= adam, metrics=['accuracy']) # Pick a loss function and an optimizer\n",
        "print(model.summary())\n"
      ],
      "execution_count": 8,
      "outputs": [
        {
          "output_type": "stream",
          "text": [
            "Model: \"sequential_3\"\n",
            "_________________________________________________________________\n",
            "Layer (type)                 Output Shape              Param #   \n",
            "=================================================================\n",
            "embedding_2 (Embedding)      (None, 10, 32)            102752    \n",
            "_________________________________________________________________\n",
            "bidirectional_4 (Bidirection (None, 10, 128)           49664     \n",
            "_________________________________________________________________\n",
            "dropout_2 (Dropout)          (None, 10, 128)           0         \n",
            "_________________________________________________________________\n",
            "bidirectional_5 (Bidirection (None, 256)               263168    \n",
            "_________________________________________________________________\n",
            "dense_3 (Dense)              (None, 512)               131584    \n",
            "_________________________________________________________________\n",
            "dense_4 (Dense)              (None, 3211)              1647243   \n",
            "=================================================================\n",
            "Total params: 2,194,411\n",
            "Trainable params: 2,194,411\n",
            "Non-trainable params: 0\n",
            "_________________________________________________________________\n",
            "None\n"
          ],
          "name": "stdout"
        }
      ]
    },
    {
      "cell_type": "code",
      "metadata": {
        "colab": {
          "base_uri": "https://localhost:8080/"
        },
        "id": "AIg2f1HBxqof",
        "outputId": "1107eeb2-5c4f-4c8f-bae0-2fd808b76aab"
      },
      "source": [
        " history = model.fit(predictors, label, epochs=100, verbose=1)"
      ],
      "execution_count": 9,
      "outputs": [
        {
          "output_type": "stream",
          "text": [
            "Epoch 1/100\n",
            "484/484 [==============================] - 36s 61ms/step - loss: 7.0785 - accuracy: 0.0213\n",
            "Epoch 2/100\n",
            "484/484 [==============================] - 30s 61ms/step - loss: 6.5241 - accuracy: 0.0224\n",
            "Epoch 3/100\n",
            "484/484 [==============================] - 29s 61ms/step - loss: 6.4533 - accuracy: 0.0235\n",
            "Epoch 4/100\n",
            "484/484 [==============================] - 30s 62ms/step - loss: 6.3894 - accuracy: 0.0260\n",
            "Epoch 5/100\n",
            "484/484 [==============================] - 30s 62ms/step - loss: 6.3050 - accuracy: 0.0297\n",
            "Epoch 6/100\n",
            "484/484 [==============================] - 30s 62ms/step - loss: 6.2195 - accuracy: 0.0310\n",
            "Epoch 7/100\n",
            "484/484 [==============================] - 30s 63ms/step - loss: 6.1447 - accuracy: 0.0365\n",
            "Epoch 8/100\n",
            "484/484 [==============================] - 30s 63ms/step - loss: 6.0722 - accuracy: 0.0369\n",
            "Epoch 9/100\n",
            "484/484 [==============================] - 30s 62ms/step - loss: 6.0082 - accuracy: 0.0422\n",
            "Epoch 10/100\n",
            "484/484 [==============================] - 30s 63ms/step - loss: 5.9444 - accuracy: 0.0430\n",
            "Epoch 11/100\n",
            "484/484 [==============================] - 30s 62ms/step - loss: 5.8791 - accuracy: 0.0459\n",
            "Epoch 12/100\n",
            "484/484 [==============================] - 30s 63ms/step - loss: 5.8080 - accuracy: 0.0482\n",
            "Epoch 13/100\n",
            "484/484 [==============================] - 30s 62ms/step - loss: 5.7317 - accuracy: 0.0528\n",
            "Epoch 14/100\n",
            "484/484 [==============================] - 30s 63ms/step - loss: 5.6551 - accuracy: 0.0572\n",
            "Epoch 15/100\n",
            "484/484 [==============================] - 30s 62ms/step - loss: 5.5803 - accuracy: 0.0617\n",
            "Epoch 16/100\n",
            "484/484 [==============================] - 30s 63ms/step - loss: 5.5033 - accuracy: 0.0649\n",
            "Epoch 17/100\n",
            "484/484 [==============================] - 30s 63ms/step - loss: 5.4308 - accuracy: 0.0667\n",
            "Epoch 18/100\n",
            "484/484 [==============================] - 30s 62ms/step - loss: 5.3612 - accuracy: 0.0713\n",
            "Epoch 19/100\n",
            "484/484 [==============================] - 30s 62ms/step - loss: 5.2811 - accuracy: 0.0753\n",
            "Epoch 20/100\n",
            "484/484 [==============================] - 30s 62ms/step - loss: 5.2150 - accuracy: 0.0787\n",
            "Epoch 21/100\n",
            "484/484 [==============================] - 30s 63ms/step - loss: 5.1362 - accuracy: 0.0841\n",
            "Epoch 22/100\n",
            "484/484 [==============================] - 31s 63ms/step - loss: 5.0577 - accuracy: 0.0886\n",
            "Epoch 23/100\n",
            "484/484 [==============================] - 31s 63ms/step - loss: 4.9857 - accuracy: 0.0912\n",
            "Epoch 24/100\n",
            "484/484 [==============================] - 31s 63ms/step - loss: 4.9113 - accuracy: 0.0968\n",
            "Epoch 25/100\n",
            "484/484 [==============================] - 30s 63ms/step - loss: 4.8354 - accuracy: 0.1010\n",
            "Epoch 26/100\n",
            "484/484 [==============================] - 31s 63ms/step - loss: 4.7672 - accuracy: 0.1052\n",
            "Epoch 27/100\n",
            "484/484 [==============================] - 31s 63ms/step - loss: 4.6925 - accuracy: 0.1117\n",
            "Epoch 28/100\n",
            "484/484 [==============================] - 30s 63ms/step - loss: 4.6240 - accuracy: 0.1162\n",
            "Epoch 29/100\n",
            "484/484 [==============================] - 31s 63ms/step - loss: 4.5527 - accuracy: 0.1185\n",
            "Epoch 30/100\n",
            "484/484 [==============================] - 30s 63ms/step - loss: 4.4810 - accuracy: 0.1273\n",
            "Epoch 31/100\n",
            "484/484 [==============================] - 30s 63ms/step - loss: 4.4190 - accuracy: 0.1325\n",
            "Epoch 32/100\n",
            "484/484 [==============================] - 30s 62ms/step - loss: 4.3451 - accuracy: 0.1381\n",
            "Epoch 33/100\n",
            "484/484 [==============================] - 30s 63ms/step - loss: 4.2864 - accuracy: 0.1457\n",
            "Epoch 34/100\n",
            "484/484 [==============================] - 30s 63ms/step - loss: 4.2262 - accuracy: 0.1562\n",
            "Epoch 35/100\n",
            "484/484 [==============================] - 30s 62ms/step - loss: 4.1592 - accuracy: 0.1616\n",
            "Epoch 36/100\n",
            "484/484 [==============================] - 30s 62ms/step - loss: 4.1034 - accuracy: 0.1712\n",
            "Epoch 37/100\n",
            "484/484 [==============================] - 30s 62ms/step - loss: 4.0516 - accuracy: 0.1807\n",
            "Epoch 38/100\n",
            "484/484 [==============================] - 30s 62ms/step - loss: 3.9991 - accuracy: 0.1904\n",
            "Epoch 39/100\n",
            "484/484 [==============================] - 30s 63ms/step - loss: 3.9376 - accuracy: 0.2000\n",
            "Epoch 40/100\n",
            "484/484 [==============================] - 30s 62ms/step - loss: 3.8751 - accuracy: 0.2095\n",
            "Epoch 41/100\n",
            "484/484 [==============================] - 30s 63ms/step - loss: 3.8257 - accuracy: 0.2156\n",
            "Epoch 42/100\n",
            "484/484 [==============================] - 31s 63ms/step - loss: 3.7836 - accuracy: 0.2265\n",
            "Epoch 43/100\n",
            "484/484 [==============================] - 31s 63ms/step - loss: 3.7437 - accuracy: 0.2325\n",
            "Epoch 44/100\n",
            "484/484 [==============================] - 30s 63ms/step - loss: 3.6866 - accuracy: 0.2412\n",
            "Epoch 45/100\n",
            "484/484 [==============================] - 30s 63ms/step - loss: 3.6317 - accuracy: 0.2572\n",
            "Epoch 46/100\n",
            "484/484 [==============================] - 30s 62ms/step - loss: 3.5823 - accuracy: 0.2598\n",
            "Epoch 47/100\n",
            "484/484 [==============================] - 30s 63ms/step - loss: 3.5537 - accuracy: 0.2678\n",
            "Epoch 48/100\n",
            "484/484 [==============================] - 30s 62ms/step - loss: 3.5016 - accuracy: 0.2813\n",
            "Epoch 49/100\n",
            "484/484 [==============================] - 31s 63ms/step - loss: 3.4636 - accuracy: 0.2864\n",
            "Epoch 50/100\n",
            "484/484 [==============================] - 31s 63ms/step - loss: 3.4214 - accuracy: 0.2970\n",
            "Epoch 51/100\n",
            "484/484 [==============================] - 31s 63ms/step - loss: 3.3777 - accuracy: 0.3013\n",
            "Epoch 52/100\n",
            "484/484 [==============================] - 31s 63ms/step - loss: 3.3312 - accuracy: 0.3111\n",
            "Epoch 53/100\n",
            "484/484 [==============================] - 31s 63ms/step - loss: 3.2831 - accuracy: 0.3225\n",
            "Epoch 54/100\n",
            "484/484 [==============================] - 30s 63ms/step - loss: 3.2671 - accuracy: 0.3214\n",
            "Epoch 55/100\n",
            "484/484 [==============================] - 31s 63ms/step - loss: 3.2219 - accuracy: 0.3369\n",
            "Epoch 56/100\n",
            "484/484 [==============================] - 30s 62ms/step - loss: 3.1858 - accuracy: 0.3412\n",
            "Epoch 57/100\n",
            "484/484 [==============================] - 31s 63ms/step - loss: 3.1386 - accuracy: 0.3507\n",
            "Epoch 58/100\n",
            "484/484 [==============================] - 30s 63ms/step - loss: 3.1150 - accuracy: 0.3564\n",
            "Epoch 59/100\n",
            "484/484 [==============================] - 31s 63ms/step - loss: 3.0793 - accuracy: 0.3648\n",
            "Epoch 60/100\n",
            "484/484 [==============================] - 31s 63ms/step - loss: 3.0417 - accuracy: 0.3689\n",
            "Epoch 61/100\n",
            "484/484 [==============================] - 31s 64ms/step - loss: 3.0084 - accuracy: 0.3781\n",
            "Epoch 62/100\n",
            "484/484 [==============================] - 31s 63ms/step - loss: 2.9743 - accuracy: 0.3884\n",
            "Epoch 63/100\n",
            "484/484 [==============================] - 31s 64ms/step - loss: 2.9334 - accuracy: 0.4017\n",
            "Epoch 64/100\n",
            "484/484 [==============================] - 31s 63ms/step - loss: 2.9238 - accuracy: 0.4012\n",
            "Epoch 65/100\n",
            "484/484 [==============================] - 31s 63ms/step - loss: 2.8731 - accuracy: 0.4071\n",
            "Epoch 66/100\n",
            "484/484 [==============================] - 31s 64ms/step - loss: 2.8373 - accuracy: 0.4183\n",
            "Epoch 67/100\n",
            "484/484 [==============================] - 31s 64ms/step - loss: 2.8186 - accuracy: 0.4219\n",
            "Epoch 68/100\n",
            "484/484 [==============================] - 31s 64ms/step - loss: 2.7869 - accuracy: 0.4300\n",
            "Epoch 69/100\n",
            "484/484 [==============================] - 31s 64ms/step - loss: 2.7374 - accuracy: 0.4413\n",
            "Epoch 70/100\n",
            "484/484 [==============================] - 31s 64ms/step - loss: 2.7216 - accuracy: 0.4449\n",
            "Epoch 71/100\n",
            "484/484 [==============================] - 31s 64ms/step - loss: 2.6890 - accuracy: 0.4530\n",
            "Epoch 72/100\n",
            "484/484 [==============================] - 31s 64ms/step - loss: 2.6638 - accuracy: 0.4565\n",
            "Epoch 73/100\n",
            "484/484 [==============================] - 31s 64ms/step - loss: 2.6277 - accuracy: 0.4664\n",
            "Epoch 74/100\n",
            "484/484 [==============================] - 31s 64ms/step - loss: 2.6112 - accuracy: 0.4681\n",
            "Epoch 75/100\n",
            "484/484 [==============================] - 31s 64ms/step - loss: 2.5888 - accuracy: 0.4742\n",
            "Epoch 76/100\n",
            "484/484 [==============================] - 31s 64ms/step - loss: 2.5459 - accuracy: 0.4902\n",
            "Epoch 77/100\n",
            "484/484 [==============================] - 31s 65ms/step - loss: 2.5230 - accuracy: 0.4920\n",
            "Epoch 78/100\n",
            "484/484 [==============================] - 31s 64ms/step - loss: 2.4929 - accuracy: 0.4992\n",
            "Epoch 79/100\n",
            "484/484 [==============================] - 31s 64ms/step - loss: 2.4683 - accuracy: 0.5063\n",
            "Epoch 80/100\n",
            "484/484 [==============================] - 31s 64ms/step - loss: 2.4625 - accuracy: 0.5047\n",
            "Epoch 81/100\n",
            "484/484 [==============================] - 30s 63ms/step - loss: 2.4154 - accuracy: 0.5186\n",
            "Epoch 82/100\n",
            "484/484 [==============================] - 31s 63ms/step - loss: 2.4011 - accuracy: 0.5195\n",
            "Epoch 83/100\n",
            "484/484 [==============================] - 31s 63ms/step - loss: 2.3735 - accuracy: 0.5293\n",
            "Epoch 84/100\n",
            "484/484 [==============================] - 31s 64ms/step - loss: 2.3475 - accuracy: 0.5322\n",
            "Epoch 85/100\n",
            "484/484 [==============================] - 31s 63ms/step - loss: 2.3224 - accuracy: 0.5390\n",
            "Epoch 86/100\n",
            "484/484 [==============================] - 31s 63ms/step - loss: 2.2876 - accuracy: 0.5492\n",
            "Epoch 87/100\n",
            "484/484 [==============================] - 31s 64ms/step - loss: 2.2797 - accuracy: 0.5497\n",
            "Epoch 88/100\n",
            "484/484 [==============================] - 31s 64ms/step - loss: 2.2614 - accuracy: 0.5549\n",
            "Epoch 89/100\n",
            "484/484 [==============================] - 31s 64ms/step - loss: 2.2340 - accuracy: 0.5588\n",
            "Epoch 90/100\n",
            "484/484 [==============================] - 31s 64ms/step - loss: 2.2028 - accuracy: 0.5653\n",
            "Epoch 91/100\n",
            "484/484 [==============================] - 31s 64ms/step - loss: 2.1998 - accuracy: 0.5644\n",
            "Epoch 92/100\n",
            "484/484 [==============================] - 31s 64ms/step - loss: 2.1539 - accuracy: 0.5783\n",
            "Epoch 93/100\n",
            "484/484 [==============================] - 31s 64ms/step - loss: 2.1382 - accuracy: 0.5836\n",
            "Epoch 94/100\n",
            "484/484 [==============================] - 31s 64ms/step - loss: 2.1313 - accuracy: 0.5827\n",
            "Epoch 95/100\n",
            "484/484 [==============================] - 31s 64ms/step - loss: 2.1156 - accuracy: 0.5849\n",
            "Epoch 96/100\n",
            "484/484 [==============================] - 32s 65ms/step - loss: 2.1017 - accuracy: 0.5898\n",
            "Epoch 97/100\n",
            "484/484 [==============================] - 31s 65ms/step - loss: 2.0645 - accuracy: 0.6010\n",
            "Epoch 98/100\n",
            "484/484 [==============================] - 31s 65ms/step - loss: 2.0527 - accuracy: 0.6021\n",
            "Epoch 99/100\n",
            "484/484 [==============================] - 31s 65ms/step - loss: 2.0478 - accuracy: 0.6059\n",
            "Epoch 100/100\n",
            "484/484 [==============================] - 32s 65ms/step - loss: 2.0418 - accuracy: 0.6046\n"
          ],
          "name": "stdout"
        }
      ]
    },
    {
      "cell_type": "code",
      "metadata": {
        "colab": {
          "base_uri": "https://localhost:8080/",
          "height": 545
        },
        "id": "1fXTEO3GJ282",
        "outputId": "2af47fc2-69ae-4241-af9a-1dc2c36a5ac5"
      },
      "source": [
        "import matplotlib.pyplot as plt\n",
        "acc = history.history['accuracy']\n",
        "loss = history.history['loss']\n",
        "\n",
        "epochs = range(len(acc))\n",
        "\n",
        "plt.plot(epochs, acc, 'b', label='Training accuracy')\n",
        "plt.title('Training accuracy')\n",
        "\n",
        "plt.figure()\n",
        "\n",
        "plt.plot(epochs, loss, 'b', label='Training Loss')\n",
        "plt.title('Training loss')\n",
        "plt.legend()\n",
        "\n",
        "plt.show()"
      ],
      "execution_count": 10,
      "outputs": [
        {
          "output_type": "display_data",
          "data": {
            "image/png": "[encoded data removed]",
            "text/plain": [
              "<Figure size 432x288 with 1 Axes>"
            ]
          },
          "metadata": {
            "tags": [],
            "needs_background": "light"
          }
        },
        {
          "output_type": "display_data",
          "data": {
            "image/png": "[encoded data removed]",
            "text/plain": [
              "<Figure size 432x288 with 1 Axes>"
            ]
          },
          "metadata": {
            "tags": [],
            "needs_background": "light"
          }
        }
      ]
    },
    {
      "cell_type": "code",
      "metadata": {
        "colab": {
          "base_uri": "https://localhost:8080/"
        },
        "id": "6Vc6PHgxa6Hm",
        "outputId": "beacc955-5580-4ed1-bf94-506d7a60cf72"
      },
      "source": [
        "seed_text = \"Help me Obi Wan Kenobi, you're my only hope\"\n",
        "next_words = 100\n",
        "  \n",
        "for _ in range(next_words):\n",
        "\ttoken_list = tokenizer.texts_to_sequences([seed_text])[0]\n",
        "\ttoken_list = pad_sequences([token_list], maxlen=max_sequence_len-1, padding='pre')\n",
        "\tpredicted = model.predict_classes(token_list, verbose=0)\n",
        "\toutput_word = \"\"\n",
        "\tfor word, index in tokenizer.word_index.items():\n",
        "\t\tif index == predicted:\n",
        "\t\t\toutput_word = word\n",
        "\t\t\tbreak\n",
        "\tseed_text += \" \" + output_word\n",
        "print(seed_text)"
      ],
      "execution_count": 11,
      "outputs": [
        {
          "output_type": "stream",
          "text": [
            "/usr/local/lib/python3.7/dist-packages/tensorflow/python/keras/engine/sequential.py:455: UserWarning: `model.predict_classes()` is deprecated and will be removed after 2021-01-01. Please use instead:* `np.argmax(model.predict(x), axis=-1)`,   if your model does multi-class classification   (e.g. if it uses a `softmax` last-layer activation).* `(model.predict(x) > 0.5).astype(\"int32\")`,   if your model does binary classification   (e.g. if it uses a `sigmoid` last-layer activation).\n",
            "  warnings.warn('`model.predict_classes()` is deprecated and '\n"
          ],
          "name": "stderr"
        },
        {
          "output_type": "stream",
          "text": [
            "Help me Obi Wan Kenobi, you're my only hope in misuse me thee ' ' ' lie that my eye in this sport last it friend proceeds end none purpose not me made those rhyme rage ' bring a fiend place place find die taste are done as all the spite of store me chary lover confound remain woe ' ' glory 'tis thy love be it but as the tomb thy shade hooks slide translate translate held held held ' ' prove away told thy change thee shown bright true pen ' grow how prove me see told i bring me 'tis ' are truly fill stay when\n"
          ],
          "name": "stdout"
        }
      ]
    }
  ]
}